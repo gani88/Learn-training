{
 "cells": [
  {
   "cell_type": "markdown",
   "id": "370ca16f",
   "metadata": {
    "papermill": {
     "duration": 0.006589,
     "end_time": "2023-08-02T04:43:18.266476",
     "exception": false,
     "start_time": "2023-08-02T04:43:18.259887",
     "status": "completed"
    },
    "tags": []
   },
   "source": [
    "**This notebook is an exercise in the [Computer Vision](https://www.kaggle.com/learn/computer-vision) course.  You can reference the tutorial at [this link](https://www.kaggle.com/ryanholbrook/custom-convnets).**\n",
    "\n",
    "---\n"
   ]
  },
  {
   "cell_type": "markdown",
   "id": "c7a081ac",
   "metadata": {
    "papermill": {
     "duration": 0.00425,
     "end_time": "2023-08-02T04:43:18.275384",
     "exception": false,
     "start_time": "2023-08-02T04:43:18.271134",
     "status": "completed"
    },
    "tags": []
   },
   "source": [
    "# Introduction #\n",
    "\n",
    "In these exercises, you'll build a custom convnet with performance competitive to the VGG16 model from Lesson 1.\n",
    "\n",
    "Get started by running the code cell below."
   ]
  },
  {
   "cell_type": "code",
   "execution_count": 1,
   "id": "86583ee0",
   "metadata": {
    "execution": {
     "iopub.execute_input": "2023-08-02T04:43:18.286255Z",
     "iopub.status.busy": "2023-08-02T04:43:18.285583Z",
     "iopub.status.idle": "2023-08-02T04:43:35.086179Z",
     "shell.execute_reply": "2023-08-02T04:43:35.085144Z"
    },
    "papermill": {
     "duration": 16.809073,
     "end_time": "2023-08-02T04:43:35.088907",
     "exception": false,
     "start_time": "2023-08-02T04:43:18.279834",
     "status": "completed"
    },
    "tags": []
   },
   "outputs": [
    {
     "name": "stderr",
     "output_type": "stream",
     "text": [
      "/opt/conda/lib/python3.10/site-packages/scipy/__init__.py:146: UserWarning: A NumPy version >=1.16.5 and <1.23.0 is required for this version of SciPy (detected version 1.23.5\n",
      "  warnings.warn(f\"A NumPy version >={np_minversion} and <{np_maxversion}\"\n",
      "/opt/conda/lib/python3.10/site-packages/tensorflow_io/python/ops/__init__.py:98: UserWarning: unable to load libtensorflow_io_plugins.so: unable to open file: libtensorflow_io_plugins.so, from paths: ['/opt/conda/lib/python3.10/site-packages/tensorflow_io/python/ops/libtensorflow_io_plugins.so']\n",
      "caused by: ['/opt/conda/lib/python3.10/site-packages/tensorflow_io/python/ops/libtensorflow_io_plugins.so: undefined symbol: _ZN3tsl6StatusC1EN10tensorflow5error4CodeESt17basic_string_viewIcSt11char_traitsIcEENS_14SourceLocationE']\n",
      "  warnings.warn(f\"unable to load libtensorflow_io_plugins.so: {e}\")\n",
      "/opt/conda/lib/python3.10/site-packages/tensorflow_io/python/ops/__init__.py:104: UserWarning: file system plugins are not loaded: unable to open file: libtensorflow_io.so, from paths: ['/opt/conda/lib/python3.10/site-packages/tensorflow_io/python/ops/libtensorflow_io.so']\n",
      "caused by: ['/opt/conda/lib/python3.10/site-packages/tensorflow_io/python/ops/libtensorflow_io.so: undefined symbol: _ZTVN10tensorflow13GcsFileSystemE']\n",
      "  warnings.warn(f\"file system plugins are not loaded: {e}\")\n"
     ]
    },
    {
     "name": "stdout",
     "output_type": "stream",
     "text": [
      "Found 5117 files belonging to 2 classes.\n",
      "Found 5051 files belonging to 2 classes.\n"
     ]
    }
   ],
   "source": [
    "# Setup feedback system\n",
    "from learntools.core import binder\n",
    "binder.bind(globals())\n",
    "from learntools.computer_vision.ex5 import *\n",
    "\n",
    "# Imports\n",
    "import os, warnings\n",
    "import matplotlib.pyplot as plt\n",
    "from matplotlib import gridspec\n",
    "\n",
    "import numpy as np\n",
    "import tensorflow as tf\n",
    "from tensorflow.keras.preprocessing import image_dataset_from_directory\n",
    "\n",
    "# Reproducability\n",
    "def set_seed(seed=31415):\n",
    "    np.random.seed(seed)\n",
    "    tf.random.set_seed(seed)\n",
    "    os.environ['PYTHONHASHSEED'] = str(seed)\n",
    "    os.environ['TF_DETERMINISTIC_OPS'] = '1'\n",
    "set_seed()\n",
    "\n",
    "# Set Matplotlib defaults\n",
    "plt.rc('figure', autolayout=True)\n",
    "plt.rc('axes', labelweight='bold', labelsize='large',\n",
    "       titleweight='bold', titlesize=18, titlepad=10)\n",
    "plt.rc('image', cmap='magma')\n",
    "warnings.filterwarnings(\"ignore\") # to clean up output cells\n",
    "\n",
    "\n",
    "# Load training and validation sets\n",
    "ds_train_ = image_dataset_from_directory(\n",
    "    '../input/car-or-truck/train',\n",
    "    labels='inferred',\n",
    "    label_mode='binary',\n",
    "    image_size=[128, 128],\n",
    "    interpolation='nearest',\n",
    "    batch_size=64,\n",
    "    shuffle=True,\n",
    ")\n",
    "ds_valid_ = image_dataset_from_directory(\n",
    "    '../input/car-or-truck/valid',\n",
    "    labels='inferred',\n",
    "    label_mode='binary',\n",
    "    image_size=[128, 128],\n",
    "    interpolation='nearest',\n",
    "    batch_size=64,\n",
    "    shuffle=False,\n",
    ")\n",
    "\n",
    "# Data Pipeline\n",
    "def convert_to_float(image, label):\n",
    "    image = tf.image.convert_image_dtype(image, dtype=tf.float32)\n",
    "    return image, label\n",
    "\n",
    "AUTOTUNE = tf.data.experimental.AUTOTUNE\n",
    "ds_train = (\n",
    "    ds_train_\n",
    "    .map(convert_to_float)\n",
    "    .cache()\n",
    "    .prefetch(buffer_size=AUTOTUNE)\n",
    ")\n",
    "ds_valid = (\n",
    "    ds_valid_\n",
    "    .map(convert_to_float)\n",
    "    .cache()\n",
    "    .prefetch(buffer_size=AUTOTUNE)\n",
    ")\n"
   ]
  },
  {
   "cell_type": "markdown",
   "id": "4cf582cc",
   "metadata": {
    "papermill": {
     "duration": 0.004914,
     "end_time": "2023-08-02T04:43:35.099099",
     "exception": false,
     "start_time": "2023-08-02T04:43:35.094185",
     "status": "completed"
    },
    "tags": []
   },
   "source": [
    "# Design a Convnet #\n",
    "\n",
    "Let's design a convolutional network with a block architecture like we saw in the tutorial. The model from the example had three blocks, each with a single convolutional layer. Its performance on the \"Car or Truck\" problem was okay, but far from what the pretrained VGG16 could achieve. It might be that our simple network lacks the ability to extract sufficiently complex features. We could try improving the model either by adding more blocks or by adding convolutions to the blocks we have.\n",
    "\n",
    "Let's go with the second approach. We'll keep the three block structure, but increase the number of `Conv2D` layer in the second block to two, and in the third block to three.\n",
    "\n",
    "<figure>\n",
    "<!-- <img src=\"./images/2-convmodel-2.png\" width=\"250\" alt=\"Diagram of a convolutional model.\"> -->\n",
    "<img src=\"https://storage.googleapis.com/kaggle-media/learn/images/Vko6nCK.png\" width=\"250\" alt=\"Diagram of a convolutional model.\">\n",
    "</figure>\n",
    "\n",
    "# 1) Define Model #\n",
    "\n",
    "Given the diagram above, complete the model by defining the layers of the third block."
   ]
  },
  {
   "cell_type": "code",
   "execution_count": 2,
   "id": "41a93714",
   "metadata": {
    "execution": {
     "iopub.execute_input": "2023-08-02T04:43:35.111170Z",
     "iopub.status.busy": "2023-08-02T04:43:35.110164Z",
     "iopub.status.idle": "2023-08-02T04:43:35.260933Z",
     "shell.execute_reply": "2023-08-02T04:43:35.259835Z"
    },
    "lines_to_next_cell": 0,
    "papermill": {
     "duration": 0.158864,
     "end_time": "2023-08-02T04:43:35.263019",
     "exception": false,
     "start_time": "2023-08-02T04:43:35.104155",
     "status": "completed"
    },
    "tags": []
   },
   "outputs": [
    {
     "data": {
      "application/javascript": [
       "parent.postMessage({\"jupyterEvent\": \"custom.exercise_interaction\", \"data\": {\"outcomeType\": 1, \"valueTowardsCompletion\": 0.3333333333333333, \"interactionType\": 1, \"questionType\": 2, \"questionId\": \"1_Q1\", \"learnToolsVersion\": \"0.3.4\", \"failureMessage\": \"\", \"exceptionClass\": \"\", \"trace\": \"\"}}, \"*\")"
      ],
      "text/plain": [
       "<IPython.core.display.Javascript object>"
      ]
     },
     "metadata": {},
     "output_type": "display_data"
    },
    {
     "data": {
      "text/markdown": [
       "<span style=\"color:#33cc33\">Correct</span>"
      ],
      "text/plain": [
       "Correct"
      ]
     },
     "metadata": {},
     "output_type": "display_data"
    }
   ],
   "source": [
    "from tensorflow import keras\n",
    "from tensorflow.keras import layers\n",
    "\n",
    "model = keras.Sequential([\n",
    "    # Block One\n",
    "    layers.Conv2D(filters=32, kernel_size=3, activation='relu', padding='same',\n",
    "                  input_shape=[128, 128, 3]),\n",
    "    layers.MaxPool2D(),\n",
    "\n",
    "    # Block Two\n",
    "    layers.Conv2D(filters=64, kernel_size=3, activation='relu', padding='same'),\n",
    "    layers.MaxPool2D(),\n",
    "\n",
    "    # Block Three\n",
    "    # YOUR CODE HERE\n",
    "    layers.Conv2D(filters=128, kernel_size=3, activation='relu', padding='same'),\n",
    "    layers.Conv2D(filters=128, kernel_size=3, activation='relu', padding='same'),\n",
    "    layers.MaxPool2D(),\n",
    "    \n",
    "    # Head\n",
    "    layers.Flatten(),\n",
    "    layers.Dense(6, activation='relu'),\n",
    "    layers.Dropout(0.2),\n",
    "    layers.Dense(1, activation='sigmoid'),\n",
    "])\n",
    "\n",
    "# Check your answer\n",
    "q_1.check()"
   ]
  },
  {
   "cell_type": "code",
   "execution_count": 3,
   "id": "0491b218",
   "metadata": {
    "execution": {
     "iopub.execute_input": "2023-08-02T04:43:35.276238Z",
     "iopub.status.busy": "2023-08-02T04:43:35.274788Z",
     "iopub.status.idle": "2023-08-02T04:43:35.280032Z",
     "shell.execute_reply": "2023-08-02T04:43:35.279207Z"
    },
    "papermill": {
     "duration": 0.013596,
     "end_time": "2023-08-02T04:43:35.281873",
     "exception": false,
     "start_time": "2023-08-02T04:43:35.268277",
     "status": "completed"
    },
    "tags": []
   },
   "outputs": [],
   "source": [
    "# Lines below will give you a hint or solution code\n",
    "#q_1.hint()\n",
    "#q_1.solution()"
   ]
  },
  {
   "cell_type": "markdown",
   "id": "23eed52d",
   "metadata": {
    "papermill": {
     "duration": 0.00521,
     "end_time": "2023-08-02T04:43:35.292452",
     "exception": false,
     "start_time": "2023-08-02T04:43:35.287242",
     "status": "completed"
    },
    "tags": []
   },
   "source": [
    "# 2) Compile #\n",
    "\n",
    "To prepare for training, compile the model with an appropriate loss and accuracy metric for the \"Car or Truck\" dataset."
   ]
  },
  {
   "cell_type": "code",
   "execution_count": 4,
   "id": "9c5e381e",
   "metadata": {
    "execution": {
     "iopub.execute_input": "2023-08-02T04:43:35.304207Z",
     "iopub.status.busy": "2023-08-02T04:43:35.303939Z",
     "iopub.status.idle": "2023-08-02T04:43:35.323790Z",
     "shell.execute_reply": "2023-08-02T04:43:35.322780Z"
    },
    "lines_to_next_cell": 0,
    "papermill": {
     "duration": 0.02816,
     "end_time": "2023-08-02T04:43:35.325967",
     "exception": false,
     "start_time": "2023-08-02T04:43:35.297807",
     "status": "completed"
    },
    "tags": []
   },
   "outputs": [
    {
     "data": {
      "application/javascript": [
       "parent.postMessage({\"jupyterEvent\": \"custom.exercise_interaction\", \"data\": {\"outcomeType\": 1, \"valueTowardsCompletion\": 0.3333333333333333, \"interactionType\": 1, \"questionType\": 2, \"questionId\": \"2_Q2\", \"learnToolsVersion\": \"0.3.4\", \"failureMessage\": \"\", \"exceptionClass\": \"\", \"trace\": \"\"}}, \"*\")"
      ],
      "text/plain": [
       "<IPython.core.display.Javascript object>"
      ]
     },
     "metadata": {},
     "output_type": "display_data"
    },
    {
     "data": {
      "text/markdown": [
       "<span style=\"color:#33cc33\">Correct</span>"
      ],
      "text/plain": [
       "Correct"
      ]
     },
     "metadata": {},
     "output_type": "display_data"
    }
   ],
   "source": [
    "model.compile(\n",
    "    optimizer=tf.keras.optimizers.Adam(epsilon=0.01),\n",
    "    # YOUR CODE HERE: Add loss and metric\n",
    "    loss='binary_crossentropy',\n",
    "    metrics=['binary_accuracy']\n",
    ")\n",
    "\n",
    "# Check your answer\n",
    "q_2.check()"
   ]
  },
  {
   "cell_type": "code",
   "execution_count": 5,
   "id": "f5aff6ef",
   "metadata": {
    "execution": {
     "iopub.execute_input": "2023-08-02T04:43:35.338281Z",
     "iopub.status.busy": "2023-08-02T04:43:35.338001Z",
     "iopub.status.idle": "2023-08-02T04:43:35.353542Z",
     "shell.execute_reply": "2023-08-02T04:43:35.352688Z"
    },
    "lines_to_next_cell": 0,
    "papermill": {
     "duration": 0.023816,
     "end_time": "2023-08-02T04:43:35.355603",
     "exception": false,
     "start_time": "2023-08-02T04:43:35.331787",
     "status": "completed"
    },
    "tags": []
   },
   "outputs": [
    {
     "data": {
      "application/javascript": [
       "parent.postMessage({\"jupyterEvent\": \"custom.exercise_interaction\", \"data\": {\"outcomeType\": 1, \"valueTowardsCompletion\": 0.3333333333333333, \"interactionType\": 1, \"questionType\": 2, \"questionId\": \"2_Q2\", \"learnToolsVersion\": \"0.3.4\", \"failureMessage\": \"\", \"exceptionClass\": \"\", \"trace\": \"\"}}, \"*\")"
      ],
      "text/plain": [
       "<IPython.core.display.Javascript object>"
      ]
     },
     "metadata": {},
     "output_type": "display_data"
    },
    {
     "data": {
      "text/markdown": [
       "<span style=\"color:#33cc33\">Correct</span>"
      ],
      "text/plain": [
       "Correct"
      ]
     },
     "metadata": {},
     "output_type": "display_data"
    }
   ],
   "source": [
    "model.compile(\n",
    "    optimizer=tf.keras.optimizers.Adam(epsilon=0.01),\n",
    "    loss='binary_crossentropy',\n",
    "    metrics=['binary_accuracy'],\n",
    ")\n",
    "q_2.assert_check_passed()"
   ]
  },
  {
   "cell_type": "code",
   "execution_count": 6,
   "id": "93a46f38",
   "metadata": {
    "execution": {
     "iopub.execute_input": "2023-08-02T04:43:35.368280Z",
     "iopub.status.busy": "2023-08-02T04:43:35.368011Z",
     "iopub.status.idle": "2023-08-02T04:43:35.371615Z",
     "shell.execute_reply": "2023-08-02T04:43:35.370759Z"
    },
    "lines_to_next_cell": 0,
    "papermill": {
     "duration": 0.012243,
     "end_time": "2023-08-02T04:43:35.373620",
     "exception": false,
     "start_time": "2023-08-02T04:43:35.361377",
     "status": "completed"
    },
    "tags": []
   },
   "outputs": [],
   "source": [
    "# Lines below will give you a hint or solution code\n",
    "#q_2.hint()\n",
    "#q_2.solution()"
   ]
  },
  {
   "cell_type": "markdown",
   "id": "3bbb2d5e",
   "metadata": {
    "papermill": {
     "duration": 0.005543,
     "end_time": "2023-08-02T04:43:35.384826",
     "exception": false,
     "start_time": "2023-08-02T04:43:35.379283",
     "status": "completed"
    },
    "tags": []
   },
   "source": [
    "Finally, let's test the performance of this new model. First run this cell to fit the model to the training set."
   ]
  },
  {
   "cell_type": "code",
   "execution_count": 7,
   "id": "cbbdb036",
   "metadata": {
    "execution": {
     "iopub.execute_input": "2023-08-02T04:43:35.397300Z",
     "iopub.status.busy": "2023-08-02T04:43:35.397055Z",
     "iopub.status.idle": "2023-08-02T04:47:10.030663Z",
     "shell.execute_reply": "2023-08-02T04:47:10.029605Z"
    },
    "papermill": {
     "duration": 214.642654,
     "end_time": "2023-08-02T04:47:10.033218",
     "exception": false,
     "start_time": "2023-08-02T04:43:35.390564",
     "status": "completed"
    },
    "tags": []
   },
   "outputs": [
    {
     "name": "stdout",
     "output_type": "stream",
     "text": [
      "Epoch 1/50\n",
      "80/80 [==============================] - 44s 415ms/step - loss: 0.6724 - binary_accuracy: 0.5787 - val_loss: 0.6640 - val_binary_accuracy: 0.5785\n",
      "Epoch 2/50\n",
      "80/80 [==============================] - 3s 38ms/step - loss: 0.6613 - binary_accuracy: 0.5919 - val_loss: 0.6500 - val_binary_accuracy: 0.5993\n",
      "Epoch 3/50\n",
      "80/80 [==============================] - 3s 39ms/step - loss: 0.6503 - binary_accuracy: 0.6195 - val_loss: 0.6458 - val_binary_accuracy: 0.5906\n",
      "Epoch 4/50\n",
      "80/80 [==============================] - 3s 38ms/step - loss: 0.6393 - binary_accuracy: 0.6351 - val_loss: 0.6332 - val_binary_accuracy: 0.6126\n",
      "Epoch 5/50\n",
      "80/80 [==============================] - 3s 38ms/step - loss: 0.6307 - binary_accuracy: 0.6480 - val_loss: 0.6265 - val_binary_accuracy: 0.6205\n",
      "Epoch 6/50\n",
      "80/80 [==============================] - 3s 39ms/step - loss: 0.6173 - binary_accuracy: 0.6611 - val_loss: 0.6108 - val_binary_accuracy: 0.6799\n",
      "Epoch 7/50\n",
      "80/80 [==============================] - 3s 40ms/step - loss: 0.6099 - binary_accuracy: 0.6834 - val_loss: 0.5997 - val_binary_accuracy: 0.6919\n",
      "Epoch 8/50\n",
      "80/80 [==============================] - 3s 39ms/step - loss: 0.5961 - binary_accuracy: 0.7022 - val_loss: 0.5936 - val_binary_accuracy: 0.7052\n",
      "Epoch 9/50\n",
      "80/80 [==============================] - 3s 38ms/step - loss: 0.5830 - binary_accuracy: 0.7239 - val_loss: 0.5840 - val_binary_accuracy: 0.7149\n",
      "Epoch 10/50\n",
      "80/80 [==============================] - 3s 38ms/step - loss: 0.5636 - binary_accuracy: 0.7395 - val_loss: 0.5557 - val_binary_accuracy: 0.7331\n",
      "Epoch 11/50\n",
      "80/80 [==============================] - 3s 38ms/step - loss: 0.5327 - binary_accuracy: 0.7512 - val_loss: 0.5425 - val_binary_accuracy: 0.7379\n",
      "Epoch 12/50\n",
      "80/80 [==============================] - 3s 38ms/step - loss: 0.5112 - binary_accuracy: 0.7628 - val_loss: 0.5268 - val_binary_accuracy: 0.7519\n",
      "Epoch 13/50\n",
      "80/80 [==============================] - 3s 38ms/step - loss: 0.4771 - binary_accuracy: 0.7856 - val_loss: 0.4841 - val_binary_accuracy: 0.7864\n",
      "Epoch 14/50\n",
      "80/80 [==============================] - 3s 38ms/step - loss: 0.4553 - binary_accuracy: 0.8036 - val_loss: 0.5041 - val_binary_accuracy: 0.7670\n",
      "Epoch 15/50\n",
      "80/80 [==============================] - 3s 38ms/step - loss: 0.4249 - binary_accuracy: 0.8171 - val_loss: 0.4634 - val_binary_accuracy: 0.7802\n",
      "Epoch 16/50\n",
      "80/80 [==============================] - 3s 40ms/step - loss: 0.4041 - binary_accuracy: 0.8282 - val_loss: 0.4669 - val_binary_accuracy: 0.7876\n",
      "Epoch 17/50\n",
      "80/80 [==============================] - 3s 39ms/step - loss: 0.3731 - binary_accuracy: 0.8470 - val_loss: 0.4488 - val_binary_accuracy: 0.8107\n",
      "Epoch 18/50\n",
      "80/80 [==============================] - 3s 40ms/step - loss: 0.3543 - binary_accuracy: 0.8560 - val_loss: 0.4762 - val_binary_accuracy: 0.7701\n",
      "Epoch 19/50\n",
      "80/80 [==============================] - 3s 39ms/step - loss: 0.3404 - binary_accuracy: 0.8648 - val_loss: 0.5503 - val_binary_accuracy: 0.7060\n",
      "Epoch 20/50\n",
      "80/80 [==============================] - 3s 39ms/step - loss: 0.3166 - binary_accuracy: 0.8741 - val_loss: 0.4742 - val_binary_accuracy: 0.7787\n",
      "Epoch 21/50\n",
      "80/80 [==============================] - 3s 39ms/step - loss: 0.2897 - binary_accuracy: 0.8837 - val_loss: 0.4471 - val_binary_accuracy: 0.7981\n",
      "Epoch 22/50\n",
      "80/80 [==============================] - 3s 39ms/step - loss: 0.2622 - binary_accuracy: 0.8988 - val_loss: 0.4672 - val_binary_accuracy: 0.7828\n",
      "Epoch 23/50\n",
      "80/80 [==============================] - 3s 39ms/step - loss: 0.2490 - binary_accuracy: 0.9117 - val_loss: 0.4611 - val_binary_accuracy: 0.7836\n",
      "Epoch 24/50\n",
      "80/80 [==============================] - 3s 39ms/step - loss: 0.2316 - binary_accuracy: 0.9113 - val_loss: 0.4694 - val_binary_accuracy: 0.8111\n",
      "Epoch 25/50\n",
      "80/80 [==============================] - 3s 41ms/step - loss: 0.2487 - binary_accuracy: 0.9052 - val_loss: 0.5074 - val_binary_accuracy: 0.8270\n",
      "Epoch 26/50\n",
      "80/80 [==============================] - 3s 39ms/step - loss: 0.2213 - binary_accuracy: 0.9179 - val_loss: 0.5326 - val_binary_accuracy: 0.8198\n",
      "Epoch 27/50\n",
      "80/80 [==============================] - 3s 39ms/step - loss: 0.2134 - binary_accuracy: 0.9244 - val_loss: 0.5865 - val_binary_accuracy: 0.8260\n",
      "Epoch 28/50\n",
      "80/80 [==============================] - 3s 39ms/step - loss: 0.1944 - binary_accuracy: 0.9328 - val_loss: 0.6486 - val_binary_accuracy: 0.8240\n",
      "Epoch 29/50\n",
      "80/80 [==============================] - 3s 39ms/step - loss: 0.1863 - binary_accuracy: 0.9298 - val_loss: 0.6847 - val_binary_accuracy: 0.8185\n",
      "Epoch 30/50\n",
      "80/80 [==============================] - 3s 39ms/step - loss: 0.1673 - binary_accuracy: 0.9431 - val_loss: 0.4925 - val_binary_accuracy: 0.8442\n",
      "Epoch 31/50\n",
      "80/80 [==============================] - 3s 39ms/step - loss: 0.1231 - binary_accuracy: 0.9652 - val_loss: 0.6677 - val_binary_accuracy: 0.8321\n",
      "Epoch 32/50\n",
      "80/80 [==============================] - 3s 39ms/step - loss: 0.1098 - binary_accuracy: 0.9699 - val_loss: 0.5778 - val_binary_accuracy: 0.8478\n",
      "Epoch 33/50\n",
      "80/80 [==============================] - 3s 39ms/step - loss: 0.1027 - binary_accuracy: 0.9736 - val_loss: 0.5928 - val_binary_accuracy: 0.8472\n",
      "Epoch 34/50\n",
      "80/80 [==============================] - 4s 46ms/step - loss: 0.0990 - binary_accuracy: 0.9736 - val_loss: 0.6603 - val_binary_accuracy: 0.8331\n",
      "Epoch 35/50\n",
      "80/80 [==============================] - 3s 40ms/step - loss: 0.0990 - binary_accuracy: 0.9711 - val_loss: 0.7082 - val_binary_accuracy: 0.8394\n",
      "Epoch 36/50\n",
      "80/80 [==============================] - 3s 39ms/step - loss: 0.0910 - binary_accuracy: 0.9742 - val_loss: 0.7630 - val_binary_accuracy: 0.8268\n",
      "Epoch 37/50\n",
      "80/80 [==============================] - 3s 39ms/step - loss: 0.0883 - binary_accuracy: 0.9754 - val_loss: 0.7504 - val_binary_accuracy: 0.8434\n",
      "Epoch 38/50\n",
      "80/80 [==============================] - 3s 39ms/step - loss: 0.0925 - binary_accuracy: 0.9754 - val_loss: 0.5985 - val_binary_accuracy: 0.8462\n",
      "Epoch 39/50\n",
      "80/80 [==============================] - 3s 39ms/step - loss: 0.0807 - binary_accuracy: 0.9795 - val_loss: 0.5620 - val_binary_accuracy: 0.8381\n",
      "Epoch 40/50\n",
      "80/80 [==============================] - 3s 39ms/step - loss: 0.0745 - binary_accuracy: 0.9814 - val_loss: 0.6351 - val_binary_accuracy: 0.8080\n",
      "Epoch 41/50\n",
      "80/80 [==============================] - 3s 40ms/step - loss: 0.0789 - binary_accuracy: 0.9771 - val_loss: 0.6256 - val_binary_accuracy: 0.8276\n",
      "Epoch 42/50\n",
      "80/80 [==============================] - 3s 39ms/step - loss: 0.0630 - binary_accuracy: 0.9838 - val_loss: 0.6570 - val_binary_accuracy: 0.8293\n",
      "Epoch 43/50\n",
      "80/80 [==============================] - 3s 41ms/step - loss: 0.0673 - binary_accuracy: 0.9832 - val_loss: 0.6382 - val_binary_accuracy: 0.8470\n",
      "Epoch 44/50\n",
      "80/80 [==============================] - 3s 40ms/step - loss: 0.0685 - binary_accuracy: 0.9816 - val_loss: 0.6358 - val_binary_accuracy: 0.8464\n",
      "Epoch 45/50\n",
      "80/80 [==============================] - 3s 39ms/step - loss: 0.0670 - binary_accuracy: 0.9820 - val_loss: 0.8038 - val_binary_accuracy: 0.8519\n",
      "Epoch 46/50\n",
      "80/80 [==============================] - 3s 39ms/step - loss: 0.0585 - binary_accuracy: 0.9850 - val_loss: 0.7634 - val_binary_accuracy: 0.8456\n",
      "Epoch 47/50\n",
      "80/80 [==============================] - 3s 39ms/step - loss: 0.0666 - binary_accuracy: 0.9816 - val_loss: 0.7293 - val_binary_accuracy: 0.8487\n",
      "Epoch 48/50\n",
      "80/80 [==============================] - 3s 39ms/step - loss: 0.0560 - binary_accuracy: 0.9857 - val_loss: 1.0935 - val_binary_accuracy: 0.8373\n",
      "Epoch 49/50\n",
      "80/80 [==============================] - 3s 39ms/step - loss: 0.0599 - binary_accuracy: 0.9834 - val_loss: 1.0061 - val_binary_accuracy: 0.8388\n",
      "Epoch 50/50\n",
      "80/80 [==============================] - 3s 40ms/step - loss: 0.0568 - binary_accuracy: 0.9838 - val_loss: 0.8959 - val_binary_accuracy: 0.8466\n"
     ]
    }
   ],
   "source": [
    "history = model.fit(\n",
    "    ds_train,\n",
    "    validation_data=ds_valid,\n",
    "    epochs=50,\n",
    ")"
   ]
  },
  {
   "cell_type": "markdown",
   "id": "2fd004d0",
   "metadata": {
    "papermill": {
     "duration": 0.165397,
     "end_time": "2023-08-02T04:47:10.364895",
     "exception": false,
     "start_time": "2023-08-02T04:47:10.199498",
     "status": "completed"
    },
    "tags": []
   },
   "source": [
    "And now run the cell below to plot the loss and metric curves for this training run."
   ]
  },
  {
   "cell_type": "code",
   "execution_count": 8,
   "id": "d2c61cb8",
   "metadata": {
    "execution": {
     "iopub.execute_input": "2023-08-02T04:47:10.701677Z",
     "iopub.status.busy": "2023-08-02T04:47:10.700623Z",
     "iopub.status.idle": "2023-08-02T04:47:11.599503Z",
     "shell.execute_reply": "2023-08-02T04:47:11.598600Z"
    },
    "papermill": {
     "duration": 1.071057,
     "end_time": "2023-08-02T04:47:11.601499",
     "exception": false,
     "start_time": "2023-08-02T04:47:10.530442",
     "status": "completed"
    },
    "tags": []
   },
   "outputs": [
    {
     "data": {
      "image/png": "[encoded data removed]",
      "text/plain": [
       "<Figure size 640x480 with 1 Axes>"
      ]
     },
     "metadata": {},
     "output_type": "display_data"
    },
    {
     "data": {
      "image/png": "[encoded data removed]",
      "text/plain": [
       "<Figure size 640x480 with 1 Axes>"
      ]
     },
     "metadata": {},
     "output_type": "display_data"
    }
   ],
   "source": [
    "import pandas as pd\n",
    "history_frame = pd.DataFrame(history.history)\n",
    "history_frame.loc[:, ['loss', 'val_loss']].plot()\n",
    "history_frame.loc[:, ['binary_accuracy', 'val_binary_accuracy']].plot();"
   ]
  },
  {
   "cell_type": "markdown",
   "id": "ff1289a6",
   "metadata": {
    "papermill": {
     "duration": 0.166742,
     "end_time": "2023-08-02T04:47:11.937217",
     "exception": false,
     "start_time": "2023-08-02T04:47:11.770475",
     "status": "completed"
    },
    "tags": []
   },
   "source": [
    "# 3) Train the Model #\n",
    "\n",
    "How would you interpret these training curves? Did this model improve upon the model from the tutorial?"
   ]
  },
  {
   "cell_type": "code",
   "execution_count": 9,
   "id": "dd4dfbf5",
   "metadata": {
    "execution": {
     "iopub.execute_input": "2023-08-02T04:47:12.274365Z",
     "iopub.status.busy": "2023-08-02T04:47:12.274006Z",
     "iopub.status.idle": "2023-08-02T04:47:12.283468Z",
     "shell.execute_reply": "2023-08-02T04:47:12.282536Z"
    },
    "lines_to_next_cell": 0,
    "papermill": {
     "duration": 0.181157,
     "end_time": "2023-08-02T04:47:12.285396",
     "exception": false,
     "start_time": "2023-08-02T04:47:12.104239",
     "status": "completed"
    },
    "tags": []
   },
   "outputs": [
    {
     "data": {
      "application/javascript": [
       "parent.postMessage({\"jupyterEvent\": \"custom.exercise_interaction\", \"data\": {\"outcomeType\": 1, \"valueTowardsCompletion\": 0.3333333333333333, \"interactionType\": 1, \"questionType\": 4, \"questionId\": \"3_Q3\", \"learnToolsVersion\": \"0.3.4\", \"failureMessage\": \"\", \"exceptionClass\": \"\", \"trace\": \"\"}}, \"*\")"
      ],
      "text/plain": [
       "<IPython.core.display.Javascript object>"
      ]
     },
     "metadata": {},
     "output_type": "display_data"
    },
    {
     "data": {
      "text/markdown": [
       "<span style=\"color:#33cc33\">Correct:</span> \n",
       "\n",
       "\n",
       "The learning curves for the model from the tutorial diverged fairly rapidly. This would indicate that it was prone to overfitting and in need of some regularization. The additional layer in our new model would make it even more prone to overfitting. However, adding some regularization with the `Dropout` layer helped prevent this. These changes improved the validation accuracy of the model by several points.\n"
      ],
      "text/plain": [
       "Correct: \n",
       "\n",
       "\n",
       "The learning curves for the model from the tutorial diverged fairly rapidly. This would indicate that it was prone to overfitting and in need of some regularization. The additional layer in our new model would make it even more prone to overfitting. However, adding some regularization with the `Dropout` layer helped prevent this. These changes improved the validation accuracy of the model by several points."
      ]
     },
     "metadata": {},
     "output_type": "display_data"
    }
   ],
   "source": [
    "# View the solution (Run this code cell to receive credit!)\n",
    "q_3.check()"
   ]
  },
  {
   "cell_type": "markdown",
   "id": "c973c4e9",
   "metadata": {
    "papermill": {
     "duration": 0.169301,
     "end_time": "2023-08-02T04:47:12.632164",
     "exception": false,
     "start_time": "2023-08-02T04:47:12.462863",
     "status": "completed"
    },
    "tags": []
   },
   "source": [
    "# Conclusion #\n",
    "\n",
    "These exercises showed you how to design a custom convolutional network to solve a specific classification problem. Though most models these days will be built on top of a pretrained base, it certain circumstances a smaller custom convnet might still be preferable -- such as with a smaller or unusual dataset or when computing resources are very limited. As you saw here, for certain problems they can perform just as well as a pretrained model.\n",
    "\n",
    "# Keep Going #\n",
    "\n",
    "Continue on to [**Lesson 6**](https://www.kaggle.com/ryanholbrook/data-augmentation), where you'll learn a widely-used technique that can give a boost to your training data: **data augmentation**."
   ]
  },
  {
   "cell_type": "markdown",
   "id": "49da6137",
   "metadata": {
    "papermill": {
     "duration": 0.166963,
     "end_time": "2023-08-02T04:47:12.967940",
     "exception": false,
     "start_time": "2023-08-02T04:47:12.800977",
     "status": "completed"
    },
    "tags": []
   },
   "source": [
    "---\n",
    "\n",
    "\n",
    "\n",
    "\n",
    "*Have questions or comments? Visit the [course discussion forum](https://www.kaggle.com/learn/computer-vision/discussion) to chat with other learners.*"
   ]
  }
 ],
 "metadata": {
  "kernelspec": {
   "display_name": "Python 3",
   "language": "python",
   "name": "python3"
  },
  "language_info": {
   "codemirror_mode": {
    "name": "ipython",
    "version": 3
   },
   "file_extension": ".py",
   "mimetype": "text/x-python",
   "name": "python",
   "nbconvert_exporter": "python",
   "pygments_lexer": "ipython3",
   "version": "3.10.12"
  },
  "papermill": {
   "default_parameters": {},
   "duration": 248.840029,
   "end_time": "2023-08-02T04:47:17.259464",
   "environment_variables": {},
   "exception": null,
   "input_path": "__notebook__.ipynb",
   "output_path": "__notebook__.ipynb",
   "parameters": {},
   "start_time": "2023-08-02T04:43:08.419435",
   "version": "2.4.0"
  }
 },
 "nbformat": 4,
 "nbformat_minor": 5
}
