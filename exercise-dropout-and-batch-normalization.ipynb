{
 "cells": [
  {
   "cell_type": "markdown",
   "id": "00ad3b3a",
   "metadata": {
    "papermill": {
     "duration": 0.006658,
     "end_time": "2023-07-31T00:59:39.322400",
     "exception": false,
     "start_time": "2023-07-31T00:59:39.315742",
     "status": "completed"
    },
    "tags": []
   },
   "source": [
    "**This notebook is an exercise in the [Intro to Deep Learning](https://www.kaggle.com/learn/intro-to-deep-learning) course.  You can reference the tutorial at [this link](https://www.kaggle.com/ryanholbrook/dropout-and-batch-normalization).**\n",
    "\n",
    "---\n"
   ]
  },
  {
   "cell_type": "markdown",
   "id": "fcfd11c1",
   "metadata": {
    "papermill": {
     "duration": 0.005778,
     "end_time": "2023-07-31T00:59:39.334289",
     "exception": false,
     "start_time": "2023-07-31T00:59:39.328511",
     "status": "completed"
    },
    "tags": []
   },
   "source": [
    "# Introduction #\n",
    "\n",
    "In this exercise, you'll add dropout to the *Spotify* model from Exercise 4 and see how batch normalization can let you successfully train models on difficult datasets.\n",
    "\n",
    "Run the next cell to get started!"
   ]
  },
  {
   "cell_type": "code",
   "execution_count": 1,
   "id": "d54d19cb",
   "metadata": {
    "execution": {
     "iopub.execute_input": "2023-07-31T00:59:39.348463Z",
     "iopub.status.busy": "2023-07-31T00:59:39.347511Z",
     "iopub.status.idle": "2023-07-31T00:59:39.390223Z",
     "shell.execute_reply": "2023-07-31T00:59:39.389385Z"
    },
    "papermill": {
     "duration": 0.052294,
     "end_time": "2023-07-31T00:59:39.392608",
     "exception": false,
     "start_time": "2023-07-31T00:59:39.340314",
     "status": "completed"
    },
    "tags": []
   },
   "outputs": [
    {
     "name": "stderr",
     "output_type": "stream",
     "text": [
      "/tmp/ipykernel_23/195640296.py:3: MatplotlibDeprecationWarning: The seaborn styles shipped by Matplotlib are deprecated since 3.6, as they no longer correspond to the styles shipped by seaborn. However, they will remain available as 'seaborn-v0_8-<style>'. Alternatively, directly use the seaborn API instead.\n",
      "  plt.style.use('seaborn-whitegrid')\n"
     ]
    }
   ],
   "source": [
    "# Setup plotting\n",
    "import matplotlib.pyplot as plt\n",
    "plt.style.use('seaborn-whitegrid')\n",
    "# Set Matplotlib defaults\n",
    "plt.rc('figure', autolayout=True)\n",
    "plt.rc('axes', labelweight='bold', labelsize='large',\n",
    "       titleweight='bold', titlesize=18, titlepad=10)\n",
    "plt.rc('animation', html='html5')\n",
    "\n",
    "# Setup feedback system\n",
    "from learntools.core import binder\n",
    "binder.bind(globals())\n",
    "from learntools.deep_learning_intro.ex5 import *"
   ]
  },
  {
   "cell_type": "markdown",
   "id": "64cb0194",
   "metadata": {
    "papermill": {
     "duration": 0.005852,
     "end_time": "2023-07-31T00:59:39.404608",
     "exception": false,
     "start_time": "2023-07-31T00:59:39.398756",
     "status": "completed"
    },
    "tags": []
   },
   "source": [
    "First load the *Spotify* dataset."
   ]
  },
  {
   "cell_type": "code",
   "execution_count": null,
   "id": "f81629c5",
   "metadata": {
    "papermill": {
     "duration": 0.005885,
     "end_time": "2023-07-31T00:59:39.416516",
     "exception": false,
     "start_time": "2023-07-31T00:59:39.410631",
     "status": "completed"
    },
    "tags": []
   },
   "outputs": [],
   "source": []
  },
  {
   "cell_type": "code",
   "execution_count": 2,
   "id": "c0f19800",
   "metadata": {
    "execution": {
     "iopub.execute_input": "2023-07-31T00:59:39.429755Z",
     "iopub.status.busy": "2023-07-31T00:59:39.429464Z",
     "iopub.status.idle": "2023-07-31T00:59:48.695029Z",
     "shell.execute_reply": "2023-07-31T00:59:48.693755Z"
    },
    "papermill": {
     "duration": 9.274927,
     "end_time": "2023-07-31T00:59:48.697457",
     "exception": false,
     "start_time": "2023-07-31T00:59:39.422530",
     "status": "completed"
    },
    "tags": []
   },
   "outputs": [
    {
     "name": "stderr",
     "output_type": "stream",
     "text": [
      "/opt/conda/lib/python3.10/site-packages/scipy/__init__.py:146: UserWarning: A NumPy version >=1.16.5 and <1.23.0 is required for this version of SciPy (detected version 1.23.5\n",
      "  warnings.warn(f\"A NumPy version >={np_minversion} and <{np_maxversion}\"\n",
      "/opt/conda/lib/python3.10/site-packages/tensorflow_io/python/ops/__init__.py:98: UserWarning: unable to load libtensorflow_io_plugins.so: unable to open file: libtensorflow_io_plugins.so, from paths: ['/opt/conda/lib/python3.10/site-packages/tensorflow_io/python/ops/libtensorflow_io_plugins.so']\n",
      "caused by: ['/opt/conda/lib/python3.10/site-packages/tensorflow_io/python/ops/libtensorflow_io_plugins.so: undefined symbol: _ZN3tsl6StatusC1EN10tensorflow5error4CodeESt17basic_string_viewIcSt11char_traitsIcEENS_14SourceLocationE']\n",
      "  warnings.warn(f\"unable to load libtensorflow_io_plugins.so: {e}\")\n",
      "/opt/conda/lib/python3.10/site-packages/tensorflow_io/python/ops/__init__.py:104: UserWarning: file system plugins are not loaded: unable to open file: libtensorflow_io.so, from paths: ['/opt/conda/lib/python3.10/site-packages/tensorflow_io/python/ops/libtensorflow_io.so']\n",
      "caused by: ['/opt/conda/lib/python3.10/site-packages/tensorflow_io/python/ops/libtensorflow_io.so: undefined symbol: _ZTVN10tensorflow13GcsFileSystemE']\n",
      "  warnings.warn(f\"file system plugins are not loaded: {e}\")\n"
     ]
    },
    {
     "name": "stdout",
     "output_type": "stream",
     "text": [
      "Input shape: [18]\n"
     ]
    }
   ],
   "source": [
    "import pandas as pd\n",
    "from sklearn.preprocessing import StandardScaler, OneHotEncoder\n",
    "from sklearn.compose import make_column_transformer\n",
    "from sklearn.model_selection import GroupShuffleSplit\n",
    "\n",
    "from tensorflow import keras\n",
    "from tensorflow.keras import layers\n",
    "from tensorflow.keras import callbacks\n",
    "\n",
    "spotify = pd.read_csv('../input/dl-course-data/spotify.csv')\n",
    "\n",
    "X = spotify.copy().dropna()\n",
    "y = X.pop('track_popularity')\n",
    "artists = X['track_artist']\n",
    "\n",
    "features_num = ['danceability', 'energy', 'key', 'loudness', 'mode',\n",
    "                'speechiness', 'acousticness', 'instrumentalness',\n",
    "                'liveness', 'valence', 'tempo', 'duration_ms']\n",
    "features_cat = ['playlist_genre']\n",
    "\n",
    "preprocessor = make_column_transformer(\n",
    "    (StandardScaler(), features_num),\n",
    "    (OneHotEncoder(), features_cat),\n",
    ")\n",
    "\n",
    "def group_split(X, y, group, train_size=0.75):\n",
    "    splitter = GroupShuffleSplit(train_size=train_size)\n",
    "    train, test = next(splitter.split(X, y, groups=group))\n",
    "    return (X.iloc[train], X.iloc[test], y.iloc[train], y.iloc[test])\n",
    "\n",
    "X_train, X_valid, y_train, y_valid = group_split(X, y, artists)\n",
    "\n",
    "X_train = preprocessor.fit_transform(X_train)\n",
    "X_valid = preprocessor.transform(X_valid)\n",
    "y_train = y_train / 100\n",
    "y_valid = y_valid / 100\n",
    "\n",
    "input_shape = [X_train.shape[1]]\n",
    "print(\"Input shape: {}\".format(input_shape))"
   ]
  },
  {
   "cell_type": "markdown",
   "id": "7843b43a",
   "metadata": {
    "papermill": {
     "duration": 0.006209,
     "end_time": "2023-07-31T00:59:48.710342",
     "exception": false,
     "start_time": "2023-07-31T00:59:48.704133",
     "status": "completed"
    },
    "tags": []
   },
   "source": [
    "# 1) Add Dropout to Spotify Model\n",
    "\n",
    "Here is the last model from Exercise 4. Add two dropout layers, one after the `Dense` layer with 128 units, and one after the `Dense` layer with 64 units. Set the dropout rate on both to `0.3`."
   ]
  },
  {
   "cell_type": "code",
   "execution_count": 3,
   "id": "3b4ceeba",
   "metadata": {
    "execution": {
     "iopub.execute_input": "2023-07-31T00:59:48.724571Z",
     "iopub.status.busy": "2023-07-31T00:59:48.724279Z",
     "iopub.status.idle": "2023-07-31T00:59:51.636983Z",
     "shell.execute_reply": "2023-07-31T00:59:51.636054Z"
    },
    "lines_to_next_cell": 2,
    "papermill": {
     "duration": 2.922322,
     "end_time": "2023-07-31T00:59:51.639250",
     "exception": false,
     "start_time": "2023-07-31T00:59:48.716928",
     "status": "completed"
    },
    "tags": []
   },
   "outputs": [
    {
     "data": {
      "application/javascript": [
       "parent.postMessage({\"jupyterEvent\": \"custom.exercise_interaction\", \"data\": {\"outcomeType\": 1, \"valueTowardsCompletion\": 0.25, \"interactionType\": 1, \"questionType\": 2, \"questionId\": \"1_Q1\", \"learnToolsVersion\": \"0.3.4\", \"failureMessage\": \"\", \"exceptionClass\": \"\", \"trace\": \"\"}}, \"*\")"
      ],
      "text/plain": [
       "<IPython.core.display.Javascript object>"
      ]
     },
     "metadata": {},
     "output_type": "display_data"
    },
    {
     "data": {
      "text/markdown": [
       "<span style=\"color:#33cc33\">Correct</span>"
      ],
      "text/plain": [
       "Correct"
      ]
     },
     "metadata": {},
     "output_type": "display_data"
    }
   ],
   "source": [
    "# YOUR CODE HERE: Add two 30% dropout layers, one after 128 and one after 64\n",
    "model = keras.Sequential([\n",
    "    layers.Dense(128, activation='relu', input_shape=input_shape),\n",
    "    layers.Dropout(0.3),\n",
    "    layers.Dense(64, activation='relu'),\n",
    "    layers.Dropout(0.3),\n",
    "    layers.Dense(1)\n",
    "])\n",
    "\n",
    "# Check your answer\n",
    "q_1.check()"
   ]
  },
  {
   "cell_type": "code",
   "execution_count": 4,
   "id": "b9f2a9f6",
   "metadata": {
    "execution": {
     "iopub.execute_input": "2023-07-31T00:59:51.654110Z",
     "iopub.status.busy": "2023-07-31T00:59:51.653819Z",
     "iopub.status.idle": "2023-07-31T00:59:51.657848Z",
     "shell.execute_reply": "2023-07-31T00:59:51.656859Z"
    },
    "papermill": {
     "duration": 0.013786,
     "end_time": "2023-07-31T00:59:51.659896",
     "exception": false,
     "start_time": "2023-07-31T00:59:51.646110",
     "status": "completed"
    },
    "tags": []
   },
   "outputs": [],
   "source": [
    "# Lines below will give you a hint or solution code\n",
    "#q_1.hint()\n",
    "#q_1.solution()"
   ]
  },
  {
   "cell_type": "markdown",
   "id": "d3a61ba9",
   "metadata": {
    "papermill": {
     "duration": 0.006424,
     "end_time": "2023-07-31T00:59:51.672973",
     "exception": false,
     "start_time": "2023-07-31T00:59:51.666549",
     "status": "completed"
    },
    "tags": []
   },
   "source": [
    "Now run this next cell to train the model see the effect of adding dropout."
   ]
  },
  {
   "cell_type": "code",
   "execution_count": 5,
   "id": "db5d46e2",
   "metadata": {
    "execution": {
     "iopub.execute_input": "2023-07-31T00:59:51.687352Z",
     "iopub.status.busy": "2023-07-31T00:59:51.687081Z",
     "iopub.status.idle": "2023-07-31T01:00:05.580033Z",
     "shell.execute_reply": "2023-07-31T01:00:05.579131Z"
    },
    "papermill": {
     "duration": 13.902525,
     "end_time": "2023-07-31T01:00:05.582106",
     "exception": false,
     "start_time": "2023-07-31T00:59:51.679581",
     "status": "completed"
    },
    "tags": []
   },
   "outputs": [
    {
     "name": "stdout",
     "output_type": "stream",
     "text": [
      "Minimum Validation Loss: 0.1933\n"
     ]
    },
    {
     "data": {
      "image/png": "[encoded data removed]",
      "text/plain": [
       "<Figure size 640x480 with 1 Axes>"
      ]
     },
     "metadata": {},
     "output_type": "display_data"
    }
   ],
   "source": [
    "model.compile(\n",
    "    optimizer='adam',\n",
    "    loss='mae',\n",
    ")\n",
    "history = model.fit(\n",
    "    X_train, y_train,\n",
    "    validation_data=(X_valid, y_valid),\n",
    "    batch_size=512,\n",
    "    epochs=50,\n",
    "    verbose=0,\n",
    ")\n",
    "history_df = pd.DataFrame(history.history)\n",
    "history_df.loc[:, ['loss', 'val_loss']].plot()\n",
    "print(\"Minimum Validation Loss: {:0.4f}\".format(history_df['val_loss'].min()))"
   ]
  },
  {
   "cell_type": "markdown",
   "id": "6d32797b",
   "metadata": {
    "papermill": {
     "duration": 0.007013,
     "end_time": "2023-07-31T01:00:05.596414",
     "exception": false,
     "start_time": "2023-07-31T01:00:05.589401",
     "status": "completed"
    },
    "tags": []
   },
   "source": [
    "# 2) Evaluate Dropout\n",
    "\n",
    "Recall from Exercise 4 that this model tended to overfit the data around epoch 5. Did adding dropout seem to help prevent overfitting this time?"
   ]
  },
  {
   "cell_type": "code",
   "execution_count": 6,
   "id": "a6a27c98",
   "metadata": {
    "execution": {
     "iopub.execute_input": "2023-07-31T01:00:05.612520Z",
     "iopub.status.busy": "2023-07-31T01:00:05.611761Z",
     "iopub.status.idle": "2023-07-31T01:00:05.620633Z",
     "shell.execute_reply": "2023-07-31T01:00:05.619752Z"
    },
    "papermill": {
     "duration": 0.018927,
     "end_time": "2023-07-31T01:00:05.622523",
     "exception": false,
     "start_time": "2023-07-31T01:00:05.603596",
     "status": "completed"
    },
    "tags": []
   },
   "outputs": [
    {
     "data": {
      "application/javascript": [
       "parent.postMessage({\"jupyterEvent\": \"custom.exercise_interaction\", \"data\": {\"outcomeType\": 1, \"valueTowardsCompletion\": 0.25, \"interactionType\": 1, \"questionType\": 4, \"questionId\": \"2_Q2\", \"learnToolsVersion\": \"0.3.4\", \"failureMessage\": \"\", \"exceptionClass\": \"\", \"trace\": \"\"}}, \"*\")"
      ],
      "text/plain": [
       "<IPython.core.display.Javascript object>"
      ]
     },
     "metadata": {},
     "output_type": "display_data"
    },
    {
     "data": {
      "text/markdown": [
       "<span style=\"color:#33cc33\">Correct:</span> \n",
       "\n",
       "\n",
       "From the learning curves, you can see that the validation loss remains near a constant minimum even though the training loss continues to decrease. So we can see that adding dropout did prevent overfitting this time. Moreover, by making it harder for the network to fit spurious patterns, dropout may have encouraged the network to seek out more of the true patterns, possibly improving the validation loss some as well).\n"
      ],
      "text/plain": [
       "Correct: \n",
       "\n",
       "\n",
       "From the learning curves, you can see that the validation loss remains near a constant minimum even though the training loss continues to decrease. So we can see that adding dropout did prevent overfitting this time. Moreover, by making it harder for the network to fit spurious patterns, dropout may have encouraged the network to seek out more of the true patterns, possibly improving the validation loss some as well)."
      ]
     },
     "metadata": {},
     "output_type": "display_data"
    }
   ],
   "source": [
    "# View the solution (Run this cell to receive credit!)\n",
    "q_2.check()"
   ]
  },
  {
   "cell_type": "markdown",
   "id": "d921c099",
   "metadata": {
    "papermill": {
     "duration": 0.007482,
     "end_time": "2023-07-31T01:00:05.637300",
     "exception": false,
     "start_time": "2023-07-31T01:00:05.629818",
     "status": "completed"
    },
    "tags": []
   },
   "source": [
    "Now, we'll switch topics to explore how batch normalization can fix problems in training.\n",
    "\n",
    "Load the *Concrete* dataset. We won't do any standardization this time. This will make the effect of batch normalization much more apparent."
   ]
  },
  {
   "cell_type": "code",
   "execution_count": 7,
   "id": "6bbaa7e9",
   "metadata": {
    "execution": {
     "iopub.execute_input": "2023-07-31T01:00:05.653773Z",
     "iopub.status.busy": "2023-07-31T01:00:05.652901Z",
     "iopub.status.idle": "2023-07-31T01:00:05.670582Z",
     "shell.execute_reply": "2023-07-31T01:00:05.669646Z"
    },
    "papermill": {
     "duration": 0.027854,
     "end_time": "2023-07-31T01:00:05.672580",
     "exception": false,
     "start_time": "2023-07-31T01:00:05.644726",
     "status": "completed"
    },
    "tags": []
   },
   "outputs": [],
   "source": [
    "import pandas as pd\n",
    "\n",
    "concrete = pd.read_csv('../input/dl-course-data/concrete.csv')\n",
    "df = concrete.copy()\n",
    "\n",
    "df_train = df.sample(frac=0.7, random_state=0)\n",
    "df_valid = df.drop(df_train.index)\n",
    "\n",
    "X_train = df_train.drop('CompressiveStrength', axis=1)\n",
    "X_valid = df_valid.drop('CompressiveStrength', axis=1)\n",
    "y_train = df_train['CompressiveStrength']\n",
    "y_valid = df_valid['CompressiveStrength']\n",
    "\n",
    "input_shape = [X_train.shape[1]]"
   ]
  },
  {
   "cell_type": "markdown",
   "id": "81534ff5",
   "metadata": {
    "papermill": {
     "duration": 0.007331,
     "end_time": "2023-07-31T01:00:05.688102",
     "exception": false,
     "start_time": "2023-07-31T01:00:05.680771",
     "status": "completed"
    },
    "tags": []
   },
   "source": [
    "Run the following cell to train the network on the unstandardized *Concrete* data."
   ]
  },
  {
   "cell_type": "code",
   "execution_count": 8,
   "id": "c0e521c2",
   "metadata": {
    "execution": {
     "iopub.execute_input": "2023-07-31T01:00:05.704226Z",
     "iopub.status.busy": "2023-07-31T01:00:05.703761Z",
     "iopub.status.idle": "2023-07-31T01:00:16.970261Z",
     "shell.execute_reply": "2023-07-31T01:00:16.969293Z"
    },
    "papermill": {
     "duration": 11.277711,
     "end_time": "2023-07-31T01:00:16.973304",
     "exception": false,
     "start_time": "2023-07-31T01:00:05.695593",
     "status": "completed"
    },
    "tags": []
   },
   "outputs": [
    {
     "name": "stdout",
     "output_type": "stream",
     "text": [
      "Minimum Validation Loss: nan\n"
     ]
    },
    {
     "data": {
      "image/png": "[encoded data removed]",
      "text/plain": [
       "<Figure size 640x480 with 1 Axes>"
      ]
     },
     "metadata": {},
     "output_type": "display_data"
    }
   ],
   "source": [
    "model = keras.Sequential([\n",
    "    layers.Dense(512, activation='relu', input_shape=input_shape),\n",
    "    layers.Dense(512, activation='relu'),    \n",
    "    layers.Dense(512, activation='relu'),\n",
    "    layers.Dense(1),\n",
    "])\n",
    "model.compile(\n",
    "    optimizer='sgd', # SGD is more sensitive to differences of scale\n",
    "    loss='mae',\n",
    "    metrics=['mae'],\n",
    ")\n",
    "history = model.fit(\n",
    "    X_train, y_train,\n",
    "    validation_data=(X_valid, y_valid),\n",
    "    batch_size=64,\n",
    "    epochs=100,\n",
    "    verbose=0,\n",
    ")\n",
    "\n",
    "history_df = pd.DataFrame(history.history)\n",
    "history_df.loc[0:, ['loss', 'val_loss']].plot()\n",
    "print((\"Minimum Validation Loss: {:0.4f}\").format(history_df['val_loss'].min()))"
   ]
  },
  {
   "cell_type": "markdown",
   "id": "eeafc6a4",
   "metadata": {
    "papermill": {
     "duration": 0.008525,
     "end_time": "2023-07-31T01:00:16.990159",
     "exception": false,
     "start_time": "2023-07-31T01:00:16.981634",
     "status": "completed"
    },
    "tags": []
   },
   "source": [
    "Did you end up with a blank graph? Trying to train this network on this dataset will usually fail. Even when it does converge (due to a lucky weight initialization), it tends to converge to a very large number.\n",
    "\n",
    "# 3) Add Batch Normalization Layers\n",
    "\n",
    "Batch normalization can help correct problems like this.\n",
    "\n",
    "Add four `BatchNormalization` layers, one before each of the dense layers. (Remember to move the `input_shape` argument to the new first layer.)"
   ]
  },
  {
   "cell_type": "code",
   "execution_count": 9,
   "id": "7f1d56b0",
   "metadata": {
    "execution": {
     "iopub.execute_input": "2023-07-31T01:00:17.006883Z",
     "iopub.status.busy": "2023-07-31T01:00:17.006582Z",
     "iopub.status.idle": "2023-07-31T01:00:17.117510Z",
     "shell.execute_reply": "2023-07-31T01:00:17.116586Z"
    },
    "lines_to_next_cell": 0,
    "papermill": {
     "duration": 0.121607,
     "end_time": "2023-07-31T01:00:17.119467",
     "exception": false,
     "start_time": "2023-07-31T01:00:16.997860",
     "status": "completed"
    },
    "tags": []
   },
   "outputs": [
    {
     "data": {
      "application/javascript": [
       "parent.postMessage({\"jupyterEvent\": \"custom.exercise_interaction\", \"data\": {\"outcomeType\": 1, \"valueTowardsCompletion\": 0.25, \"interactionType\": 1, \"questionType\": 2, \"questionId\": \"3_Q3\", \"learnToolsVersion\": \"0.3.4\", \"failureMessage\": \"\", \"exceptionClass\": \"\", \"trace\": \"\"}}, \"*\")"
      ],
      "text/plain": [
       "<IPython.core.display.Javascript object>"
      ]
     },
     "metadata": {},
     "output_type": "display_data"
    },
    {
     "data": {
      "text/markdown": [
       "<span style=\"color:#33cc33\">Correct</span>"
      ],
      "text/plain": [
       "Correct"
      ]
     },
     "metadata": {},
     "output_type": "display_data"
    }
   ],
   "source": [
    "# YOUR CODE HERE: Add a BatchNormalization layer before each Dense layer\n",
    "model = keras.Sequential([\n",
    "    layers.BatchNormalization(input_shape=input_shape),\n",
    "    layers.Dense(512, activation='relu'),\n",
    "    layers.BatchNormalization(),\n",
    "    layers.Dense(512, activation='relu'),\n",
    "    layers.BatchNormalization(),\n",
    "    layers.Dense(512, activation='relu'),\n",
    "    layers.BatchNormalization(),\n",
    "    layers.Dense(1),\n",
    "])\n",
    "\n",
    "# Check your answer\n",
    "q_3.check()"
   ]
  },
  {
   "cell_type": "code",
   "execution_count": 10,
   "id": "d752e4aa",
   "metadata": {
    "execution": {
     "iopub.execute_input": "2023-07-31T01:00:17.137528Z",
     "iopub.status.busy": "2023-07-31T01:00:17.136777Z",
     "iopub.status.idle": "2023-07-31T01:00:17.142210Z",
     "shell.execute_reply": "2023-07-31T01:00:17.141314Z"
    },
    "papermill": {
     "duration": 0.016811,
     "end_time": "2023-07-31T01:00:17.144432",
     "exception": false,
     "start_time": "2023-07-31T01:00:17.127621",
     "status": "completed"
    },
    "tags": []
   },
   "outputs": [],
   "source": [
    "# Lines below will give you a hint or solution code\n",
    "#q_3.hint()\n",
    "#q_3.solution()"
   ]
  },
  {
   "cell_type": "markdown",
   "id": "edfa8eea",
   "metadata": {
    "papermill": {
     "duration": 0.008217,
     "end_time": "2023-07-31T01:00:17.160728",
     "exception": false,
     "start_time": "2023-07-31T01:00:17.152511",
     "status": "completed"
    },
    "tags": []
   },
   "source": [
    "Run the next cell to see if batch normalization will let us train the model."
   ]
  },
  {
   "cell_type": "code",
   "execution_count": 11,
   "id": "c09fabe8",
   "metadata": {
    "execution": {
     "iopub.execute_input": "2023-07-31T01:00:17.178042Z",
     "iopub.status.busy": "2023-07-31T01:00:17.177769Z",
     "iopub.status.idle": "2023-07-31T01:00:28.521621Z",
     "shell.execute_reply": "2023-07-31T01:00:28.519977Z"
    },
    "papermill": {
     "duration": 11.35496,
     "end_time": "2023-07-31T01:00:28.523703",
     "exception": false,
     "start_time": "2023-07-31T01:00:17.168743",
     "status": "completed"
    },
    "tags": []
   },
   "outputs": [
    {
     "name": "stdout",
     "output_type": "stream",
     "text": [
      "Minimum Validation Loss: 3.9821\n"
     ]
    },
    {
     "data": {
      "image/png": "[encoded data removed]",
      "text/plain": [
       "<Figure size 640x480 with 1 Axes>"
      ]
     },
     "metadata": {},
     "output_type": "display_data"
    }
   ],
   "source": [
    "model.compile(\n",
    "    optimizer='sgd',\n",
    "    loss='mae',\n",
    "    metrics=['mae'],\n",
    ")\n",
    "EPOCHS = 100\n",
    "history = model.fit(\n",
    "    X_train, y_train,\n",
    "    validation_data=(X_valid, y_valid),\n",
    "    batch_size=64,\n",
    "    epochs=EPOCHS,\n",
    "    verbose=0,\n",
    ")\n",
    "\n",
    "history_df = pd.DataFrame(history.history)\n",
    "history_df.loc[0:, ['loss', 'val_loss']].plot()\n",
    "print((\"Minimum Validation Loss: {:0.4f}\").format(history_df['val_loss'].min()))"
   ]
  },
  {
   "cell_type": "markdown",
   "id": "37dfd074",
   "metadata": {
    "papermill": {
     "duration": 0.00937,
     "end_time": "2023-07-31T01:00:28.542135",
     "exception": false,
     "start_time": "2023-07-31T01:00:28.532765",
     "status": "completed"
    },
    "tags": []
   },
   "source": [
    "# 4) Evaluate Batch Normalization\n",
    "\n",
    "Did adding batch normalization help?"
   ]
  },
  {
   "cell_type": "code",
   "execution_count": 12,
   "id": "4fe9c2c8",
   "metadata": {
    "execution": {
     "iopub.execute_input": "2023-07-31T01:00:28.562170Z",
     "iopub.status.busy": "2023-07-31T01:00:28.561170Z",
     "iopub.status.idle": "2023-07-31T01:00:28.569648Z",
     "shell.execute_reply": "2023-07-31T01:00:28.568631Z"
    },
    "lines_to_next_cell": 0,
    "papermill": {
     "duration": 0.021551,
     "end_time": "2023-07-31T01:00:28.572518",
     "exception": false,
     "start_time": "2023-07-31T01:00:28.550967",
     "status": "completed"
    },
    "tags": []
   },
   "outputs": [
    {
     "data": {
      "application/javascript": [
       "parent.postMessage({\"jupyterEvent\": \"custom.exercise_interaction\", \"data\": {\"outcomeType\": 1, \"valueTowardsCompletion\": 0.25, \"interactionType\": 1, \"questionType\": 4, \"questionId\": \"4_Q4\", \"learnToolsVersion\": \"0.3.4\", \"failureMessage\": \"\", \"exceptionClass\": \"\", \"trace\": \"\"}}, \"*\")"
      ],
      "text/plain": [
       "<IPython.core.display.Javascript object>"
      ]
     },
     "metadata": {},
     "output_type": "display_data"
    },
    {
     "data": {
      "text/markdown": [
       "<span style=\"color:#33cc33\">Correct:</span> \n",
       "\n",
       "\n",
       "You can see that adding batch normalization was a big improvement on the first attempt! By adaptively scaling the data as it passes through the network, batch normalization can let you train models on difficult datasets.\n"
      ],
      "text/plain": [
       "Correct: \n",
       "\n",
       "\n",
       "You can see that adding batch normalization was a big improvement on the first attempt! By adaptively scaling the data as it passes through the network, batch normalization can let you train models on difficult datasets."
      ]
     },
     "metadata": {},
     "output_type": "display_data"
    }
   ],
   "source": [
    "# View the solution (Run this cell to receive credit!)\n",
    "q_4.check()"
   ]
  },
  {
   "cell_type": "markdown",
   "id": "b38b4bf3",
   "metadata": {
    "papermill": {
     "duration": 0.008743,
     "end_time": "2023-07-31T01:00:28.590405",
     "exception": false,
     "start_time": "2023-07-31T01:00:28.581662",
     "status": "completed"
    },
    "tags": []
   },
   "source": [
    "# Keep Going #\n",
    "\n",
    "[**Create neural networks**](https://www.kaggle.com/ryanholbrook/binary-classification) for binary classification."
   ]
  },
  {
   "cell_type": "markdown",
   "id": "4c16903f",
   "metadata": {
    "papermill": {
     "duration": 0.008714,
     "end_time": "2023-07-31T01:00:28.608302",
     "exception": false,
     "start_time": "2023-07-31T01:00:28.599588",
     "status": "completed"
    },
    "tags": []
   },
   "source": [
    "---\n",
    "\n",
    "\n",
    "\n",
    "\n",
    "*Have questions or comments? Visit the [course discussion forum](https://www.kaggle.com/learn/intro-to-deep-learning/discussion) to chat with other learners.*"
   ]
  }
 ],
 "metadata": {
  "kernelspec": {
   "display_name": "Python 3",
   "language": "python",
   "name": "python3"
  },
  "language_info": {
   "codemirror_mode": {
    "name": "ipython",
    "version": 3
   },
   "file_extension": ".py",
   "mimetype": "text/x-python",
   "name": "python",
   "nbconvert_exporter": "python",
   "pygments_lexer": "ipython3",
   "version": "3.10.12"
  },
  "papermill": {
   "default_parameters": {},
   "duration": 61.744173,
   "end_time": "2023-07-31T01:00:31.165644",
   "environment_variables": {},
   "exception": null,
   "input_path": "__notebook__.ipynb",
   "output_path": "__notebook__.ipynb",
   "parameters": {},
   "start_time": "2023-07-31T00:59:29.421471",
   "version": "2.4.0"
  }
 },
 "nbformat": 4,
 "nbformat_minor": 5
}
