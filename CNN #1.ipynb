{
 "cells": [
  {
   "cell_type": "markdown",
   "id": "7e2a001f",
   "metadata": {
    "papermill": {
     "duration": 0.006277,
     "end_time": "2023-08-02T00:58:25.639316",
     "exception": false,
     "start_time": "2023-08-02T00:58:25.633039",
     "status": "completed"
    },
    "tags": []
   },
   "source": [
    "**This notebook is an exercise in the [Computer Vision](https://www.kaggle.com/learn/computer-vision) course.  You can reference the tutorial at [this link](https://www.kaggle.com/ryanholbrook/the-convolutional-classifier).**\n",
    "\n",
    "---\n"
   ]
  },
  {
   "cell_type": "markdown",
   "id": "d7e0b722",
   "metadata": {
    "papermill": {
     "duration": 0.005508,
     "end_time": "2023-08-02T00:58:25.650406",
     "exception": false,
     "start_time": "2023-08-02T00:58:25.644898",
     "status": "completed"
    },
    "tags": []
   },
   "source": [
    "<blockquote style=\"margin-right:auto; margin-left:auto; background-color: #ebf9ff; padding: 1em; margin:24px;\">\n",
    "    <strong>Accelerate Training with a Kaggle GPU!</strong><br>\n",
    "Did you know Kaggle offers free time with a GPU accelerator? You can speed up training neural networks in this course by switching to <strong>GPU</strong> in the <em>Accelerator</em> option on the right. (It may already be turned on.) Two things to be aware of:\n",
    "<ul>\n",
    "<li>Changing the <em>Accelerator</em> option will cause the notebook session to restart. You'll need to rerun any setup code.\n",
    "<li>You can have only one GPU session at a time, so be sure to shut the notebook down after you've finished the exercise.\n",
    "</ul>\n",
    "</blockquote>"
   ]
  },
  {
   "cell_type": "markdown",
   "id": "55e3fd5a",
   "metadata": {
    "papermill": {
     "duration": 0.005863,
     "end_time": "2023-08-02T00:58:25.661745",
     "exception": false,
     "start_time": "2023-08-02T00:58:25.655882",
     "status": "completed"
    },
    "tags": []
   },
   "source": [
    "# Introduction #\n",
    "\n",
    "In the tutorial, we saw how to build an image classifier by attaching a head of dense layers to a pretrained base. The base we used was from a model called **VGG16**. We saw that the VGG16 architecture was prone to overfitting this dataset. Over this course, you'll learn a number of ways you can improve upon this initial attempt.\n",
    "\n",
    "The first way you'll see is to use a base more appropriate to the dataset. The base this model comes from is called **InceptionV1** (also known as GoogLeNet). InceptionV1 was one of the early winners of the ImageNet competition. One of its successors, InceptionV4, is among the state of the art today.\n",
    "\n",
    "To get started, run the code cell below to set everything up."
   ]
  },
  {
   "cell_type": "code",
   "execution_count": 1,
   "id": "e955eb36",
   "metadata": {
    "execution": {
     "iopub.execute_input": "2023-08-02T00:58:25.674619Z",
     "iopub.status.busy": "2023-08-02T00:58:25.673949Z",
     "iopub.status.idle": "2023-08-02T00:58:44.931711Z",
     "shell.execute_reply": "2023-08-02T00:58:44.930755Z"
    },
    "lines_to_next_cell": 2,
    "papermill": {
     "duration": 19.266963,
     "end_time": "2023-08-02T00:58:44.934090",
     "exception": false,
     "start_time": "2023-08-02T00:58:25.667127",
     "status": "completed"
    },
    "tags": []
   },
   "outputs": [
    {
     "name": "stderr",
     "output_type": "stream",
     "text": [
      "/opt/conda/lib/python3.10/site-packages/scipy/__init__.py:146: UserWarning: A NumPy version >=1.16.5 and <1.23.0 is required for this version of SciPy (detected version 1.23.5\n",
      "  warnings.warn(f\"A NumPy version >={np_minversion} and <{np_maxversion}\"\n",
      "/opt/conda/lib/python3.10/site-packages/tensorflow_io/python/ops/__init__.py:98: UserWarning: unable to load libtensorflow_io_plugins.so: unable to open file: libtensorflow_io_plugins.so, from paths: ['/opt/conda/lib/python3.10/site-packages/tensorflow_io/python/ops/libtensorflow_io_plugins.so']\n",
      "caused by: ['/opt/conda/lib/python3.10/site-packages/tensorflow_io/python/ops/libtensorflow_io_plugins.so: undefined symbol: _ZN3tsl6StatusC1EN10tensorflow5error4CodeESt17basic_string_viewIcSt11char_traitsIcEENS_14SourceLocationE']\n",
      "  warnings.warn(f\"unable to load libtensorflow_io_plugins.so: {e}\")\n",
      "/opt/conda/lib/python3.10/site-packages/tensorflow_io/python/ops/__init__.py:104: UserWarning: file system plugins are not loaded: unable to open file: libtensorflow_io.so, from paths: ['/opt/conda/lib/python3.10/site-packages/tensorflow_io/python/ops/libtensorflow_io.so']\n",
      "caused by: ['/opt/conda/lib/python3.10/site-packages/tensorflow_io/python/ops/libtensorflow_io.so: undefined symbol: _ZTVN10tensorflow13GcsFileSystemE']\n",
      "  warnings.warn(f\"file system plugins are not loaded: {e}\")\n"
     ]
    },
    {
     "name": "stdout",
     "output_type": "stream",
     "text": [
      "Found 5117 files belonging to 2 classes.\n",
      "Found 5051 files belonging to 2 classes.\n"
     ]
    }
   ],
   "source": [
    "# Setup feedback system\n",
    "from learntools.core import binder\n",
    "binder.bind(globals())\n",
    "from learntools.computer_vision.ex1 import *\n",
    "\n",
    "# Imports\n",
    "import os, warnings\n",
    "import matplotlib.pyplot as plt\n",
    "from matplotlib import gridspec\n",
    "\n",
    "import numpy as np\n",
    "import tensorflow as tf\n",
    "from tensorflow.keras.preprocessing import image_dataset_from_directory\n",
    "\n",
    "# Reproducability\n",
    "def set_seed(seed=31415):\n",
    "    np.random.seed(seed)\n",
    "    tf.random.set_seed(seed)\n",
    "    os.environ['PYTHONHASHSEED'] = str(seed)\n",
    "    os.environ['TF_DETERMINISTIC_OPS'] = '1'\n",
    "set_seed()\n",
    "\n",
    "# Set Matplotlib defaults\n",
    "plt.rc('figure', autolayout=True)\n",
    "plt.rc('axes', labelweight='bold', labelsize='large',\n",
    "       titleweight='bold', titlesize=18, titlepad=10)\n",
    "plt.rc('image', cmap='magma')\n",
    "warnings.filterwarnings(\"ignore\") # to clean up output cells\n",
    "\n",
    "\n",
    "# Load training and validation sets\n",
    "ds_train_ = image_dataset_from_directory(\n",
    "    '../input/car-or-truck/train',\n",
    "    labels='inferred',\n",
    "    label_mode='binary',\n",
    "    image_size=[128, 128],\n",
    "    interpolation='nearest',\n",
    "    batch_size=64,\n",
    "    shuffle=True,\n",
    ")\n",
    "ds_valid_ = image_dataset_from_directory(\n",
    "    '../input/car-or-truck/valid',\n",
    "    labels='inferred',\n",
    "    label_mode='binary',\n",
    "    image_size=[128, 128],\n",
    "    interpolation='nearest',\n",
    "    batch_size=64,\n",
    "    shuffle=False,\n",
    ")\n",
    "\n",
    "# Data Pipeline\n",
    "def convert_to_float(image, label):\n",
    "    image = tf.image.convert_image_dtype(image, dtype=tf.float32)\n",
    "    return image, label\n",
    "\n",
    "AUTOTUNE = tf.data.experimental.AUTOTUNE\n",
    "ds_train = (\n",
    "    ds_train_\n",
    "    .map(convert_to_float)\n",
    "    .cache()\n",
    "    .prefetch(buffer_size=AUTOTUNE)\n",
    ")\n",
    "ds_valid = (\n",
    "    ds_valid_\n",
    "    .map(convert_to_float)\n",
    "    .cache()\n",
    "    .prefetch(buffer_size=AUTOTUNE)\n",
    ")\n"
   ]
  },
  {
   "cell_type": "markdown",
   "id": "b8b5be7e",
   "metadata": {
    "papermill": {
     "duration": 0.005644,
     "end_time": "2023-08-02T00:58:44.945955",
     "exception": false,
     "start_time": "2023-08-02T00:58:44.940311",
     "status": "completed"
    },
    "tags": []
   },
   "source": [
    "The **InceptionV1** model pretrained on ImageNet is available in the [TensorFlow Hub](https://www.tensorflow.org/hub/) repository, but we'll load it from a local copy. Run this cell to load InceptionV1 for your base."
   ]
  },
  {
   "cell_type": "code",
   "execution_count": 2,
   "id": "4732e2c0",
   "metadata": {
    "execution": {
     "iopub.execute_input": "2023-08-02T00:58:44.959246Z",
     "iopub.status.busy": "2023-08-02T00:58:44.958920Z",
     "iopub.status.idle": "2023-08-02T00:58:48.502334Z",
     "shell.execute_reply": "2023-08-02T00:58:48.501385Z"
    },
    "lines_to_next_cell": 0,
    "papermill": {
     "duration": 3.559137,
     "end_time": "2023-08-02T00:58:48.511073",
     "exception": false,
     "start_time": "2023-08-02T00:58:44.951936",
     "status": "completed"
    },
    "tags": []
   },
   "outputs": [],
   "source": [
    "import tensorflow_hub as hub\n",
    "\n",
    "pretrained_base = tf.keras.models.load_model(\n",
    "    '../input/cv-course-models/cv-course-models/inceptionv1'\n",
    ")"
   ]
  },
  {
   "cell_type": "markdown",
   "id": "26bc89cc",
   "metadata": {
    "papermill": {
     "duration": 0.0059,
     "end_time": "2023-08-02T00:58:48.523070",
     "exception": false,
     "start_time": "2023-08-02T00:58:48.517170",
     "status": "completed"
    },
    "tags": []
   },
   "source": [
    "# 1) Define Pretrained Base #\n",
    "\n",
    "Now that you have a pretrained base to do our feature extraction, decide whether this base should be trainable or not."
   ]
  },
  {
   "cell_type": "code",
   "execution_count": 3,
   "id": "534b109a",
   "metadata": {
    "execution": {
     "iopub.execute_input": "2023-08-02T00:58:48.536250Z",
     "iopub.status.busy": "2023-08-02T00:58:48.535930Z",
     "iopub.status.idle": "2023-08-02T00:58:48.545227Z",
     "shell.execute_reply": "2023-08-02T00:58:48.544367Z"
    },
    "lines_to_next_cell": 0,
    "papermill": {
     "duration": 0.019269,
     "end_time": "2023-08-02T00:58:48.548148",
     "exception": false,
     "start_time": "2023-08-02T00:58:48.528879",
     "status": "completed"
    },
    "tags": []
   },
   "outputs": [
    {
     "data": {
      "application/javascript": [
       "parent.postMessage({\"jupyterEvent\": \"custom.exercise_interaction\", \"data\": {\"outcomeType\": 1, \"valueTowardsCompletion\": 0.25, \"interactionType\": 1, \"questionType\": 2, \"questionId\": \"1_Q1\", \"learnToolsVersion\": \"0.3.4\", \"failureMessage\": \"\", \"exceptionClass\": \"\", \"trace\": \"\"}}, \"*\")"
      ],
      "text/plain": [
       "<IPython.core.display.Javascript object>"
      ]
     },
     "metadata": {},
     "output_type": "display_data"
    },
    {
     "data": {
      "text/markdown": [
       "<span style=\"color:#33cc33\">Correct:</span> When doing transfer learning, it's generally not a good idea to retrain the entire base -- at least not without some care. The reason is that the random weights in the head will initially create large gradient updates, which propogate back into the base layers and destroy much of the pretraining. Using techniques known as **fine tuning** it's possible to further train the base on new data, but this requires some care to do well."
      ],
      "text/plain": [
       "Correct: When doing transfer learning, it's generally not a good idea to retrain the entire base -- at least not without some care. The reason is that the random weights in the head will initially create large gradient updates, which propogate back into the base layers and destroy much of the pretraining. Using techniques known as **fine tuning** it's possible to further train the base on new data, but this requires some care to do well."
      ]
     },
     "metadata": {},
     "output_type": "display_data"
    }
   ],
   "source": [
    "# YOUR_CODE_HERE\n",
    "pretrained_base.trainable = False\n",
    "\n",
    "# Check your answer\n",
    "q_1.check()"
   ]
  },
  {
   "cell_type": "code",
   "execution_count": 4,
   "id": "6c61738b",
   "metadata": {
    "execution": {
     "iopub.execute_input": "2023-08-02T00:58:48.561964Z",
     "iopub.status.busy": "2023-08-02T00:58:48.561453Z",
     "iopub.status.idle": "2023-08-02T00:58:48.565129Z",
     "shell.execute_reply": "2023-08-02T00:58:48.564245Z"
    },
    "papermill": {
     "duration": 0.012714,
     "end_time": "2023-08-02T00:58:48.567161",
     "exception": false,
     "start_time": "2023-08-02T00:58:48.554447",
     "status": "completed"
    },
    "tags": []
   },
   "outputs": [],
   "source": [
    "# Lines below will give you a hint or solution code\n",
    "#q_1.hint()\n",
    "#q_1.solution()"
   ]
  },
  {
   "cell_type": "markdown",
   "id": "f673a19d",
   "metadata": {
    "papermill": {
     "duration": 0.006062,
     "end_time": "2023-08-02T00:58:48.579430",
     "exception": false,
     "start_time": "2023-08-02T00:58:48.573368",
     "status": "completed"
    },
    "tags": []
   },
   "source": [
    "# 2) Attach Head #\n",
    "\n",
    "Now that the base is defined to do the feature extraction, create a head of `Dense` layers to perform the classification, following this diagram:\n",
    "\n",
    "<figure>\n",
    "<img src=\"https://storage.googleapis.com/kaggle-media/learn/images/i5VU7Ry.png\" alt=\"Diagram of the dense head.\">\n",
    "</figure>\n"
   ]
  },
  {
   "cell_type": "code",
   "execution_count": 5,
   "id": "ca1a3b70",
   "metadata": {
    "execution": {
     "iopub.execute_input": "2023-08-02T00:58:48.593010Z",
     "iopub.status.busy": "2023-08-02T00:58:48.592753Z",
     "iopub.status.idle": "2023-08-02T00:58:48.613536Z",
     "shell.execute_reply": "2023-08-02T00:58:48.612573Z"
    },
    "lines_to_next_cell": 0,
    "papermill": {
     "duration": 0.03004,
     "end_time": "2023-08-02T00:58:48.615598",
     "exception": false,
     "start_time": "2023-08-02T00:58:48.585558",
     "status": "completed"
    },
    "tags": []
   },
   "outputs": [
    {
     "data": {
      "application/javascript": [
       "parent.postMessage({\"jupyterEvent\": \"custom.exercise_interaction\", \"data\": {\"outcomeType\": 1, \"valueTowardsCompletion\": 0.25, \"interactionType\": 1, \"questionType\": 2, \"questionId\": \"2_Q2\", \"learnToolsVersion\": \"0.3.4\", \"failureMessage\": \"\", \"exceptionClass\": \"\", \"trace\": \"\"}}, \"*\")"
      ],
      "text/plain": [
       "<IPython.core.display.Javascript object>"
      ]
     },
     "metadata": {},
     "output_type": "display_data"
    },
    {
     "data": {
      "text/markdown": [
       "<span style=\"color:#33cc33\">Correct</span>"
      ],
      "text/plain": [
       "Correct"
      ]
     },
     "metadata": {},
     "output_type": "display_data"
    }
   ],
   "source": [
    "from tensorflow import keras\n",
    "from tensorflow.keras import layers\n",
    "\n",
    "model = keras.Sequential([\n",
    "    pretrained_base,\n",
    "    layers.Flatten(),\n",
    "    # YOUR CODE HERE. Attach a head of dense layers.\n",
    "    layers.Dense(6, activation='relu'),\n",
    "    layers.Dense(1, activation='sigmoid')\n",
    "])\n",
    "\n",
    "# Check your answer\n",
    "q_2.check()"
   ]
  },
  {
   "cell_type": "code",
   "execution_count": 6,
   "id": "214f14a0",
   "metadata": {
    "execution": {
     "iopub.execute_input": "2023-08-02T00:58:48.630105Z",
     "iopub.status.busy": "2023-08-02T00:58:48.629504Z",
     "iopub.status.idle": "2023-08-02T00:58:48.633490Z",
     "shell.execute_reply": "2023-08-02T00:58:48.632561Z"
    },
    "papermill": {
     "duration": 0.013096,
     "end_time": "2023-08-02T00:58:48.635397",
     "exception": false,
     "start_time": "2023-08-02T00:58:48.622301",
     "status": "completed"
    },
    "tags": []
   },
   "outputs": [],
   "source": [
    "# Lines below will give you a hint or solution code\n",
    "#q_2.hint()\n",
    "#q_2.solution()"
   ]
  },
  {
   "cell_type": "markdown",
   "id": "04f6127d",
   "metadata": {
    "papermill": {
     "duration": 0.006173,
     "end_time": "2023-08-02T00:58:48.648153",
     "exception": false,
     "start_time": "2023-08-02T00:58:48.641980",
     "status": "completed"
    },
    "tags": []
   },
   "source": [
    "# 3) Train #\n",
    "\n",
    "Before training a model in Keras, you need to specify an *optimizer* to perform the gradient descent, a *loss function* to be minimized, and (optionally) any *performance metrics*. The optimization algorithm we'll use for this course is called [\"Adam\"](https://keras.io/api/optimizers/adam/), which generally performs well regardless of what kind of problem you're trying to solve.\n",
    "\n",
    "The loss and the metrics, however, need to match the kind of problem you're trying to solve. Our problem is a **binary classification** problem: `Car` coded as 0, and `Truck` coded as 1. Choose an appropriate loss and an appropriate accuracy metric for binary classification."
   ]
  },
  {
   "cell_type": "code",
   "execution_count": 7,
   "id": "b7c20f29",
   "metadata": {
    "execution": {
     "iopub.execute_input": "2023-08-02T00:58:48.663133Z",
     "iopub.status.busy": "2023-08-02T00:58:48.662863Z",
     "iopub.status.idle": "2023-08-02T00:58:48.692852Z",
     "shell.execute_reply": "2023-08-02T00:58:48.691928Z"
    },
    "lines_to_next_cell": 0,
    "papermill": {
     "duration": 0.03979,
     "end_time": "2023-08-02T00:58:48.694898",
     "exception": false,
     "start_time": "2023-08-02T00:58:48.655108",
     "status": "completed"
    },
    "tags": []
   },
   "outputs": [
    {
     "data": {
      "application/javascript": [
       "parent.postMessage({\"jupyterEvent\": \"custom.exercise_interaction\", \"data\": {\"outcomeType\": 1, \"valueTowardsCompletion\": 0.25, \"interactionType\": 1, \"questionType\": 2, \"questionId\": \"3_Q3\", \"learnToolsVersion\": \"0.3.4\", \"failureMessage\": \"\", \"exceptionClass\": \"\", \"trace\": \"\"}}, \"*\")"
      ],
      "text/plain": [
       "<IPython.core.display.Javascript object>"
      ]
     },
     "metadata": {},
     "output_type": "display_data"
    },
    {
     "data": {
      "text/markdown": [
       "<span style=\"color:#33cc33\">Correct</span>"
      ],
      "text/plain": [
       "Correct"
      ]
     },
     "metadata": {},
     "output_type": "display_data"
    }
   ],
   "source": [
    "# YOUR CODE HERE: what loss function should you use for a binary\n",
    "# classification problem? (Your answer for each should be a string.)\n",
    "optimizer = tf.keras.optimizers.Adam(epsilon=0.01)\n",
    "model.compile(\n",
    "    optimizer=optimizer,\n",
    "    loss = 'binary_crossentropy',\n",
    "    metrics=['binary_accuracy'],\n",
    ")\n",
    "\n",
    "# Check your answer\n",
    "q_3.check()"
   ]
  },
  {
   "cell_type": "code",
   "execution_count": 8,
   "id": "d8d67a3d",
   "metadata": {
    "execution": {
     "iopub.execute_input": "2023-08-02T00:58:48.710280Z",
     "iopub.status.busy": "2023-08-02T00:58:48.709491Z",
     "iopub.status.idle": "2023-08-02T00:58:48.714536Z",
     "shell.execute_reply": "2023-08-02T00:58:48.713685Z"
    },
    "lines_to_next_cell": 0,
    "papermill": {
     "duration": 0.014789,
     "end_time": "2023-08-02T00:58:48.716618",
     "exception": false,
     "start_time": "2023-08-02T00:58:48.701829",
     "status": "completed"
    },
    "tags": []
   },
   "outputs": [],
   "source": [
    "# Lines below will give you a hint or solution code\n",
    "#q_3.hint()\n",
    "#q_3.solution()"
   ]
  },
  {
   "cell_type": "code",
   "execution_count": 9,
   "id": "92c1ae2c",
   "metadata": {
    "execution": {
     "iopub.execute_input": "2023-08-02T00:58:48.732239Z",
     "iopub.status.busy": "2023-08-02T00:58:48.731363Z",
     "iopub.status.idle": "2023-08-02T01:01:15.413490Z",
     "shell.execute_reply": "2023-08-02T01:01:15.412367Z"
    },
    "papermill": {
     "duration": 146.691925,
     "end_time": "2023-08-02T01:01:15.415643",
     "exception": false,
     "start_time": "2023-08-02T00:58:48.723718",
     "status": "completed"
    },
    "tags": []
   },
   "outputs": [
    {
     "name": "stdout",
     "output_type": "stream",
     "text": [
      "Epoch 1/30\n",
      "80/80 [==============================] - 44s 388ms/step - loss: 0.6309 - binary_accuracy: 0.6650 - val_loss: 0.4715 - val_binary_accuracy: 0.7895\n",
      "Epoch 2/30\n",
      "80/80 [==============================] - 3s 41ms/step - loss: 0.4378 - binary_accuracy: 0.8032 - val_loss: 0.4014 - val_binary_accuracy: 0.8282\n",
      "Epoch 3/30\n",
      "80/80 [==============================] - 3s 40ms/step - loss: 0.3952 - binary_accuracy: 0.8288 - val_loss: 0.3837 - val_binary_accuracy: 0.8329\n",
      "Epoch 4/30\n",
      "80/80 [==============================] - 3s 40ms/step - loss: 0.3758 - binary_accuracy: 0.8378 - val_loss: 0.3739 - val_binary_accuracy: 0.8365\n",
      "Epoch 5/30\n",
      "80/80 [==============================] - 3s 40ms/step - loss: 0.3620 - binary_accuracy: 0.8458 - val_loss: 0.3666 - val_binary_accuracy: 0.8384\n",
      "Epoch 6/30\n",
      "80/80 [==============================] - 3s 40ms/step - loss: 0.3511 - binary_accuracy: 0.8519 - val_loss: 0.3615 - val_binary_accuracy: 0.8432\n",
      "Epoch 7/30\n",
      "80/80 [==============================] - 3s 40ms/step - loss: 0.3416 - binary_accuracy: 0.8577 - val_loss: 0.3577 - val_binary_accuracy: 0.8460\n",
      "Epoch 8/30\n",
      "80/80 [==============================] - 3s 40ms/step - loss: 0.3335 - binary_accuracy: 0.8605 - val_loss: 0.3548 - val_binary_accuracy: 0.8476\n",
      "Epoch 9/30\n",
      "80/80 [==============================] - 3s 40ms/step - loss: 0.3262 - binary_accuracy: 0.8642 - val_loss: 0.3520 - val_binary_accuracy: 0.8476\n",
      "Epoch 10/30\n",
      "80/80 [==============================] - 3s 41ms/step - loss: 0.3198 - binary_accuracy: 0.8669 - val_loss: 0.3508 - val_binary_accuracy: 0.8476\n",
      "Epoch 11/30\n",
      "80/80 [==============================] - 3s 42ms/step - loss: 0.3140 - binary_accuracy: 0.8714 - val_loss: 0.3468 - val_binary_accuracy: 0.8509\n",
      "Epoch 12/30\n",
      "80/80 [==============================] - 3s 40ms/step - loss: 0.3083 - binary_accuracy: 0.8745 - val_loss: 0.3454 - val_binary_accuracy: 0.8507\n",
      "Epoch 13/30\n",
      "80/80 [==============================] - 3s 41ms/step - loss: 0.3035 - binary_accuracy: 0.8757 - val_loss: 0.3434 - val_binary_accuracy: 0.8517\n",
      "Epoch 14/30\n",
      "80/80 [==============================] - 3s 40ms/step - loss: 0.2988 - binary_accuracy: 0.8790 - val_loss: 0.3426 - val_binary_accuracy: 0.8529\n",
      "Epoch 15/30\n",
      "80/80 [==============================] - 3s 40ms/step - loss: 0.2944 - binary_accuracy: 0.8812 - val_loss: 0.3408 - val_binary_accuracy: 0.8547\n",
      "Epoch 16/30\n",
      "80/80 [==============================] - 3s 40ms/step - loss: 0.2902 - binary_accuracy: 0.8816 - val_loss: 0.3393 - val_binary_accuracy: 0.8527\n",
      "Epoch 17/30\n",
      "80/80 [==============================] - 3s 40ms/step - loss: 0.2867 - binary_accuracy: 0.8829 - val_loss: 0.3376 - val_binary_accuracy: 0.8539\n",
      "Epoch 18/30\n",
      "80/80 [==============================] - 3s 42ms/step - loss: 0.2828 - binary_accuracy: 0.8839 - val_loss: 0.3363 - val_binary_accuracy: 0.8547\n",
      "Epoch 19/30\n",
      "80/80 [==============================] - 3s 40ms/step - loss: 0.2790 - binary_accuracy: 0.8853 - val_loss: 0.3346 - val_binary_accuracy: 0.8559\n",
      "Epoch 20/30\n",
      "80/80 [==============================] - 3s 42ms/step - loss: 0.2752 - binary_accuracy: 0.8874 - val_loss: 0.3344 - val_binary_accuracy: 0.8555\n",
      "Epoch 21/30\n",
      "80/80 [==============================] - 3s 41ms/step - loss: 0.2725 - binary_accuracy: 0.8884 - val_loss: 0.3338 - val_binary_accuracy: 0.8557\n",
      "Epoch 22/30\n",
      "80/80 [==============================] - 3s 40ms/step - loss: 0.2693 - binary_accuracy: 0.8892 - val_loss: 0.3323 - val_binary_accuracy: 0.8565\n",
      "Epoch 23/30\n",
      "80/80 [==============================] - 3s 40ms/step - loss: 0.2661 - binary_accuracy: 0.8908 - val_loss: 0.3315 - val_binary_accuracy: 0.8578\n",
      "Epoch 24/30\n",
      "80/80 [==============================] - 3s 40ms/step - loss: 0.2632 - binary_accuracy: 0.8921 - val_loss: 0.3314 - val_binary_accuracy: 0.8569\n",
      "Epoch 25/30\n",
      "80/80 [==============================] - 3s 40ms/step - loss: 0.2603 - binary_accuracy: 0.8939 - val_loss: 0.3301 - val_binary_accuracy: 0.8588\n",
      "Epoch 26/30\n",
      "80/80 [==============================] - 3s 40ms/step - loss: 0.2572 - binary_accuracy: 0.8954 - val_loss: 0.3294 - val_binary_accuracy: 0.8600\n",
      "Epoch 27/30\n",
      "80/80 [==============================] - 3s 41ms/step - loss: 0.2544 - binary_accuracy: 0.8978 - val_loss: 0.3289 - val_binary_accuracy: 0.8616\n",
      "Epoch 28/30\n",
      "80/80 [==============================] - 3s 40ms/step - loss: 0.2522 - binary_accuracy: 0.8982 - val_loss: 0.3285 - val_binary_accuracy: 0.8622\n",
      "Epoch 29/30\n",
      "80/80 [==============================] - 3s 42ms/step - loss: 0.2500 - binary_accuracy: 0.8999 - val_loss: 0.3285 - val_binary_accuracy: 0.8618\n",
      "Epoch 30/30\n",
      "80/80 [==============================] - 3s 40ms/step - loss: 0.2476 - binary_accuracy: 0.8996 - val_loss: 0.3291 - val_binary_accuracy: 0.8604\n"
     ]
    }
   ],
   "source": [
    "history = model.fit(\n",
    "    ds_train,\n",
    "    validation_data=ds_valid,\n",
    "    epochs=30,\n",
    ")"
   ]
  },
  {
   "cell_type": "markdown",
   "id": "89db9938",
   "metadata": {
    "papermill": {
     "duration": 0.076792,
     "end_time": "2023-08-02T01:01:15.570872",
     "exception": false,
     "start_time": "2023-08-02T01:01:15.494080",
     "status": "completed"
    },
    "tags": []
   },
   "source": [
    "Run the cell below to plot the loss and metric curves for this training run."
   ]
  },
  {
   "cell_type": "code",
   "execution_count": 10,
   "id": "29c93523",
   "metadata": {
    "execution": {
     "iopub.execute_input": "2023-08-02T01:01:15.728330Z",
     "iopub.status.busy": "2023-08-02T01:01:15.727969Z",
     "iopub.status.idle": "2023-08-02T01:01:16.667396Z",
     "shell.execute_reply": "2023-08-02T01:01:16.666415Z"
    },
    "papermill": {
     "duration": 1.020211,
     "end_time": "2023-08-02T01:01:16.669477",
     "exception": false,
     "start_time": "2023-08-02T01:01:15.649266",
     "status": "completed"
    },
    "tags": []
   },
   "outputs": [
    {
     "data": {
      "image/png": "[encoded data removed]",
      "text/plain": [
       "<Figure size 640x480 with 1 Axes>"
      ]
     },
     "metadata": {},
     "output_type": "display_data"
    },
    {
     "data": {
      "image/png": "[encoded data removed]",
      "text/plain": [
       "<Figure size 640x480 with 1 Axes>"
      ]
     },
     "metadata": {},
     "output_type": "display_data"
    }
   ],
   "source": [
    "import pandas as pd\n",
    "history_frame = pd.DataFrame(history.history)\n",
    "history_frame.loc[:, ['loss', 'val_loss']].plot()\n",
    "history_frame.loc[:, ['binary_accuracy', 'val_binary_accuracy']].plot();"
   ]
  },
  {
   "cell_type": "markdown",
   "id": "a9aab451",
   "metadata": {
    "papermill": {
     "duration": 0.079847,
     "end_time": "2023-08-02T01:01:16.829725",
     "exception": false,
     "start_time": "2023-08-02T01:01:16.749878",
     "status": "completed"
    },
    "tags": []
   },
   "source": [
    "# 4) Examine Loss and Accuracy #\n",
    "\n",
    "Do you notice a difference between these learning curves and the curves for VGG16 from the tutorial? What does this difference tell you about what this model (InceptionV2) learned compared to VGG16? Are there ways in which one is better than the other? Worse?\n",
    "\n",
    "After you've thought about it, run the cell below to see the answer."
   ]
  },
  {
   "cell_type": "code",
   "execution_count": 11,
   "id": "be8271ac",
   "metadata": {
    "execution": {
     "iopub.execute_input": "2023-08-02T01:01:16.987473Z",
     "iopub.status.busy": "2023-08-02T01:01:16.987130Z",
     "iopub.status.idle": "2023-08-02T01:01:16.996708Z",
     "shell.execute_reply": "2023-08-02T01:01:16.995736Z"
    },
    "papermill": {
     "duration": 0.090895,
     "end_time": "2023-08-02T01:01:16.998867",
     "exception": false,
     "start_time": "2023-08-02T01:01:16.907972",
     "status": "completed"
    },
    "tags": []
   },
   "outputs": [
    {
     "data": {
      "application/javascript": [
       "parent.postMessage({\"jupyterEvent\": \"custom.exercise_interaction\", \"data\": {\"outcomeType\": 1, \"valueTowardsCompletion\": 0.25, \"interactionType\": 1, \"questionType\": 4, \"questionId\": \"4_Q4\", \"learnToolsVersion\": \"0.3.4\", \"failureMessage\": \"\", \"exceptionClass\": \"\", \"trace\": \"\"}}, \"*\")"
      ],
      "text/plain": [
       "<IPython.core.display.Javascript object>"
      ]
     },
     "metadata": {},
     "output_type": "display_data"
    },
    {
     "data": {
      "text/markdown": [
       "<span style=\"color:#33cc33\">Correct:</span> \n",
       "\n",
       "That the training loss and validation loss stay fairly close is evidence that the model isn't just memorizing the training data, but rather learning general properties of the two classes. But, because this model converges at a loss greater than the VGG16 model, it's likely that it is underfitting some, and could benefit from some extra capacity.\n"
      ],
      "text/plain": [
       "Correct: \n",
       "\n",
       "That the training loss and validation loss stay fairly close is evidence that the model isn't just memorizing the training data, but rather learning general properties of the two classes. But, because this model converges at a loss greater than the VGG16 model, it's likely that it is underfitting some, and could benefit from some extra capacity."
      ]
     },
     "metadata": {},
     "output_type": "display_data"
    }
   ],
   "source": [
    "# View the solution (Run this code cell to receive credit!)\n",
    "q_4.check()"
   ]
  },
  {
   "cell_type": "markdown",
   "id": "0f5b2dc4",
   "metadata": {
    "papermill": {
     "duration": 0.077877,
     "end_time": "2023-08-02T01:01:17.155888",
     "exception": false,
     "start_time": "2023-08-02T01:01:17.078011",
     "status": "completed"
    },
    "tags": []
   },
   "source": [
    "# Conclusion #\n",
    "\n",
    "In this first lesson, you learned the basics of **convolutional image classifiers**, that they consist of a **base** for extracting features from images, and a **head** which uses the features to decide the image's class. You also saw how to build a classifier with **transfer learning** on pretrained base. "
   ]
  },
  {
   "cell_type": "markdown",
   "id": "22a8ecb5",
   "metadata": {
    "papermill": {
     "duration": 0.077333,
     "end_time": "2023-08-02T01:01:17.311179",
     "exception": false,
     "start_time": "2023-08-02T01:01:17.233846",
     "status": "completed"
    },
    "tags": []
   },
   "source": [
    "# Keep Going #\n",
    "\n",
    "Move on to [**Lesson 2**](https://www.kaggle.com/ryanholbrook/convolution-and-relu) for a detailed look at how the base does this feature extraction. (It's really cool!)"
   ]
  },
  {
   "cell_type": "markdown",
   "id": "f086c765",
   "metadata": {
    "papermill": {
     "duration": 0.077678,
     "end_time": "2023-08-02T01:01:17.469583",
     "exception": false,
     "start_time": "2023-08-02T01:01:17.391905",
     "status": "completed"
    },
    "tags": []
   },
   "source": [
    "---\n",
    "\n",
    "\n",
    "\n",
    "\n",
    "*Have questions or comments? Visit the [course discussion forum](https://www.kaggle.com/learn/computer-vision/discussion) to chat with other learners.*"
   ]
  }
 ],
 "metadata": {
  "kernelspec": {
   "display_name": "Python 3",
   "language": "python",
   "name": "python3"
  },
  "language_info": {
   "codemirror_mode": {
    "name": "ipython",
    "version": 3
   },
   "file_extension": ".py",
   "mimetype": "text/x-python",
   "name": "python",
   "nbconvert_exporter": "python",
   "pygments_lexer": "ipython3",
   "version": "3.10.12"
  },
  "papermill": {
   "default_parameters": {},
   "duration": 185.857914,
   "end_time": "2023-08-02T01:01:21.361976",
   "environment_variables": {},
   "exception": null,
   "input_path": "__notebook__.ipynb",
   "output_path": "__notebook__.ipynb",
   "parameters": {},
   "start_time": "2023-08-02T00:58:15.504062",
   "version": "2.4.0"
  }
 },
 "nbformat": 4,
 "nbformat_minor": 5
}
