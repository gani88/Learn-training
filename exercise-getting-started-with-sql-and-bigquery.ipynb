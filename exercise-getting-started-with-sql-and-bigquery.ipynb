{
 "cells": [
  {
   "cell_type": "markdown",
   "id": "87ff2ff3",
   "metadata": {
    "papermill": {
     "duration": 0.005202,
     "end_time": "2023-08-04T00:29:58.969766",
     "exception": false,
     "start_time": "2023-08-04T00:29:58.964564",
     "status": "completed"
    },
    "tags": []
   },
   "source": [
    "**This notebook is an exercise in the [SQL](https://www.kaggle.com/learn/intro-to-sql) course.  You can reference the tutorial at [this link](https://www.kaggle.com/dansbecker/getting-started-with-sql-and-bigquery).**\n",
    "\n",
    "---\n"
   ]
  },
  {
   "cell_type": "markdown",
   "id": "5c21728c",
   "metadata": {
    "papermill": {
     "duration": 0.004103,
     "end_time": "2023-08-04T00:29:58.978314",
     "exception": false,
     "start_time": "2023-08-04T00:29:58.974211",
     "status": "completed"
    },
    "tags": []
   },
   "source": [
    "# Introduction\n",
    "\n",
    "The first test of your new data exploration skills uses data describing crime in the city of Chicago.\n",
    "\n",
    "Before you get started, run the following cell. It sets up the automated feedback system to review your answers."
   ]
  },
  {
   "cell_type": "code",
   "execution_count": 1,
   "id": "01e2bdee",
   "metadata": {
    "execution": {
     "iopub.execute_input": "2023-08-04T00:29:58.989712Z",
     "iopub.status.busy": "2023-08-04T00:29:58.988891Z",
     "iopub.status.idle": "2023-08-04T00:29:59.826924Z",
     "shell.execute_reply": "2023-08-04T00:29:59.825496Z"
    },
    "papermill": {
     "duration": 0.846767,
     "end_time": "2023-08-04T00:29:59.829507",
     "exception": false,
     "start_time": "2023-08-04T00:29:58.982740",
     "status": "completed"
    },
    "tags": []
   },
   "outputs": [
    {
     "name": "stdout",
     "output_type": "stream",
     "text": [
      "Using Kaggle's public dataset BigQuery integration.\n",
      "Setup Complete\n"
     ]
    }
   ],
   "source": [
    "# Set up feedack system\n",
    "from learntools.core import binder\n",
    "binder.bind(globals())\n",
    "from learntools.sql.ex1 import *\n",
    "print(\"Setup Complete\")"
   ]
  },
  {
   "cell_type": "markdown",
   "id": "039ec676",
   "metadata": {
    "papermill": {
     "duration": 0.004293,
     "end_time": "2023-08-04T00:29:59.838555",
     "exception": false,
     "start_time": "2023-08-04T00:29:59.834262",
     "status": "completed"
    },
    "tags": []
   },
   "source": [
    "Use the next code cell to fetch the dataset."
   ]
  },
  {
   "cell_type": "code",
   "execution_count": 2,
   "id": "e5bcb12a",
   "metadata": {
    "execution": {
     "iopub.execute_input": "2023-08-04T00:29:59.849060Z",
     "iopub.status.busy": "2023-08-04T00:29:59.848619Z",
     "iopub.status.idle": "2023-08-04T00:30:00.143380Z",
     "shell.execute_reply": "2023-08-04T00:30:00.141746Z"
    },
    "papermill": {
     "duration": 0.303793,
     "end_time": "2023-08-04T00:30:00.146684",
     "exception": false,
     "start_time": "2023-08-04T00:29:59.842891",
     "status": "completed"
    },
    "tags": []
   },
   "outputs": [
    {
     "name": "stdout",
     "output_type": "stream",
     "text": [
      "Using Kaggle's public dataset BigQuery integration.\n"
     ]
    }
   ],
   "source": [
    "from google.cloud import bigquery\n",
    "\n",
    "# Create a \"Client\" object\n",
    "client = bigquery.Client()\n",
    "\n",
    "# Construct a reference to the \"chicago_crime\" dataset\n",
    "dataset_ref = client.dataset(\"chicago_crime\", project=\"bigquery-public-data\")\n",
    "\n",
    "# API request - fetch the dataset\n",
    "dataset = client.get_dataset(dataset_ref)"
   ]
  },
  {
   "cell_type": "markdown",
   "id": "542eab2e",
   "metadata": {
    "papermill": {
     "duration": 0.004728,
     "end_time": "2023-08-04T00:30:00.156522",
     "exception": false,
     "start_time": "2023-08-04T00:30:00.151794",
     "status": "completed"
    },
    "tags": []
   },
   "source": [
    "# Exercises\n",
    "\n",
    "### 1) Count tables in the dataset\n",
    "\n",
    "How many tables are in the Chicago Crime dataset?"
   ]
  },
  {
   "cell_type": "code",
   "execution_count": 3,
   "id": "ae61dc46",
   "metadata": {
    "execution": {
     "iopub.execute_input": "2023-08-04T00:30:00.169544Z",
     "iopub.status.busy": "2023-08-04T00:30:00.169117Z",
     "iopub.status.idle": "2023-08-04T00:30:00.390434Z",
     "shell.execute_reply": "2023-08-04T00:30:00.388598Z"
    },
    "papermill": {
     "duration": 0.231279,
     "end_time": "2023-08-04T00:30:00.393126",
     "exception": false,
     "start_time": "2023-08-04T00:30:00.161847",
     "status": "completed"
    },
    "tags": []
   },
   "outputs": [
    {
     "name": "stdout",
     "output_type": "stream",
     "text": [
      "crime\n"
     ]
    }
   ],
   "source": [
    "# Write the code you need here to figure out the answer\n",
    "tables = list(client.list_tables(dataset))\n",
    "\n",
    "for i in tables:\n",
    "    print(i.table_id)"
   ]
  },
  {
   "cell_type": "code",
   "execution_count": 4,
   "id": "28031562",
   "metadata": {
    "execution": {
     "iopub.execute_input": "2023-08-04T00:30:00.405898Z",
     "iopub.status.busy": "2023-08-04T00:30:00.405428Z",
     "iopub.status.idle": "2023-08-04T00:30:00.418646Z",
     "shell.execute_reply": "2023-08-04T00:30:00.416442Z"
    },
    "papermill": {
     "duration": 0.023043,
     "end_time": "2023-08-04T00:30:00.421643",
     "exception": false,
     "start_time": "2023-08-04T00:30:00.398600",
     "status": "completed"
    },
    "tags": []
   },
   "outputs": [
    {
     "data": {
      "application/javascript": [
       "parent.postMessage({\"jupyterEvent\": \"custom.exercise_interaction\", \"data\": {\"outcomeType\": 1, \"valueTowardsCompletion\": 0.3333333333333333, \"interactionType\": 1, \"questionType\": 1, \"questionId\": \"1_CountTables\", \"learnToolsVersion\": \"0.3.4\", \"failureMessage\": \"\", \"exceptionClass\": \"\", \"trace\": \"\"}}, \"*\")"
      ],
      "text/plain": [
       "<IPython.core.display.Javascript object>"
      ]
     },
     "metadata": {},
     "output_type": "display_data"
    },
    {
     "data": {
      "text/markdown": [
       "<span style=\"color:#33cc33\">Correct</span>"
      ],
      "text/plain": [
       "Correct"
      ]
     },
     "metadata": {},
     "output_type": "display_data"
    }
   ],
   "source": [
    "num_tables = 1  # Store the answer as num_tables and then run this cell\n",
    "\n",
    "# Check your answer\n",
    "q_1.check()"
   ]
  },
  {
   "cell_type": "markdown",
   "id": "ad1ac469",
   "metadata": {
    "papermill": {
     "duration": 0.00471,
     "end_time": "2023-08-04T00:30:00.432797",
     "exception": false,
     "start_time": "2023-08-04T00:30:00.428087",
     "status": "completed"
    },
    "tags": []
   },
   "source": [
    "For a hint or the solution, uncomment the appropriate line below."
   ]
  },
  {
   "cell_type": "code",
   "execution_count": 5,
   "id": "f2ea3899",
   "metadata": {
    "execution": {
     "iopub.execute_input": "2023-08-04T00:30:00.444663Z",
     "iopub.status.busy": "2023-08-04T00:30:00.444191Z",
     "iopub.status.idle": "2023-08-04T00:30:00.450686Z",
     "shell.execute_reply": "2023-08-04T00:30:00.448720Z"
    },
    "papermill": {
     "duration": 0.015575,
     "end_time": "2023-08-04T00:30:00.453280",
     "exception": false,
     "start_time": "2023-08-04T00:30:00.437705",
     "status": "completed"
    },
    "tags": []
   },
   "outputs": [],
   "source": [
    "#q_1.hint()\n",
    "#q_1.solution()"
   ]
  },
  {
   "cell_type": "markdown",
   "id": "b2c03e7c",
   "metadata": {
    "papermill": {
     "duration": 0.004654,
     "end_time": "2023-08-04T00:30:00.463056",
     "exception": false,
     "start_time": "2023-08-04T00:30:00.458402",
     "status": "completed"
    },
    "tags": []
   },
   "source": [
    "### 2) Explore the table schema\n",
    "\n",
    "How many columns in the `crime` table have `TIMESTAMP` data?"
   ]
  },
  {
   "cell_type": "code",
   "execution_count": 6,
   "id": "04f3cc09",
   "metadata": {
    "execution": {
     "iopub.execute_input": "2023-08-04T00:30:00.475575Z",
     "iopub.status.busy": "2023-08-04T00:30:00.475106Z",
     "iopub.status.idle": "2023-08-04T00:30:00.695621Z",
     "shell.execute_reply": "2023-08-04T00:30:00.694270Z"
    },
    "papermill": {
     "duration": 0.230199,
     "end_time": "2023-08-04T00:30:00.698510",
     "exception": false,
     "start_time": "2023-08-04T00:30:00.468311",
     "status": "completed"
    },
    "tags": []
   },
   "outputs": [
    {
     "data": {
      "text/plain": [
       "[SchemaField('unique_key', 'INTEGER', 'REQUIRED', None, (), None),\n",
       " SchemaField('case_number', 'STRING', 'NULLABLE', None, (), None),\n",
       " SchemaField('date', 'TIMESTAMP', 'NULLABLE', None, (), None),\n",
       " SchemaField('block', 'STRING', 'NULLABLE', None, (), None),\n",
       " SchemaField('iucr', 'STRING', 'NULLABLE', None, (), None),\n",
       " SchemaField('primary_type', 'STRING', 'NULLABLE', None, (), None),\n",
       " SchemaField('description', 'STRING', 'NULLABLE', None, (), None),\n",
       " SchemaField('location_description', 'STRING', 'NULLABLE', None, (), None),\n",
       " SchemaField('arrest', 'BOOLEAN', 'NULLABLE', None, (), None),\n",
       " SchemaField('domestic', 'BOOLEAN', 'NULLABLE', None, (), None),\n",
       " SchemaField('beat', 'INTEGER', 'NULLABLE', None, (), None),\n",
       " SchemaField('district', 'INTEGER', 'NULLABLE', None, (), None),\n",
       " SchemaField('ward', 'INTEGER', 'NULLABLE', None, (), None),\n",
       " SchemaField('community_area', 'INTEGER', 'NULLABLE', None, (), None),\n",
       " SchemaField('fbi_code', 'STRING', 'NULLABLE', None, (), None),\n",
       " SchemaField('x_coordinate', 'FLOAT', 'NULLABLE', None, (), None),\n",
       " SchemaField('y_coordinate', 'FLOAT', 'NULLABLE', None, (), None),\n",
       " SchemaField('year', 'INTEGER', 'NULLABLE', None, (), None),\n",
       " SchemaField('updated_on', 'TIMESTAMP', 'NULLABLE', None, (), None),\n",
       " SchemaField('latitude', 'FLOAT', 'NULLABLE', None, (), None),\n",
       " SchemaField('longitude', 'FLOAT', 'NULLABLE', None, (), None),\n",
       " SchemaField('location', 'STRING', 'NULLABLE', None, (), None)]"
      ]
     },
     "execution_count": 6,
     "metadata": {},
     "output_type": "execute_result"
    }
   ],
   "source": [
    "# Write the code to figure out the answer\n",
    "table_ref = dataset_ref.table('crime')\n",
    "\n",
    "table = client.get_table(table_ref)\n",
    "table.schema"
   ]
  },
  {
   "cell_type": "code",
   "execution_count": 7,
   "id": "57074ac7",
   "metadata": {
    "execution": {
     "iopub.execute_input": "2023-08-04T00:30:00.710805Z",
     "iopub.status.busy": "2023-08-04T00:30:00.710398Z",
     "iopub.status.idle": "2023-08-04T00:30:00.720553Z",
     "shell.execute_reply": "2023-08-04T00:30:00.719648Z"
    },
    "papermill": {
     "duration": 0.019417,
     "end_time": "2023-08-04T00:30:00.723201",
     "exception": false,
     "start_time": "2023-08-04T00:30:00.703784",
     "status": "completed"
    },
    "tags": []
   },
   "outputs": [
    {
     "data": {
      "application/javascript": [
       "parent.postMessage({\"jupyterEvent\": \"custom.exercise_interaction\", \"data\": {\"outcomeType\": 1, \"valueTowardsCompletion\": 0.3333333333333333, \"interactionType\": 1, \"questionType\": 1, \"questionId\": \"2_CountTimestampFields\", \"learnToolsVersion\": \"0.3.4\", \"failureMessage\": \"\", \"exceptionClass\": \"\", \"trace\": \"\"}}, \"*\")"
      ],
      "text/plain": [
       "<IPython.core.display.Javascript object>"
      ]
     },
     "metadata": {},
     "output_type": "display_data"
    },
    {
     "data": {
      "text/markdown": [
       "<span style=\"color:#33cc33\">Correct</span>"
      ],
      "text/plain": [
       "Correct"
      ]
     },
     "metadata": {},
     "output_type": "display_data"
    }
   ],
   "source": [
    "num_timestamp_fields = 2 # Put your answer here\n",
    "\n",
    "# Check your answer\n",
    "q_2.check()"
   ]
  },
  {
   "cell_type": "markdown",
   "id": "c5481e9e",
   "metadata": {
    "papermill": {
     "duration": 0.005264,
     "end_time": "2023-08-04T00:30:00.734362",
     "exception": false,
     "start_time": "2023-08-04T00:30:00.729098",
     "status": "completed"
    },
    "tags": []
   },
   "source": [
    "For a hint or the solution, uncomment the appropriate line below."
   ]
  },
  {
   "cell_type": "code",
   "execution_count": 8,
   "id": "52382f25",
   "metadata": {
    "execution": {
     "iopub.execute_input": "2023-08-04T00:30:00.747045Z",
     "iopub.status.busy": "2023-08-04T00:30:00.746653Z",
     "iopub.status.idle": "2023-08-04T00:30:00.752198Z",
     "shell.execute_reply": "2023-08-04T00:30:00.750867Z"
    },
    "papermill": {
     "duration": 0.014992,
     "end_time": "2023-08-04T00:30:00.754809",
     "exception": false,
     "start_time": "2023-08-04T00:30:00.739817",
     "status": "completed"
    },
    "tags": []
   },
   "outputs": [],
   "source": [
    "#q_2.hint()\n",
    "#q_2.solution()"
   ]
  },
  {
   "cell_type": "markdown",
   "id": "4ebcef27",
   "metadata": {
    "papermill": {
     "duration": 0.005362,
     "end_time": "2023-08-04T00:30:00.765859",
     "exception": false,
     "start_time": "2023-08-04T00:30:00.760497",
     "status": "completed"
    },
    "tags": []
   },
   "source": [
    "### 3) Create a crime map\n",
    "\n",
    "If you wanted to create a map with a dot at the location of each crime, what are the names of the two fields you likely need to pull out of the `crime` table to plot the crimes on a map?"
   ]
  },
  {
   "cell_type": "code",
   "execution_count": 9,
   "id": "50af020e",
   "metadata": {
    "execution": {
     "iopub.execute_input": "2023-08-04T00:30:00.778380Z",
     "iopub.status.busy": "2023-08-04T00:30:00.777966Z",
     "iopub.status.idle": "2023-08-04T00:30:01.467399Z",
     "shell.execute_reply": "2023-08-04T00:30:01.466457Z"
    },
    "papermill": {
     "duration": 0.698127,
     "end_time": "2023-08-04T00:30:01.469299",
     "exception": false,
     "start_time": "2023-08-04T00:30:00.771172",
     "status": "completed"
    },
    "tags": []
   },
   "outputs": [
    {
     "data": {
      "text/html": [
       "<div>\n",
       "<style scoped>\n",
       "    .dataframe tbody tr th:only-of-type {\n",
       "        vertical-align: middle;\n",
       "    }\n",
       "\n",
       "    .dataframe tbody tr th {\n",
       "        vertical-align: top;\n",
       "    }\n",
       "\n",
       "    .dataframe thead th {\n",
       "        text-align: right;\n",
       "    }\n",
       "</style>\n",
       "<table border=\"1\" class=\"dataframe\">\n",
       "  <thead>\n",
       "    <tr style=\"text-align: right;\">\n",
       "      <th></th>\n",
       "      <th>unique_key</th>\n",
       "      <th>case_number</th>\n",
       "      <th>date</th>\n",
       "      <th>block</th>\n",
       "      <th>iucr</th>\n",
       "      <th>primary_type</th>\n",
       "      <th>description</th>\n",
       "      <th>location_description</th>\n",
       "      <th>arrest</th>\n",
       "      <th>domestic</th>\n",
       "      <th>...</th>\n",
       "      <th>ward</th>\n",
       "      <th>community_area</th>\n",
       "      <th>fbi_code</th>\n",
       "      <th>x_coordinate</th>\n",
       "      <th>y_coordinate</th>\n",
       "      <th>year</th>\n",
       "      <th>updated_on</th>\n",
       "      <th>latitude</th>\n",
       "      <th>longitude</th>\n",
       "      <th>location</th>\n",
       "    </tr>\n",
       "  </thead>\n",
       "  <tbody>\n",
       "    <tr>\n",
       "      <th>0</th>\n",
       "      <td>23029</td>\n",
       "      <td>HZ554936</td>\n",
       "      <td>2016-12-17 01:25:00+00:00</td>\n",
       "      <td>001XX W 105TH ST</td>\n",
       "      <td>0110</td>\n",
       "      <td>HOMICIDE</td>\n",
       "      <td>FIRST DEGREE MURDER</td>\n",
       "      <td>HOUSE</td>\n",
       "      <td>True</td>\n",
       "      <td>False</td>\n",
       "      <td>...</td>\n",
       "      <td>34</td>\n",
       "      <td>49</td>\n",
       "      <td>01A</td>\n",
       "      <td>1177249.0</td>\n",
       "      <td>1835331.0</td>\n",
       "      <td>2016</td>\n",
       "      <td>2022-09-18 04:45:51+00:00</td>\n",
       "      <td>41.703478</td>\n",
       "      <td>-87.626563</td>\n",
       "      <td>(41.703478083, -87.626563168)</td>\n",
       "    </tr>\n",
       "    <tr>\n",
       "      <th>1</th>\n",
       "      <td>9970506</td>\n",
       "      <td>HY160321</td>\n",
       "      <td>2015-02-22 02:00:00+00:00</td>\n",
       "      <td>001XX E 107TH ST</td>\n",
       "      <td>0265</td>\n",
       "      <td>CRIMINAL SEXUAL ASSAULT</td>\n",
       "      <td>AGGRAVATED - OTHER</td>\n",
       "      <td>APARTMENT</td>\n",
       "      <td>False</td>\n",
       "      <td>False</td>\n",
       "      <td>...</td>\n",
       "      <td>9</td>\n",
       "      <td>49</td>\n",
       "      <td>02</td>\n",
       "      <td>1179283.0</td>\n",
       "      <td>1834056.0</td>\n",
       "      <td>2015</td>\n",
       "      <td>2021-08-12 04:59:32+00:00</td>\n",
       "      <td>41.699933</td>\n",
       "      <td>-87.619154</td>\n",
       "      <td>(41.699933258, -87.619153849)</td>\n",
       "    </tr>\n",
       "    <tr>\n",
       "      <th>2</th>\n",
       "      <td>12376218</td>\n",
       "      <td>JE243259</td>\n",
       "      <td>2021-05-26 04:00:00+00:00</td>\n",
       "      <td>007XX E 105TH ST</td>\n",
       "      <td>0281</td>\n",
       "      <td>CRIMINAL SEXUAL ASSAULT</td>\n",
       "      <td>NON-AGGRAVATED</td>\n",
       "      <td>RESIDENCE</td>\n",
       "      <td>False</td>\n",
       "      <td>False</td>\n",
       "      <td>...</td>\n",
       "      <td>9</td>\n",
       "      <td>50</td>\n",
       "      <td>02</td>\n",
       "      <td>1182965.0</td>\n",
       "      <td>1835489.0</td>\n",
       "      <td>2021</td>\n",
       "      <td>2021-06-02 05:19:00+00:00</td>\n",
       "      <td>41.703781</td>\n",
       "      <td>-87.605628</td>\n",
       "      <td>(41.70378102, -87.605627658)</td>\n",
       "    </tr>\n",
       "    <tr>\n",
       "      <th>3</th>\n",
       "      <td>10951540</td>\n",
       "      <td>JA271106</td>\n",
       "      <td>2017-05-16 03:00:00+00:00</td>\n",
       "      <td>103XX S INDIANA AVE</td>\n",
       "      <td>0281</td>\n",
       "      <td>CRIM SEXUAL ASSAULT</td>\n",
       "      <td>NON-AGGRAVATED</td>\n",
       "      <td>APARTMENT</td>\n",
       "      <td>False</td>\n",
       "      <td>True</td>\n",
       "      <td>...</td>\n",
       "      <td>9</td>\n",
       "      <td>49</td>\n",
       "      <td>02</td>\n",
       "      <td>1179413.0</td>\n",
       "      <td>1836301.0</td>\n",
       "      <td>2017</td>\n",
       "      <td>2018-02-10 03:50:01+00:00</td>\n",
       "      <td>41.706091</td>\n",
       "      <td>-87.618610</td>\n",
       "      <td>(41.706090886, -87.618609624)</td>\n",
       "    </tr>\n",
       "    <tr>\n",
       "      <th>4</th>\n",
       "      <td>7958444</td>\n",
       "      <td>HT185296</td>\n",
       "      <td>2011-02-25 04:30:00+00:00</td>\n",
       "      <td>003XX W 106TH ST</td>\n",
       "      <td>0281</td>\n",
       "      <td>CRIM SEXUAL ASSAULT</td>\n",
       "      <td>NON-AGGRAVATED</td>\n",
       "      <td>RESIDENCE</td>\n",
       "      <td>False</td>\n",
       "      <td>False</td>\n",
       "      <td>...</td>\n",
       "      <td>34</td>\n",
       "      <td>49</td>\n",
       "      <td>02</td>\n",
       "      <td>1175957.0</td>\n",
       "      <td>1834635.0</td>\n",
       "      <td>2011</td>\n",
       "      <td>2018-02-10 03:50:01+00:00</td>\n",
       "      <td>41.701597</td>\n",
       "      <td>-87.631315</td>\n",
       "      <td>(41.701597158, -87.631314957)</td>\n",
       "    </tr>\n",
       "  </tbody>\n",
       "</table>\n",
       "<p>5 rows × 22 columns</p>\n",
       "</div>"
      ],
      "text/plain": [
       "   unique_key case_number                      date                block  \\\n",
       "0       23029    HZ554936 2016-12-17 01:25:00+00:00     001XX W 105TH ST   \n",
       "1     9970506    HY160321 2015-02-22 02:00:00+00:00     001XX E 107TH ST   \n",
       "2    12376218    JE243259 2021-05-26 04:00:00+00:00     007XX E 105TH ST   \n",
       "3    10951540    JA271106 2017-05-16 03:00:00+00:00  103XX S INDIANA AVE   \n",
       "4     7958444    HT185296 2011-02-25 04:30:00+00:00     003XX W 106TH ST   \n",
       "\n",
       "   iucr             primary_type          description location_description  \\\n",
       "0  0110                 HOMICIDE  FIRST DEGREE MURDER                HOUSE   \n",
       "1  0265  CRIMINAL SEXUAL ASSAULT   AGGRAVATED - OTHER            APARTMENT   \n",
       "2  0281  CRIMINAL SEXUAL ASSAULT       NON-AGGRAVATED            RESIDENCE   \n",
       "3  0281      CRIM SEXUAL ASSAULT       NON-AGGRAVATED            APARTMENT   \n",
       "4  0281      CRIM SEXUAL ASSAULT       NON-AGGRAVATED            RESIDENCE   \n",
       "\n",
       "   arrest  domestic  ...  ward  community_area  fbi_code  x_coordinate  \\\n",
       "0    True     False  ...    34              49       01A     1177249.0   \n",
       "1   False     False  ...     9              49        02     1179283.0   \n",
       "2   False     False  ...     9              50        02     1182965.0   \n",
       "3   False      True  ...     9              49        02     1179413.0   \n",
       "4   False     False  ...    34              49        02     1175957.0   \n",
       "\n",
       "  y_coordinate  year                updated_on   latitude  longitude  \\\n",
       "0    1835331.0  2016 2022-09-18 04:45:51+00:00  41.703478 -87.626563   \n",
       "1    1834056.0  2015 2021-08-12 04:59:32+00:00  41.699933 -87.619154   \n",
       "2    1835489.0  2021 2021-06-02 05:19:00+00:00  41.703781 -87.605628   \n",
       "3    1836301.0  2017 2018-02-10 03:50:01+00:00  41.706091 -87.618610   \n",
       "4    1834635.0  2011 2018-02-10 03:50:01+00:00  41.701597 -87.631315   \n",
       "\n",
       "                        location  \n",
       "0  (41.703478083, -87.626563168)  \n",
       "1  (41.699933258, -87.619153849)  \n",
       "2   (41.70378102, -87.605627658)  \n",
       "3  (41.706090886, -87.618609624)  \n",
       "4  (41.701597158, -87.631314957)  \n",
       "\n",
       "[5 rows x 22 columns]"
      ]
     },
     "execution_count": 9,
     "metadata": {},
     "output_type": "execute_result"
    }
   ],
   "source": [
    "# Write the code here to explore the data so you can find the answer\n",
    "client.list_rows(table, max_results=5).to_dataframe()"
   ]
  },
  {
   "cell_type": "code",
   "execution_count": 10,
   "id": "5c67368b",
   "metadata": {
    "execution": {
     "iopub.execute_input": "2023-08-04T00:30:01.482937Z",
     "iopub.status.busy": "2023-08-04T00:30:01.481826Z",
     "iopub.status.idle": "2023-08-04T00:30:01.490093Z",
     "shell.execute_reply": "2023-08-04T00:30:01.488850Z"
    },
    "papermill": {
     "duration": 0.017882,
     "end_time": "2023-08-04T00:30:01.492783",
     "exception": false,
     "start_time": "2023-08-04T00:30:01.474901",
     "status": "completed"
    },
    "tags": []
   },
   "outputs": [
    {
     "data": {
      "application/javascript": [
       "parent.postMessage({\"jupyterEvent\": \"custom.exercise_interaction\", \"data\": {\"outcomeType\": 1, \"valueTowardsCompletion\": 0.3333333333333333, \"interactionType\": 1, \"questionType\": 2, \"questionId\": \"3_IdentifyFieldsForPlotting\", \"learnToolsVersion\": \"0.3.4\", \"failureMessage\": \"\", \"exceptionClass\": \"\", \"trace\": \"\"}}, \"*\")"
      ],
      "text/plain": [
       "<IPython.core.display.Javascript object>"
      ]
     },
     "metadata": {},
     "output_type": "display_data"
    },
    {
     "data": {
      "text/markdown": [
       "<span style=\"color:#33cc33\">Correct</span>"
      ],
      "text/plain": [
       "Correct"
      ]
     },
     "metadata": {},
     "output_type": "display_data"
    }
   ],
   "source": [
    "fields_for_plotting = ['latitude', 'longitude'] # Put your answers here\n",
    "\n",
    "# Check your answer\n",
    "q_3.check()"
   ]
  },
  {
   "cell_type": "markdown",
   "id": "5779aab3",
   "metadata": {
    "papermill": {
     "duration": 0.006084,
     "end_time": "2023-08-04T00:30:01.505908",
     "exception": false,
     "start_time": "2023-08-04T00:30:01.499824",
     "status": "completed"
    },
    "tags": []
   },
   "source": [
    "For a hint or the solution, uncomment the appropriate line below."
   ]
  },
  {
   "cell_type": "code",
   "execution_count": 11,
   "id": "d2d4dfba",
   "metadata": {
    "execution": {
     "iopub.execute_input": "2023-08-04T00:30:01.519201Z",
     "iopub.status.busy": "2023-08-04T00:30:01.518805Z",
     "iopub.status.idle": "2023-08-04T00:30:01.524306Z",
     "shell.execute_reply": "2023-08-04T00:30:01.522732Z"
    },
    "papermill": {
     "duration": 0.015132,
     "end_time": "2023-08-04T00:30:01.526836",
     "exception": false,
     "start_time": "2023-08-04T00:30:01.511704",
     "status": "completed"
    },
    "tags": []
   },
   "outputs": [],
   "source": [
    "#q_3.hint()\n",
    "#q_3.solution()"
   ]
  },
  {
   "cell_type": "markdown",
   "id": "7879a3f5",
   "metadata": {
    "papermill": {
     "duration": 0.005366,
     "end_time": "2023-08-04T00:30:01.538876",
     "exception": false,
     "start_time": "2023-08-04T00:30:01.533510",
     "status": "completed"
    },
    "tags": []
   },
   "source": [
    "Thinking about the question above, there are a few columns that appear to have geographic data. Look at a few values (with the `list_rows()` command) to see if you can determine their relationship.  Two columns will still be hard to interpret. But it should be obvious how the `location` column relates to `latitude` and `longitude`."
   ]
  },
  {
   "cell_type": "code",
   "execution_count": 12,
   "id": "77ec3038",
   "metadata": {
    "execution": {
     "iopub.execute_input": "2023-08-04T00:30:01.551968Z",
     "iopub.status.busy": "2023-08-04T00:30:01.551410Z",
     "iopub.status.idle": "2023-08-04T00:30:01.556888Z",
     "shell.execute_reply": "2023-08-04T00:30:01.555303Z"
    },
    "papermill": {
     "duration": 0.01486,
     "end_time": "2023-08-04T00:30:01.559442",
     "exception": false,
     "start_time": "2023-08-04T00:30:01.544582",
     "status": "completed"
    },
    "tags": []
   },
   "outputs": [],
   "source": [
    "# Scratch space for your code"
   ]
  },
  {
   "cell_type": "markdown",
   "id": "4658f75a",
   "metadata": {
    "papermill": {
     "duration": 0.006489,
     "end_time": "2023-08-04T00:30:01.572489",
     "exception": false,
     "start_time": "2023-08-04T00:30:01.566000",
     "status": "completed"
    },
    "tags": []
   },
   "source": [
    "# Keep going\n",
    "\n",
    "You've looked at the schema, but you haven't yet done anything exciting with the data itself. Things get more interesting when you get to the data, so keep going to **[write your first SQL query](https://www.kaggle.com/dansbecker/select-from-where).**"
   ]
  },
  {
   "cell_type": "markdown",
   "id": "800b3308",
   "metadata": {
    "papermill": {
     "duration": 0.005994,
     "end_time": "2023-08-04T00:30:01.584865",
     "exception": false,
     "start_time": "2023-08-04T00:30:01.578871",
     "status": "completed"
    },
    "tags": []
   },
   "source": [
    "---\n",
    "\n",
    "\n",
    "\n",
    "\n",
    "*Have questions or comments? Visit the [course discussion forum](https://www.kaggle.com/learn/intro-to-sql/discussion) to chat with other learners.*"
   ]
  }
 ],
 "metadata": {
  "kernelspec": {
   "display_name": "Python 3",
   "language": "python",
   "name": "python3"
  },
  "language_info": {
   "codemirror_mode": {
    "name": "ipython",
    "version": 3
   },
   "file_extension": ".py",
   "mimetype": "text/x-python",
   "name": "python",
   "nbconvert_exporter": "python",
   "pygments_lexer": "ipython3",
   "version": "3.10.12"
  },
  "papermill": {
   "default_parameters": {},
   "duration": 12.470301,
   "end_time": "2023-08-04T00:30:02.512423",
   "environment_variables": {},
   "exception": null,
   "input_path": "__notebook__.ipynb",
   "output_path": "__notebook__.ipynb",
   "parameters": {},
   "start_time": "2023-08-04T00:29:50.042122",
   "version": "2.4.0"
  }
 },
 "nbformat": 4,
 "nbformat_minor": 5
}
