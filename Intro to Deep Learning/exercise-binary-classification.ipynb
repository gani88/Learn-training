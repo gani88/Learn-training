{
 "cells": [
  {
   "cell_type": "markdown",
   "id": "b217ed9e",
   "metadata": {
    "papermill": {
     "duration": 0.004633,
     "end_time": "2023-07-31T02:42:09.929131",
     "exception": false,
     "start_time": "2023-07-31T02:42:09.924498",
     "status": "completed"
    },
    "tags": []
   },
   "source": [
    "**This notebook is an exercise in the [Intro to Deep Learning](https://www.kaggle.com/learn/intro-to-deep-learning) course.  You can reference the tutorial at [this link](https://www.kaggle.com/ryanholbrook/binary-classification).**\n",
    "\n",
    "---\n"
   ]
  },
  {
   "cell_type": "markdown",
   "id": "51810c9a",
   "metadata": {
    "papermill": {
     "duration": 0.003911,
     "end_time": "2023-07-31T02:42:09.937352",
     "exception": false,
     "start_time": "2023-07-31T02:42:09.933441",
     "status": "completed"
    },
    "tags": []
   },
   "source": [
    "# Introduction #\n",
    "\n",
    "In this exercise, you'll build a model to predict hotel cancellations with a binary classifier."
   ]
  },
  {
   "cell_type": "code",
   "execution_count": 1,
   "id": "a28237ff",
   "metadata": {
    "execution": {
     "iopub.execute_input": "2023-07-31T02:42:09.947218Z",
     "iopub.status.busy": "2023-07-31T02:42:09.946581Z",
     "iopub.status.idle": "2023-07-31T02:42:09.985115Z",
     "shell.execute_reply": "2023-07-31T02:42:09.984289Z"
    },
    "lines_to_next_cell": 0,
    "papermill": {
     "duration": 0.04645,
     "end_time": "2023-07-31T02:42:09.987815",
     "exception": false,
     "start_time": "2023-07-31T02:42:09.941365",
     "status": "completed"
    },
    "tags": []
   },
   "outputs": [
    {
     "name": "stderr",
     "output_type": "stream",
     "text": [
      "/tmp/ipykernel_24/3338970720.py:3: MatplotlibDeprecationWarning: The seaborn styles shipped by Matplotlib are deprecated since 3.6, as they no longer correspond to the styles shipped by seaborn. However, they will remain available as 'seaborn-v0_8-<style>'. Alternatively, directly use the seaborn API instead.\n",
      "  plt.style.use('seaborn-whitegrid')\n"
     ]
    }
   ],
   "source": [
    "# Setup plotting\n",
    "import matplotlib.pyplot as plt\n",
    "plt.style.use('seaborn-whitegrid')\n",
    "# Set Matplotlib defaults\n",
    "plt.rc('figure', autolayout=True)\n",
    "plt.rc('axes', labelweight='bold', labelsize='large',\n",
    "       titleweight='bold', titlesize=18, titlepad=10)\n",
    "plt.rc('animation', html='html5')\n",
    "\n",
    "# Setup feedback system\n",
    "from learntools.core import binder\n",
    "binder.bind(globals())\n",
    "from learntools.deep_learning_intro.ex6 import *"
   ]
  },
  {
   "cell_type": "markdown",
   "id": "b1d6e45c",
   "metadata": {
    "papermill": {
     "duration": 0.003935,
     "end_time": "2023-07-31T02:42:09.995889",
     "exception": false,
     "start_time": "2023-07-31T02:42:09.991954",
     "status": "completed"
    },
    "tags": []
   },
   "source": [
    "First, load the *Hotel Cancellations* dataset."
   ]
  },
  {
   "cell_type": "code",
   "execution_count": 2,
   "id": "079a3764",
   "metadata": {
    "execution": {
     "iopub.execute_input": "2023-07-31T02:42:10.005987Z",
     "iopub.status.busy": "2023-07-31T02:42:10.005226Z",
     "iopub.status.idle": "2023-07-31T02:42:12.507078Z",
     "shell.execute_reply": "2023-07-31T02:42:12.505924Z"
    },
    "lines_to_next_cell": 2,
    "papermill": {
     "duration": 2.510019,
     "end_time": "2023-07-31T02:42:12.510112",
     "exception": false,
     "start_time": "2023-07-31T02:42:10.000093",
     "status": "completed"
    },
    "tags": []
   },
   "outputs": [
    {
     "name": "stderr",
     "output_type": "stream",
     "text": [
      "/opt/conda/lib/python3.10/site-packages/scipy/__init__.py:146: UserWarning: A NumPy version >=1.16.5 and <1.23.0 is required for this version of SciPy (detected version 1.23.5\n",
      "  warnings.warn(f\"A NumPy version >={np_minversion} and <{np_maxversion}\"\n"
     ]
    }
   ],
   "source": [
    "import pandas as pd\n",
    "\n",
    "from sklearn.model_selection import train_test_split\n",
    "from sklearn.preprocessing import StandardScaler, OneHotEncoder\n",
    "from sklearn.impute import SimpleImputer\n",
    "from sklearn.pipeline import make_pipeline\n",
    "from sklearn.compose import make_column_transformer\n",
    "\n",
    "hotel = pd.read_csv('../input/dl-course-data/hotel.csv')\n",
    "\n",
    "X = hotel.copy()\n",
    "y = X.pop('is_canceled')\n",
    "\n",
    "X['arrival_date_month'] = \\\n",
    "    X['arrival_date_month'].map(\n",
    "        {'January':1, 'February': 2, 'March':3,\n",
    "         'April':4, 'May':5, 'June':6, 'July':7,\n",
    "         'August':8, 'September':9, 'October':10,\n",
    "         'November':11, 'December':12}\n",
    "    )\n",
    "\n",
    "features_num = [\n",
    "    \"lead_time\", \"arrival_date_week_number\",\n",
    "    \"arrival_date_day_of_month\", \"stays_in_weekend_nights\",\n",
    "    \"stays_in_week_nights\", \"adults\", \"children\", \"babies\",\n",
    "    \"is_repeated_guest\", \"previous_cancellations\",\n",
    "    \"previous_bookings_not_canceled\", \"required_car_parking_spaces\",\n",
    "    \"total_of_special_requests\", \"adr\",\n",
    "]\n",
    "features_cat = [\n",
    "    \"hotel\", \"arrival_date_month\", \"meal\",\n",
    "    \"market_segment\", \"distribution_channel\",\n",
    "    \"reserved_room_type\", \"deposit_type\", \"customer_type\",\n",
    "]\n",
    "\n",
    "transformer_num = make_pipeline(\n",
    "    SimpleImputer(strategy=\"constant\"), # there are a few missing values\n",
    "    StandardScaler(),\n",
    ")\n",
    "transformer_cat = make_pipeline(\n",
    "    SimpleImputer(strategy=\"constant\", fill_value=\"NA\"),\n",
    "    OneHotEncoder(handle_unknown='ignore'),\n",
    ")\n",
    "\n",
    "preprocessor = make_column_transformer(\n",
    "    (transformer_num, features_num),\n",
    "    (transformer_cat, features_cat),\n",
    ")\n",
    "\n",
    "# stratify - make sure classes are evenlly represented across splits\n",
    "X_train, X_valid, y_train, y_valid = \\\n",
    "    train_test_split(X, y, stratify=y, train_size=0.75)\n",
    "\n",
    "X_train = preprocessor.fit_transform(X_train)\n",
    "X_valid = preprocessor.transform(X_valid)\n",
    "\n",
    "input_shape = [X_train.shape[1]]"
   ]
  },
  {
   "cell_type": "markdown",
   "id": "e77da906",
   "metadata": {
    "papermill": {
     "duration": 0.004465,
     "end_time": "2023-07-31T02:42:12.519157",
     "exception": false,
     "start_time": "2023-07-31T02:42:12.514692",
     "status": "completed"
    },
    "tags": []
   },
   "source": [
    "# 1) Define Model #\n",
    "\n",
    "The model we'll use this time will have both batch normalization and dropout layers. To ease reading we've broken the diagram into blocks, but you can define it layer by layer as usual.\n",
    "\n",
    "Define a model with an architecture given by this diagram:\n",
    "\n",
    "<figure style=\"padding: 1em;\">\n",
    "<img src=\"https://storage.googleapis.com/kaggle-media/learn/images/V04o59Z.png\" width=\"400\" alt=\"Diagram of network architecture: BatchNorm, Dense, BatchNorm, Dropout, Dense, BatchNorm, Dropout, Dense.\">\n",
    "<figcaption style=\"textalign: center; font-style: italic\"><center>Diagram of a binary classifier.</center></figcaption>\n",
    "</figure>\n"
   ]
  },
  {
   "cell_type": "code",
   "execution_count": 3,
   "id": "a6bf6354",
   "metadata": {
    "execution": {
     "iopub.execute_input": "2023-07-31T02:42:12.530091Z",
     "iopub.status.busy": "2023-07-31T02:42:12.529196Z",
     "iopub.status.idle": "2023-07-31T02:42:23.466848Z",
     "shell.execute_reply": "2023-07-31T02:42:23.465977Z"
    },
    "lines_to_next_cell": 2,
    "papermill": {
     "duration": 10.945684,
     "end_time": "2023-07-31T02:42:23.469406",
     "exception": false,
     "start_time": "2023-07-31T02:42:12.523722",
     "status": "completed"
    },
    "tags": []
   },
   "outputs": [
    {
     "name": "stderr",
     "output_type": "stream",
     "text": [
      "/opt/conda/lib/python3.10/site-packages/tensorflow_io/python/ops/__init__.py:98: UserWarning: unable to load libtensorflow_io_plugins.so: unable to open file: libtensorflow_io_plugins.so, from paths: ['/opt/conda/lib/python3.10/site-packages/tensorflow_io/python/ops/libtensorflow_io_plugins.so']\n",
      "caused by: ['/opt/conda/lib/python3.10/site-packages/tensorflow_io/python/ops/libtensorflow_io_plugins.so: undefined symbol: _ZN3tsl6StatusC1EN10tensorflow5error4CodeESt17basic_string_viewIcSt11char_traitsIcEENS_14SourceLocationE']\n",
      "  warnings.warn(f\"unable to load libtensorflow_io_plugins.so: {e}\")\n",
      "/opt/conda/lib/python3.10/site-packages/tensorflow_io/python/ops/__init__.py:104: UserWarning: file system plugins are not loaded: unable to open file: libtensorflow_io.so, from paths: ['/opt/conda/lib/python3.10/site-packages/tensorflow_io/python/ops/libtensorflow_io.so']\n",
      "caused by: ['/opt/conda/lib/python3.10/site-packages/tensorflow_io/python/ops/libtensorflow_io.so: undefined symbol: _ZTVN10tensorflow13GcsFileSystemE']\n",
      "  warnings.warn(f\"file system plugins are not loaded: {e}\")\n"
     ]
    },
    {
     "data": {
      "application/javascript": [
       "parent.postMessage({\"jupyterEvent\": \"custom.exercise_interaction\", \"data\": {\"outcomeType\": 1, \"valueTowardsCompletion\": 0.3333333333333333, \"interactionType\": 1, \"questionType\": 2, \"questionId\": \"1_Q1\", \"learnToolsVersion\": \"0.3.4\", \"failureMessage\": \"\", \"exceptionClass\": \"\", \"trace\": \"\"}}, \"*\")"
      ],
      "text/plain": [
       "<IPython.core.display.Javascript object>"
      ]
     },
     "metadata": {},
     "output_type": "display_data"
    },
    {
     "data": {
      "text/markdown": [
       "<span style=\"color:#33cc33\">Correct</span>"
      ],
      "text/plain": [
       "Correct"
      ]
     },
     "metadata": {},
     "output_type": "display_data"
    }
   ],
   "source": [
    "from tensorflow import keras\n",
    "from tensorflow.keras import layers\n",
    "\n",
    "# YOUR CODE HERE: define the model given in the diagram\n",
    "model = keras.Sequential([\n",
    "    layers.BatchNormalization(input_shape=input_shape),\n",
    "    layers.Dense(256, activation='relu'),\n",
    "    layers.BatchNormalization(),\n",
    "    layers.Dropout(0.3),\n",
    "    layers.Dense(256, activation='relu'),\n",
    "    layers.BatchNormalization(),\n",
    "    layers.Dropout(0.3),\n",
    "    layers.Dense(1, activation='sigmoid')\n",
    "                     \n",
    "])\n",
    "\n",
    "# Check your answer\n",
    "q_1.check()"
   ]
  },
  {
   "cell_type": "markdown",
   "id": "8f3244a8",
   "metadata": {
    "papermill": {
     "duration": 0.006472,
     "end_time": "2023-07-31T02:42:23.483432",
     "exception": false,
     "start_time": "2023-07-31T02:42:23.476960",
     "status": "completed"
    },
    "tags": []
   },
   "source": [
    "# 2) Add Optimizer, Loss, and Metric #\n",
    "\n",
    "Now compile the model with the Adam optimizer and binary versions of the cross-entropy loss and accuracy metric."
   ]
  },
  {
   "cell_type": "code",
   "execution_count": 4,
   "id": "2204725a",
   "metadata": {
    "execution": {
     "iopub.execute_input": "2023-07-31T02:42:23.498503Z",
     "iopub.status.busy": "2023-07-31T02:42:23.498032Z",
     "iopub.status.idle": "2023-07-31T02:42:23.531683Z",
     "shell.execute_reply": "2023-07-31T02:42:23.530344Z"
    },
    "lines_to_next_cell": 0,
    "papermill": {
     "duration": 0.043628,
     "end_time": "2023-07-31T02:42:23.533746",
     "exception": false,
     "start_time": "2023-07-31T02:42:23.490118",
     "status": "completed"
    },
    "tags": []
   },
   "outputs": [
    {
     "data": {
      "application/javascript": [
       "parent.postMessage({\"jupyterEvent\": \"custom.exercise_interaction\", \"data\": {\"outcomeType\": 1, \"valueTowardsCompletion\": 0.3333333333333333, \"interactionType\": 1, \"questionType\": 2, \"questionId\": \"2_Q2\", \"learnToolsVersion\": \"0.3.4\", \"failureMessage\": \"\", \"exceptionClass\": \"\", \"trace\": \"\"}}, \"*\")"
      ],
      "text/plain": [
       "<IPython.core.display.Javascript object>"
      ]
     },
     "metadata": {},
     "output_type": "display_data"
    },
    {
     "data": {
      "text/markdown": [
       "<span style=\"color:#33cc33\">Correct</span>"
      ],
      "text/plain": [
       "Correct"
      ]
     },
     "metadata": {},
     "output_type": "display_data"
    }
   ],
   "source": [
    "# YOUR CODE HERE\n",
    "model.compile(\n",
    "    optimizer='Adam',\n",
    "    loss='binary_crossentropy',\n",
    "    metrics=['binary_accuracy'])\n",
    "\n",
    "# Check your answer\n",
    "q_2.check()"
   ]
  },
  {
   "cell_type": "code",
   "execution_count": 5,
   "id": "73624c86",
   "metadata": {
    "execution": {
     "iopub.execute_input": "2023-07-31T02:42:23.546380Z",
     "iopub.status.busy": "2023-07-31T02:42:23.545689Z",
     "iopub.status.idle": "2023-07-31T02:42:23.550826Z",
     "shell.execute_reply": "2023-07-31T02:42:23.549966Z"
    },
    "lines_to_next_cell": 0,
    "papermill": {
     "duration": 0.01325,
     "end_time": "2023-07-31T02:42:23.552811",
     "exception": false,
     "start_time": "2023-07-31T02:42:23.539561",
     "status": "completed"
    },
    "tags": []
   },
   "outputs": [],
   "source": [
    "# Lines below will give you a hint or solution code\n",
    "#q_2.hint()\n",
    "#q_2.solution()"
   ]
  },
  {
   "cell_type": "markdown",
   "id": "1469837a",
   "metadata": {
    "papermill": {
     "duration": 0.004797,
     "end_time": "2023-07-31T02:42:23.562801",
     "exception": false,
     "start_time": "2023-07-31T02:42:23.558004",
     "status": "completed"
    },
    "tags": []
   },
   "source": [
    "Finally, run this cell to train the model and view the learning curves. It may run for around 60 to 70 epochs, which could take a minute or two."
   ]
  },
  {
   "cell_type": "code",
   "execution_count": 6,
   "id": "9e9a9000",
   "metadata": {
    "execution": {
     "iopub.execute_input": "2023-07-31T02:42:23.574844Z",
     "iopub.status.busy": "2023-07-31T02:42:23.573950Z",
     "iopub.status.idle": "2023-07-31T02:43:48.262080Z",
     "shell.execute_reply": "2023-07-31T02:43:48.261136Z"
    },
    "papermill": {
     "duration": 84.696167,
     "end_time": "2023-07-31T02:43:48.264197",
     "exception": false,
     "start_time": "2023-07-31T02:42:23.568030",
     "status": "completed"
    },
    "tags": []
   },
   "outputs": [
    {
     "name": "stdout",
     "output_type": "stream",
     "text": [
      "Epoch 1/200\n",
      "175/175 [==============================] - 7s 7ms/step - loss: 0.4828 - binary_accuracy: 0.7725 - val_loss: 0.4302 - val_binary_accuracy: 0.7971\n",
      "Epoch 2/200\n",
      "175/175 [==============================] - 1s 6ms/step - loss: 0.4235 - binary_accuracy: 0.8018 - val_loss: 0.4034 - val_binary_accuracy: 0.8096\n",
      "Epoch 3/200\n",
      "175/175 [==============================] - 1s 6ms/step - loss: 0.4100 - binary_accuracy: 0.8072 - val_loss: 0.3964 - val_binary_accuracy: 0.8144\n",
      "Epoch 4/200\n",
      "175/175 [==============================] - 1s 6ms/step - loss: 0.4009 - binary_accuracy: 0.8109 - val_loss: 0.3901 - val_binary_accuracy: 0.8197\n",
      "Epoch 5/200\n",
      "175/175 [==============================] - 1s 6ms/step - loss: 0.3968 - binary_accuracy: 0.8151 - val_loss: 0.3883 - val_binary_accuracy: 0.8192\n",
      "Epoch 6/200\n",
      "175/175 [==============================] - 1s 6ms/step - loss: 0.3921 - binary_accuracy: 0.8167 - val_loss: 0.3833 - val_binary_accuracy: 0.8237\n",
      "Epoch 7/200\n",
      "175/175 [==============================] - 1s 6ms/step - loss: 0.3887 - binary_accuracy: 0.8190 - val_loss: 0.3838 - val_binary_accuracy: 0.8233\n",
      "Epoch 8/200\n",
      "175/175 [==============================] - 1s 6ms/step - loss: 0.3848 - binary_accuracy: 0.8216 - val_loss: 0.3798 - val_binary_accuracy: 0.8256\n",
      "Epoch 9/200\n",
      "175/175 [==============================] - 1s 6ms/step - loss: 0.3814 - binary_accuracy: 0.8238 - val_loss: 0.3764 - val_binary_accuracy: 0.8281\n",
      "Epoch 10/200\n",
      "175/175 [==============================] - 1s 6ms/step - loss: 0.3785 - binary_accuracy: 0.8244 - val_loss: 0.3765 - val_binary_accuracy: 0.8267\n",
      "Epoch 11/200\n",
      "175/175 [==============================] - 1s 6ms/step - loss: 0.3761 - binary_accuracy: 0.8256 - val_loss: 0.3745 - val_binary_accuracy: 0.8277\n",
      "Epoch 12/200\n",
      "175/175 [==============================] - 1s 6ms/step - loss: 0.3737 - binary_accuracy: 0.8265 - val_loss: 0.3734 - val_binary_accuracy: 0.8304\n",
      "Epoch 13/200\n",
      "175/175 [==============================] - 1s 6ms/step - loss: 0.3704 - binary_accuracy: 0.8285 - val_loss: 0.3715 - val_binary_accuracy: 0.8302\n",
      "Epoch 14/200\n",
      "175/175 [==============================] - 1s 6ms/step - loss: 0.3678 - binary_accuracy: 0.8298 - val_loss: 0.3686 - val_binary_accuracy: 0.8316\n",
      "Epoch 15/200\n",
      "175/175 [==============================] - 1s 6ms/step - loss: 0.3672 - binary_accuracy: 0.8304 - val_loss: 0.3678 - val_binary_accuracy: 0.8315\n",
      "Epoch 16/200\n",
      "175/175 [==============================] - 1s 6ms/step - loss: 0.3647 - binary_accuracy: 0.8310 - val_loss: 0.3667 - val_binary_accuracy: 0.8332\n",
      "Epoch 17/200\n",
      "175/175 [==============================] - 1s 7ms/step - loss: 0.3635 - binary_accuracy: 0.8320 - val_loss: 0.3641 - val_binary_accuracy: 0.8340\n",
      "Epoch 18/200\n",
      "175/175 [==============================] - 1s 6ms/step - loss: 0.3621 - binary_accuracy: 0.8329 - val_loss: 0.3658 - val_binary_accuracy: 0.8350\n",
      "Epoch 19/200\n",
      "175/175 [==============================] - 1s 6ms/step - loss: 0.3601 - binary_accuracy: 0.8337 - val_loss: 0.3646 - val_binary_accuracy: 0.8361\n",
      "Epoch 20/200\n",
      "175/175 [==============================] - 1s 6ms/step - loss: 0.3583 - binary_accuracy: 0.8345 - val_loss: 0.3624 - val_binary_accuracy: 0.8362\n",
      "Epoch 21/200\n",
      "175/175 [==============================] - 1s 6ms/step - loss: 0.3570 - binary_accuracy: 0.8353 - val_loss: 0.3627 - val_binary_accuracy: 0.8352\n",
      "Epoch 22/200\n",
      "175/175 [==============================] - 1s 6ms/step - loss: 0.3549 - binary_accuracy: 0.8360 - val_loss: 0.3611 - val_binary_accuracy: 0.8355\n",
      "Epoch 23/200\n",
      "175/175 [==============================] - 1s 8ms/step - loss: 0.3554 - binary_accuracy: 0.8355 - val_loss: 0.3597 - val_binary_accuracy: 0.8370\n",
      "Epoch 24/200\n",
      "175/175 [==============================] - 1s 7ms/step - loss: 0.3528 - binary_accuracy: 0.8381 - val_loss: 0.3599 - val_binary_accuracy: 0.8354\n",
      "Epoch 25/200\n",
      "175/175 [==============================] - 1s 6ms/step - loss: 0.3523 - binary_accuracy: 0.8384 - val_loss: 0.3592 - val_binary_accuracy: 0.8356\n",
      "Epoch 26/200\n",
      "175/175 [==============================] - 1s 7ms/step - loss: 0.3509 - binary_accuracy: 0.8385 - val_loss: 0.3584 - val_binary_accuracy: 0.8386\n",
      "Epoch 27/200\n",
      "175/175 [==============================] - 1s 6ms/step - loss: 0.3498 - binary_accuracy: 0.8381 - val_loss: 0.3600 - val_binary_accuracy: 0.8359\n",
      "Epoch 28/200\n",
      "175/175 [==============================] - 1s 6ms/step - loss: 0.3495 - binary_accuracy: 0.8393 - val_loss: 0.3580 - val_binary_accuracy: 0.8374\n",
      "Epoch 29/200\n",
      "175/175 [==============================] - 1s 6ms/step - loss: 0.3470 - binary_accuracy: 0.8399 - val_loss: 0.3583 - val_binary_accuracy: 0.8362\n",
      "Epoch 30/200\n",
      "175/175 [==============================] - 1s 6ms/step - loss: 0.3464 - binary_accuracy: 0.8405 - val_loss: 0.3582 - val_binary_accuracy: 0.8365\n",
      "Epoch 31/200\n",
      "175/175 [==============================] - 1s 6ms/step - loss: 0.3461 - binary_accuracy: 0.8393 - val_loss: 0.3551 - val_binary_accuracy: 0.8394\n",
      "Epoch 32/200\n",
      "175/175 [==============================] - 1s 6ms/step - loss: 0.3452 - binary_accuracy: 0.8402 - val_loss: 0.3561 - val_binary_accuracy: 0.8390\n",
      "Epoch 33/200\n",
      "175/175 [==============================] - 1s 6ms/step - loss: 0.3434 - binary_accuracy: 0.8423 - val_loss: 0.3549 - val_binary_accuracy: 0.8387\n",
      "Epoch 34/200\n",
      "175/175 [==============================] - 1s 6ms/step - loss: 0.3433 - binary_accuracy: 0.8415 - val_loss: 0.3543 - val_binary_accuracy: 0.8385\n",
      "Epoch 35/200\n",
      "175/175 [==============================] - 1s 6ms/step - loss: 0.3436 - binary_accuracy: 0.8412 - val_loss: 0.3557 - val_binary_accuracy: 0.8387\n",
      "Epoch 36/200\n",
      "175/175 [==============================] - 1s 6ms/step - loss: 0.3415 - binary_accuracy: 0.8428 - val_loss: 0.3554 - val_binary_accuracy: 0.8402\n"
     ]
    },
    {
     "data": {
      "text/plain": [
       "<Axes: title={'center': 'Accuracy'}>"
      ]
     },
     "execution_count": 6,
     "metadata": {},
     "output_type": "execute_result"
    },
    {
     "data": {
      "image/png": "[encoded data removed]",
      "text/plain": [
       "<Figure size 640x480 with 1 Axes>"
      ]
     },
     "metadata": {},
     "output_type": "display_data"
    },
    {
     "data": {
      "image/png": "[encoded data removed]",
      "text/plain": [
       "<Figure size 640x480 with 1 Axes>"
      ]
     },
     "metadata": {},
     "output_type": "display_data"
    }
   ],
   "source": [
    "early_stopping = keras.callbacks.EarlyStopping(\n",
    "    patience=5,\n",
    "    min_delta=0.001,\n",
    "    restore_best_weights=True,\n",
    ")\n",
    "history = model.fit(\n",
    "    X_train, y_train,\n",
    "    validation_data=(X_valid, y_valid),\n",
    "    batch_size=512,\n",
    "    epochs=200,\n",
    "    callbacks=[early_stopping],\n",
    ")\n",
    "\n",
    "history_df = pd.DataFrame(history.history)\n",
    "history_df.loc[:, ['loss', 'val_loss']].plot(title=\"Cross-entropy\")\n",
    "history_df.loc[:, ['binary_accuracy', 'val_binary_accuracy']].plot(title=\"Accuracy\")"
   ]
  },
  {
   "cell_type": "markdown",
   "id": "e34bf68c",
   "metadata": {
    "papermill": {
     "duration": 0.05866,
     "end_time": "2023-07-31T02:43:48.382889",
     "exception": false,
     "start_time": "2023-07-31T02:43:48.324229",
     "status": "completed"
    },
    "tags": []
   },
   "source": [
    "# 3) Train and Evaluate #\n",
    "\n",
    "\n",
    "What do you think about the learning curves? Does it look like the model underfit or overfit? Was the cross-entropy loss a good stand-in for accuracy?"
   ]
  },
  {
   "cell_type": "code",
   "execution_count": 7,
   "id": "bbf79238",
   "metadata": {
    "execution": {
     "iopub.execute_input": "2023-07-31T02:43:48.503939Z",
     "iopub.status.busy": "2023-07-31T02:43:48.502902Z",
     "iopub.status.idle": "2023-07-31T02:43:48.511902Z",
     "shell.execute_reply": "2023-07-31T02:43:48.510836Z"
    },
    "papermill": {
     "duration": 0.073293,
     "end_time": "2023-07-31T02:43:48.515165",
     "exception": false,
     "start_time": "2023-07-31T02:43:48.441872",
     "status": "completed"
    },
    "tags": []
   },
   "outputs": [
    {
     "data": {
      "application/javascript": [
       "parent.postMessage({\"jupyterEvent\": \"custom.exercise_interaction\", \"data\": {\"outcomeType\": 1, \"valueTowardsCompletion\": 0.3333333333333333, \"interactionType\": 1, \"questionType\": 4, \"questionId\": \"3_Q3\", \"learnToolsVersion\": \"0.3.4\", \"failureMessage\": \"\", \"exceptionClass\": \"\", \"trace\": \"\"}}, \"*\")"
      ],
      "text/plain": [
       "<IPython.core.display.Javascript object>"
      ]
     },
     "metadata": {},
     "output_type": "display_data"
    },
    {
     "data": {
      "text/markdown": [
       "<span style=\"color:#33cc33\">Correct:</span> \n",
       "\n",
       "Though we can see the training loss continuing to fall, the early stopping callback prevented any overfitting. Moreover, the accuracy rose at the same rate as the cross-entropy fell, so it appears that minimizing cross-entropy was a good stand-in. All in all, it looks like this training was a success!"
      ],
      "text/plain": [
       "Correct: \n",
       "\n",
       "Though we can see the training loss continuing to fall, the early stopping callback prevented any overfitting. Moreover, the accuracy rose at the same rate as the cross-entropy fell, so it appears that minimizing cross-entropy was a good stand-in. All in all, it looks like this training was a success!"
      ]
     },
     "metadata": {},
     "output_type": "display_data"
    }
   ],
   "source": [
    "# View the solution (Run this cell to receive credit!)\n",
    "q_3.check()"
   ]
  },
  {
   "cell_type": "markdown",
   "id": "19d0d9f4",
   "metadata": {
    "papermill": {
     "duration": 0.059458,
     "end_time": "2023-07-31T02:43:48.634842",
     "exception": false,
     "start_time": "2023-07-31T02:43:48.575384",
     "status": "completed"
    },
    "tags": []
   },
   "source": [
    "# Conclusion #\n",
    "\n",
    "Congratulations! You've completed Kaggle's *Introduction to Deep Learning* course!\n",
    "\n",
    "With your new skills you're ready to take on more advanced applications like computer vision and sentiment classification. What would you like to do next?\n",
    "\n",
    "Why not try one of our *Getting Started* competitions?\n",
    "\n",
    "- Classify images with TPUs in [**Petals to the Metal**](https://www.kaggle.com/c/tpu-getting-started)\n",
    "- Create art with GANs in [**I'm Something of a Painter Myself**](https://www.kaggle.com/c/gan-getting-started)\n",
    "- Classify Tweets in [**Real or Not? NLP with Disaster Tweets**](https://www.kaggle.com/c/nlp-getting-started)\n",
    "- Detect contradiction and entailment in [**Contradictory, My Dear Watson**](https://www.kaggle.com/c/contradictory-my-dear-watson)\n",
    "\n",
    "Until next time, Kagglers!"
   ]
  },
  {
   "cell_type": "markdown",
   "id": "933fcb9a",
   "metadata": {
    "papermill": {
     "duration": 0.060147,
     "end_time": "2023-07-31T02:43:48.755480",
     "exception": false,
     "start_time": "2023-07-31T02:43:48.695333",
     "status": "completed"
    },
    "tags": []
   },
   "source": [
    "---\n",
    "\n",
    "\n",
    "\n",
    "\n",
    "*Have questions or comments? Visit the [course discussion forum](https://www.kaggle.com/learn/intro-to-deep-learning/discussion) to chat with other learners.*"
   ]
  }
 ],
 "metadata": {
  "kernelspec": {
   "display_name": "Python 3",
   "language": "python",
   "name": "python3"
  },
  "language_info": {
   "codemirror_mode": {
    "name": "ipython",
    "version": 3
   },
   "file_extension": ".py",
   "mimetype": "text/x-python",
   "name": "python",
   "nbconvert_exporter": "python",
   "pygments_lexer": "ipython3",
   "version": "3.10.12"
  },
  "papermill": {
   "default_parameters": {},
   "duration": 111.765625,
   "end_time": "2023-07-31T02:43:51.915867",
   "environment_variables": {},
   "exception": null,
   "input_path": "__notebook__.ipynb",
   "output_path": "__notebook__.ipynb",
   "parameters": {},
   "start_time": "2023-07-31T02:42:00.150242",
   "version": "2.4.0"
  }
 },
 "nbformat": 4,
 "nbformat_minor": 5
}
