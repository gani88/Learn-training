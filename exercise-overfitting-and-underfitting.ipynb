{
 "cells": [
  {
   "cell_type": "markdown",
   "id": "1ac3cbd0",
   "metadata": {
    "papermill": {
     "duration": 0.006272,
     "end_time": "2023-07-30T20:10:48.959959",
     "exception": false,
     "start_time": "2023-07-30T20:10:48.953687",
     "status": "completed"
    },
    "tags": []
   },
   "source": [
    "**This notebook is an exercise in the [Intro to Deep Learning](https://www.kaggle.com/learn/intro-to-deep-learning) course.  You can reference the tutorial at [this link](https://www.kaggle.com/ryanholbrook/overfitting-and-underfitting).**\n",
    "\n",
    "---\n"
   ]
  },
  {
   "cell_type": "markdown",
   "id": "a4bd6f72",
   "metadata": {
    "papermill": {
     "duration": 0.005435,
     "end_time": "2023-07-30T20:10:48.971294",
     "exception": false,
     "start_time": "2023-07-30T20:10:48.965859",
     "status": "completed"
    },
    "tags": []
   },
   "source": [
    "# Introduction #\n",
    "\n",
    "In this exercise, you’ll learn how to improve training outcomes by including an early stopping callback to prevent overfitting.\n",
    "\n",
    "When you're ready, run this next cell to set everything up!"
   ]
  },
  {
   "cell_type": "code",
   "execution_count": 1,
   "id": "67c83dc1",
   "metadata": {
    "execution": {
     "iopub.execute_input": "2023-07-30T20:10:48.984516Z",
     "iopub.status.busy": "2023-07-30T20:10:48.983932Z",
     "iopub.status.idle": "2023-07-30T20:10:49.030405Z",
     "shell.execute_reply": "2023-07-30T20:10:49.029473Z"
    },
    "papermill": {
     "duration": 0.055417,
     "end_time": "2023-07-30T20:10:49.032415",
     "exception": false,
     "start_time": "2023-07-30T20:10:48.976998",
     "status": "completed"
    },
    "tags": []
   },
   "outputs": [
    {
     "name": "stderr",
     "output_type": "stream",
     "text": [
      "/tmp/ipykernel_22/1500229236.py:3: MatplotlibDeprecationWarning: The seaborn styles shipped by Matplotlib are deprecated since 3.6, as they no longer correspond to the styles shipped by seaborn. However, they will remain available as 'seaborn-v0_8-<style>'. Alternatively, directly use the seaborn API instead.\n",
      "  plt.style.use('seaborn-whitegrid')\n"
     ]
    }
   ],
   "source": [
    "# Setup plotting\n",
    "import matplotlib.pyplot as plt\n",
    "plt.style.use('seaborn-whitegrid')\n",
    "# Set Matplotlib defaults\n",
    "plt.rc('figure', autolayout=True)\n",
    "plt.rc('axes', labelweight='bold', labelsize='large',\n",
    "       titleweight='bold', titlesize=18, titlepad=10)\n",
    "plt.rc('animation', html='html5')\n",
    "\n",
    "# Setup feedback system\n",
    "from learntools.core import binder\n",
    "binder.bind(globals())\n",
    "from learntools.deep_learning_intro.ex4 import *"
   ]
  },
  {
   "cell_type": "markdown",
   "id": "78c2d8c5",
   "metadata": {
    "papermill": {
     "duration": 0.005617,
     "end_time": "2023-07-30T20:10:49.043848",
     "exception": false,
     "start_time": "2023-07-30T20:10:49.038231",
     "status": "completed"
    },
    "tags": []
   },
   "source": [
    "First load the *Spotify* dataset. Your task will be to predict the popularity of a song based on various audio features, like `'tempo'`, `'danceability'`, and `'mode'`."
   ]
  },
  {
   "cell_type": "code",
   "execution_count": 2,
   "id": "636d5d11",
   "metadata": {
    "execution": {
     "iopub.execute_input": "2023-07-30T20:10:49.057025Z",
     "iopub.status.busy": "2023-07-30T20:10:49.056730Z",
     "iopub.status.idle": "2023-07-30T20:10:58.789142Z",
     "shell.execute_reply": "2023-07-30T20:10:58.788156Z"
    },
    "papermill": {
     "duration": 9.741653,
     "end_time": "2023-07-30T20:10:58.791243",
     "exception": false,
     "start_time": "2023-07-30T20:10:49.049590",
     "status": "completed"
    },
    "tags": []
   },
   "outputs": [
    {
     "name": "stderr",
     "output_type": "stream",
     "text": [
      "/opt/conda/lib/python3.10/site-packages/scipy/__init__.py:146: UserWarning: A NumPy version >=1.16.5 and <1.23.0 is required for this version of SciPy (detected version 1.23.5\n",
      "  warnings.warn(f\"A NumPy version >={np_minversion} and <{np_maxversion}\"\n",
      "/opt/conda/lib/python3.10/site-packages/tensorflow_io/python/ops/__init__.py:98: UserWarning: unable to load libtensorflow_io_plugins.so: unable to open file: libtensorflow_io_plugins.so, from paths: ['/opt/conda/lib/python3.10/site-packages/tensorflow_io/python/ops/libtensorflow_io_plugins.so']\n",
      "caused by: ['/opt/conda/lib/python3.10/site-packages/tensorflow_io/python/ops/libtensorflow_io_plugins.so: undefined symbol: _ZN3tsl6StatusC1EN10tensorflow5error4CodeESt17basic_string_viewIcSt11char_traitsIcEENS_14SourceLocationE']\n",
      "  warnings.warn(f\"unable to load libtensorflow_io_plugins.so: {e}\")\n",
      "/opt/conda/lib/python3.10/site-packages/tensorflow_io/python/ops/__init__.py:104: UserWarning: file system plugins are not loaded: unable to open file: libtensorflow_io.so, from paths: ['/opt/conda/lib/python3.10/site-packages/tensorflow_io/python/ops/libtensorflow_io.so']\n",
      "caused by: ['/opt/conda/lib/python3.10/site-packages/tensorflow_io/python/ops/libtensorflow_io.so: undefined symbol: _ZTVN10tensorflow13GcsFileSystemE']\n",
      "  warnings.warn(f\"file system plugins are not loaded: {e}\")\n"
     ]
    },
    {
     "name": "stdout",
     "output_type": "stream",
     "text": [
      "Input shape: [18]\n"
     ]
    }
   ],
   "source": [
    "import pandas as pd\n",
    "from sklearn.preprocessing import StandardScaler, OneHotEncoder\n",
    "from sklearn.compose import make_column_transformer\n",
    "from sklearn.model_selection import GroupShuffleSplit\n",
    "\n",
    "from tensorflow import keras\n",
    "from tensorflow.keras import layers\n",
    "from tensorflow.keras import callbacks\n",
    "\n",
    "spotify = pd.read_csv('../input/dl-course-data/spotify.csv')\n",
    "\n",
    "X = spotify.copy().dropna()\n",
    "y = X.pop('track_popularity')\n",
    "artists = X['track_artist']\n",
    "\n",
    "features_num = ['danceability', 'energy', 'key', 'loudness', 'mode',\n",
    "                'speechiness', 'acousticness', 'instrumentalness',\n",
    "                'liveness', 'valence', 'tempo', 'duration_ms']\n",
    "features_cat = ['playlist_genre']\n",
    "\n",
    "preprocessor = make_column_transformer(\n",
    "    (StandardScaler(), features_num),\n",
    "    (OneHotEncoder(), features_cat),\n",
    ")\n",
    "\n",
    "# We'll do a \"grouped\" split to keep all of an artist's songs in one\n",
    "# split or the other. This is to help prevent signal leakage.\n",
    "def group_split(X, y, group, train_size=0.75):\n",
    "    splitter = GroupShuffleSplit(train_size=train_size)\n",
    "    train, test = next(splitter.split(X, y, groups=group))\n",
    "    return (X.iloc[train], X.iloc[test], y.iloc[train], y.iloc[test])\n",
    "\n",
    "X_train, X_valid, y_train, y_valid = group_split(X, y, artists)\n",
    "\n",
    "X_train = preprocessor.fit_transform(X_train)\n",
    "X_valid = preprocessor.transform(X_valid)\n",
    "y_train = y_train / 100 # popularity is on a scale 0-100, so this rescales to 0-1.\n",
    "y_valid = y_valid / 100\n",
    "\n",
    "input_shape = [X_train.shape[1]]\n",
    "print(\"Input shape: {}\".format(input_shape))"
   ]
  },
  {
   "cell_type": "markdown",
   "id": "d356af34",
   "metadata": {
    "papermill": {
     "duration": 0.005906,
     "end_time": "2023-07-30T20:10:58.803458",
     "exception": false,
     "start_time": "2023-07-30T20:10:58.797552",
     "status": "completed"
    },
    "tags": []
   },
   "source": [
    "Let's start with the simplest network, a linear model. This model has low capacity.\n",
    "\n",
    "Run this next cell without any changes to train a linear model on the *Spotify* dataset."
   ]
  },
  {
   "cell_type": "code",
   "execution_count": 3,
   "id": "fe281145",
   "metadata": {
    "execution": {
     "iopub.execute_input": "2023-07-30T20:10:58.816704Z",
     "iopub.status.busy": "2023-07-30T20:10:58.816398Z",
     "iopub.status.idle": "2023-07-30T20:11:23.330812Z",
     "shell.execute_reply": "2023-07-30T20:11:23.329872Z"
    },
    "lines_to_next_cell": 0,
    "papermill": {
     "duration": 24.523441,
     "end_time": "2023-07-30T20:11:23.332862",
     "exception": false,
     "start_time": "2023-07-30T20:10:58.809421",
     "status": "completed"
    },
    "tags": []
   },
   "outputs": [
    {
     "name": "stdout",
     "output_type": "stream",
     "text": [
      "Minimum Validation Loss: 0.2029\n"
     ]
    },
    {
     "data": {
      "image/png": "[encoded data removed]",
      "text/plain": [
       "<Figure size 640x480 with 1 Axes>"
      ]
     },
     "metadata": {},
     "output_type": "display_data"
    }
   ],
   "source": [
    "model = keras.Sequential([\n",
    "    layers.Dense(1, input_shape=input_shape),\n",
    "])\n",
    "model.compile(\n",
    "    optimizer='adam',\n",
    "    loss='mae',\n",
    ")\n",
    "history = model.fit(\n",
    "    X_train, y_train,\n",
    "    validation_data=(X_valid, y_valid),\n",
    "    batch_size=512,\n",
    "    epochs=50,\n",
    "    verbose=0, # suppress output since we'll plot the curves\n",
    ")\n",
    "history_df = pd.DataFrame(history.history)\n",
    "history_df.loc[0:, ['loss', 'val_loss']].plot()\n",
    "print(\"Minimum Validation Loss: {:0.4f}\".format(history_df['val_loss'].min()));"
   ]
  },
  {
   "cell_type": "markdown",
   "id": "2f29d038",
   "metadata": {
    "papermill": {
     "duration": 0.006481,
     "end_time": "2023-07-30T20:11:23.346044",
     "exception": false,
     "start_time": "2023-07-30T20:11:23.339563",
     "status": "completed"
    },
    "tags": []
   },
   "source": [
    "It's not uncommon for the curves to follow a \"hockey stick\" pattern like you see here. This makes the final part of training hard to see, so let's start at epoch 10 instead:"
   ]
  },
  {
   "cell_type": "code",
   "execution_count": 4,
   "id": "b4f0a5dc",
   "metadata": {
    "execution": {
     "iopub.execute_input": "2023-07-30T20:11:23.361177Z",
     "iopub.status.busy": "2023-07-30T20:11:23.360231Z",
     "iopub.status.idle": "2023-07-30T20:11:23.809841Z",
     "shell.execute_reply": "2023-07-30T20:11:23.808881Z"
    },
    "papermill": {
     "duration": 0.459135,
     "end_time": "2023-07-30T20:11:23.811916",
     "exception": false,
     "start_time": "2023-07-30T20:11:23.352781",
     "status": "completed"
    },
    "tags": []
   },
   "outputs": [
    {
     "name": "stdout",
     "output_type": "stream",
     "text": [
      "Minimum Validation Loss: 0.2029\n"
     ]
    },
    {
     "data": {
      "image/png": "[encoded data removed]",
      "text/plain": [
       "<Figure size 640x480 with 1 Axes>"
      ]
     },
     "metadata": {},
     "output_type": "display_data"
    }
   ],
   "source": [
    "# Start the plot at epoch 10\n",
    "history_df.loc[10:, ['loss', 'val_loss']].plot()\n",
    "print(\"Minimum Validation Loss: {:0.4f}\".format(history_df['val_loss'].min()));"
   ]
  },
  {
   "cell_type": "markdown",
   "id": "8ebcc733",
   "metadata": {
    "papermill": {
     "duration": 0.007005,
     "end_time": "2023-07-30T20:11:23.826438",
     "exception": false,
     "start_time": "2023-07-30T20:11:23.819433",
     "status": "completed"
    },
    "tags": []
   },
   "source": [
    "# 1) Evaluate Baseline\n",
    "\n",
    "What do you think? Would you say this model is underfitting, overfitting, just right?"
   ]
  },
  {
   "cell_type": "code",
   "execution_count": 5,
   "id": "b9286348",
   "metadata": {
    "execution": {
     "iopub.execute_input": "2023-07-30T20:11:23.842724Z",
     "iopub.status.busy": "2023-07-30T20:11:23.841864Z",
     "iopub.status.idle": "2023-07-30T20:11:23.850530Z",
     "shell.execute_reply": "2023-07-30T20:11:23.849482Z"
    },
    "papermill": {
     "duration": 0.020009,
     "end_time": "2023-07-30T20:11:23.853496",
     "exception": false,
     "start_time": "2023-07-30T20:11:23.833487",
     "status": "completed"
    },
    "tags": []
   },
   "outputs": [
    {
     "data": {
      "application/javascript": [
       "parent.postMessage({\"jupyterEvent\": \"custom.exercise_interaction\", \"data\": {\"outcomeType\": 1, \"valueTowardsCompletion\": 0.25, \"interactionType\": 1, \"questionType\": 4, \"questionId\": \"1_Q1\", \"learnToolsVersion\": \"0.3.4\", \"failureMessage\": \"\", \"exceptionClass\": \"\", \"trace\": \"\"}}, \"*\")"
      ],
      "text/plain": [
       "<IPython.core.display.Javascript object>"
      ]
     },
     "metadata": {},
     "output_type": "display_data"
    },
    {
     "data": {
      "text/markdown": [
       "<span style=\"color:#33cc33\">Correct:</span> \n",
       "\n",
       "The gap between these curves is quite small and the validation loss never increases, so it's more likely that the network is underfitting than overfitting. It would be worth experimenting with more capacity to see if that's the case."
      ],
      "text/plain": [
       "Correct: \n",
       "\n",
       "The gap between these curves is quite small and the validation loss never increases, so it's more likely that the network is underfitting than overfitting. It would be worth experimenting with more capacity to see if that's the case."
      ]
     },
     "metadata": {},
     "output_type": "display_data"
    }
   ],
   "source": [
    "# View the solution (Run this cell to receive credit!)\n",
    "q_1.check()"
   ]
  },
  {
   "cell_type": "markdown",
   "id": "f612f43d",
   "metadata": {
    "papermill": {
     "duration": 0.007165,
     "end_time": "2023-07-30T20:11:23.867994",
     "exception": false,
     "start_time": "2023-07-30T20:11:23.860829",
     "status": "completed"
    },
    "tags": []
   },
   "source": [
    "Now let's add some capacity to our network. We'll add three hidden layers with 128 units each. Run the next cell to train the network and see the learning curves."
   ]
  },
  {
   "cell_type": "code",
   "execution_count": 6,
   "id": "9fc09cf3",
   "metadata": {
    "execution": {
     "iopub.execute_input": "2023-07-30T20:11:23.883916Z",
     "iopub.status.busy": "2023-07-30T20:11:23.883621Z",
     "iopub.status.idle": "2023-07-30T20:11:35.972806Z",
     "shell.execute_reply": "2023-07-30T20:11:35.971874Z"
    },
    "papermill": {
     "duration": 12.099659,
     "end_time": "2023-07-30T20:11:35.974952",
     "exception": false,
     "start_time": "2023-07-30T20:11:23.875293",
     "status": "completed"
    },
    "tags": []
   },
   "outputs": [
    {
     "name": "stdout",
     "output_type": "stream",
     "text": [
      "Epoch 1/50\n",
      "48/48 [==============================] - 2s 6ms/step - loss: 0.2288 - val_loss: 0.2139\n",
      "Epoch 2/50\n",
      "48/48 [==============================] - 0s 5ms/step - loss: 0.1984 - val_loss: 0.2073\n",
      "Epoch 3/50\n",
      "48/48 [==============================] - 0s 5ms/step - loss: 0.1942 - val_loss: 0.2053\n",
      "Epoch 4/50\n",
      "48/48 [==============================] - 0s 5ms/step - loss: 0.1907 - val_loss: 0.2032\n",
      "Epoch 5/50\n",
      "48/48 [==============================] - 0s 4ms/step - loss: 0.1879 - val_loss: 0.2049\n",
      "Epoch 6/50\n",
      "48/48 [==============================] - 0s 4ms/step - loss: 0.1869 - val_loss: 0.2041\n",
      "Epoch 7/50\n",
      "48/48 [==============================] - 0s 4ms/step - loss: 0.1856 - val_loss: 0.2035\n",
      "Epoch 8/50\n",
      "48/48 [==============================] - 0s 4ms/step - loss: 0.1851 - val_loss: 0.2033\n",
      "Epoch 9/50\n",
      "48/48 [==============================] - 0s 4ms/step - loss: 0.1839 - val_loss: 0.2032\n",
      "Epoch 10/50\n",
      "48/48 [==============================] - 0s 4ms/step - loss: 0.1828 - val_loss: 0.2033\n",
      "Epoch 11/50\n",
      "48/48 [==============================] - 0s 4ms/step - loss: 0.1826 - val_loss: 0.2040\n",
      "Epoch 12/50\n",
      "48/48 [==============================] - 0s 4ms/step - loss: 0.1815 - val_loss: 0.2036\n",
      "Epoch 13/50\n",
      "48/48 [==============================] - 0s 5ms/step - loss: 0.1806 - val_loss: 0.2036\n",
      "Epoch 14/50\n",
      "48/48 [==============================] - 0s 4ms/step - loss: 0.1805 - val_loss: 0.2041\n",
      "Epoch 15/50\n",
      "48/48 [==============================] - 0s 4ms/step - loss: 0.1797 - val_loss: 0.2043\n",
      "Epoch 16/50\n",
      "48/48 [==============================] - 0s 4ms/step - loss: 0.1788 - val_loss: 0.2045\n",
      "Epoch 17/50\n",
      "48/48 [==============================] - 0s 5ms/step - loss: 0.1786 - val_loss: 0.2053\n",
      "Epoch 18/50\n",
      "48/48 [==============================] - 0s 4ms/step - loss: 0.1776 - val_loss: 0.2041\n",
      "Epoch 19/50\n",
      "48/48 [==============================] - 0s 4ms/step - loss: 0.1771 - val_loss: 0.2054\n",
      "Epoch 20/50\n",
      "48/48 [==============================] - 0s 4ms/step - loss: 0.1765 - val_loss: 0.2054\n",
      "Epoch 21/50\n",
      "48/48 [==============================] - 0s 4ms/step - loss: 0.1761 - val_loss: 0.2039\n",
      "Epoch 22/50\n",
      "48/48 [==============================] - 0s 4ms/step - loss: 0.1760 - val_loss: 0.2042\n",
      "Epoch 23/50\n",
      "48/48 [==============================] - 0s 4ms/step - loss: 0.1743 - val_loss: 0.2045\n",
      "Epoch 24/50\n",
      "48/48 [==============================] - 0s 5ms/step - loss: 0.1744 - val_loss: 0.2076\n",
      "Epoch 25/50\n",
      "48/48 [==============================] - 0s 4ms/step - loss: 0.1743 - val_loss: 0.2069\n",
      "Epoch 26/50\n",
      "48/48 [==============================] - 0s 4ms/step - loss: 0.1736 - val_loss: 0.2054\n",
      "Epoch 27/50\n",
      "48/48 [==============================] - 0s 5ms/step - loss: 0.1733 - val_loss: 0.2062\n",
      "Epoch 28/50\n",
      "48/48 [==============================] - 0s 4ms/step - loss: 0.1728 - val_loss: 0.2052\n",
      "Epoch 29/50\n",
      "48/48 [==============================] - 0s 5ms/step - loss: 0.1717 - val_loss: 0.2062\n",
      "Epoch 30/50\n",
      "48/48 [==============================] - 0s 4ms/step - loss: 0.1716 - val_loss: 0.2077\n",
      "Epoch 31/50\n",
      "48/48 [==============================] - 0s 4ms/step - loss: 0.1716 - val_loss: 0.2060\n",
      "Epoch 32/50\n",
      "48/48 [==============================] - 0s 5ms/step - loss: 0.1713 - val_loss: 0.2071\n",
      "Epoch 33/50\n",
      "48/48 [==============================] - 0s 4ms/step - loss: 0.1701 - val_loss: 0.2073\n",
      "Epoch 34/50\n",
      "48/48 [==============================] - 0s 4ms/step - loss: 0.1706 - val_loss: 0.2067\n",
      "Epoch 35/50\n",
      "48/48 [==============================] - 0s 4ms/step - loss: 0.1696 - val_loss: 0.2082\n",
      "Epoch 36/50\n",
      "48/48 [==============================] - 0s 4ms/step - loss: 0.1689 - val_loss: 0.2081\n",
      "Epoch 37/50\n",
      "48/48 [==============================] - 0s 4ms/step - loss: 0.1681 - val_loss: 0.2076\n",
      "Epoch 38/50\n",
      "48/48 [==============================] - 0s 4ms/step - loss: 0.1682 - val_loss: 0.2084\n",
      "Epoch 39/50\n",
      "48/48 [==============================] - 0s 4ms/step - loss: 0.1681 - val_loss: 0.2076\n",
      "Epoch 40/50\n",
      "48/48 [==============================] - 0s 4ms/step - loss: 0.1685 - val_loss: 0.2083\n",
      "Epoch 41/50\n",
      "48/48 [==============================] - 0s 4ms/step - loss: 0.1674 - val_loss: 0.2089\n",
      "Epoch 42/50\n",
      "48/48 [==============================] - 0s 4ms/step - loss: 0.1669 - val_loss: 0.2094\n",
      "Epoch 43/50\n",
      "48/48 [==============================] - 0s 4ms/step - loss: 0.1666 - val_loss: 0.2090\n",
      "Epoch 44/50\n",
      "48/48 [==============================] - 0s 5ms/step - loss: 0.1662 - val_loss: 0.2097\n",
      "Epoch 45/50\n",
      "48/48 [==============================] - 0s 4ms/step - loss: 0.1651 - val_loss: 0.2094\n",
      "Epoch 46/50\n",
      "48/48 [==============================] - 0s 4ms/step - loss: 0.1653 - val_loss: 0.2094\n",
      "Epoch 47/50\n",
      "48/48 [==============================] - 0s 4ms/step - loss: 0.1642 - val_loss: 0.2098\n",
      "Epoch 48/50\n",
      "48/48 [==============================] - 0s 4ms/step - loss: 0.1641 - val_loss: 0.2090\n",
      "Epoch 49/50\n",
      "48/48 [==============================] - 0s 5ms/step - loss: 0.1644 - val_loss: 0.2115\n",
      "Epoch 50/50\n",
      "48/48 [==============================] - 0s 4ms/step - loss: 0.1639 - val_loss: 0.2096\n",
      "Minimum Validation Loss: 0.2032\n"
     ]
    },
    {
     "data": {
      "image/png": "[encoded data removed]",
      "text/plain": [
       "<Figure size 640x480 with 1 Axes>"
      ]
     },
     "metadata": {},
     "output_type": "display_data"
    }
   ],
   "source": [
    "model = keras.Sequential([\n",
    "    layers.Dense(128, activation='relu', input_shape=input_shape),\n",
    "    layers.Dense(64, activation='relu'),\n",
    "    layers.Dense(1)\n",
    "])\n",
    "model.compile(\n",
    "    optimizer='adam',\n",
    "    loss='mae',\n",
    ")\n",
    "history = model.fit(\n",
    "    X_train, y_train,\n",
    "    validation_data=(X_valid, y_valid),\n",
    "    batch_size=512,\n",
    "    epochs=50,\n",
    ")\n",
    "history_df = pd.DataFrame(history.history)\n",
    "history_df.loc[:, ['loss', 'val_loss']].plot()\n",
    "print(\"Minimum Validation Loss: {:0.4f}\".format(history_df['val_loss'].min()));"
   ]
  },
  {
   "cell_type": "markdown",
   "id": "c243ccf8",
   "metadata": {
    "papermill": {
     "duration": 0.026669,
     "end_time": "2023-07-30T20:11:36.028165",
     "exception": false,
     "start_time": "2023-07-30T20:11:36.001496",
     "status": "completed"
    },
    "tags": []
   },
   "source": [
    "# 2) Add Capacity\n",
    "\n",
    "What is your evaluation of these curves? Underfitting, overfitting, just right?"
   ]
  },
  {
   "cell_type": "code",
   "execution_count": 7,
   "id": "9de3e337",
   "metadata": {
    "execution": {
     "iopub.execute_input": "2023-07-30T20:11:36.094830Z",
     "iopub.status.busy": "2023-07-30T20:11:36.094493Z",
     "iopub.status.idle": "2023-07-30T20:11:36.107793Z",
     "shell.execute_reply": "2023-07-30T20:11:36.106080Z"
    },
    "papermill": {
     "duration": 0.062617,
     "end_time": "2023-07-30T20:11:36.117009",
     "exception": false,
     "start_time": "2023-07-30T20:11:36.054392",
     "status": "completed"
    },
    "tags": []
   },
   "outputs": [
    {
     "data": {
      "application/javascript": [
       "parent.postMessage({\"jupyterEvent\": \"custom.exercise_interaction\", \"data\": {\"outcomeType\": 1, \"valueTowardsCompletion\": 0.25, \"interactionType\": 1, \"questionType\": 4, \"questionId\": \"2_Q2\", \"learnToolsVersion\": \"0.3.4\", \"failureMessage\": \"\", \"exceptionClass\": \"\", \"trace\": \"\"}}, \"*\")"
      ],
      "text/plain": [
       "<IPython.core.display.Javascript object>"
      ]
     },
     "metadata": {},
     "output_type": "display_data"
    },
    {
     "data": {
      "text/markdown": [
       "<span style=\"color:#33cc33\">Correct:</span> \n",
       "\n",
       "Now the validation loss begins to rise very early, while the training loss continues to decrease. This indicates that the network has begun to overfit. At this point, we would need to try something to prevent it, either by reducing the number of units or through a method like early stopping. (We'll see another in the next lesson!)"
      ],
      "text/plain": [
       "Correct: \n",
       "\n",
       "Now the validation loss begins to rise very early, while the training loss continues to decrease. This indicates that the network has begun to overfit. At this point, we would need to try something to prevent it, either by reducing the number of units or through a method like early stopping. (We'll see another in the next lesson!)"
      ]
     },
     "metadata": {},
     "output_type": "display_data"
    }
   ],
   "source": [
    "# View the solution (Run this cell to receive credit!)\n",
    "q_2.check()"
   ]
  },
  {
   "cell_type": "markdown",
   "id": "2dc308b4",
   "metadata": {
    "papermill": {
     "duration": 0.029994,
     "end_time": "2023-07-30T20:11:36.195145",
     "exception": false,
     "start_time": "2023-07-30T20:11:36.165151",
     "status": "completed"
    },
    "tags": []
   },
   "source": [
    "# 3) Define Early Stopping Callback\n",
    "\n",
    "Now define an early stopping callback that waits 5 epochs (`patience'`) for a change in validation loss of at least `0.001` (`min_delta`) and keeps the weights with the best loss (`restore_best_weights`)."
   ]
  },
  {
   "cell_type": "code",
   "execution_count": 8,
   "id": "72399a86",
   "metadata": {
    "execution": {
     "iopub.execute_input": "2023-07-30T20:11:36.250406Z",
     "iopub.status.busy": "2023-07-30T20:11:36.250058Z",
     "iopub.status.idle": "2023-07-30T20:11:36.258338Z",
     "shell.execute_reply": "2023-07-30T20:11:36.257462Z"
    },
    "lines_to_next_cell": 0,
    "papermill": {
     "duration": 0.038152,
     "end_time": "2023-07-30T20:11:36.260557",
     "exception": false,
     "start_time": "2023-07-30T20:11:36.222405",
     "status": "completed"
    },
    "tags": []
   },
   "outputs": [
    {
     "data": {
      "application/javascript": [
       "parent.postMessage({\"jupyterEvent\": \"custom.exercise_interaction\", \"data\": {\"outcomeType\": 1, \"valueTowardsCompletion\": 0.25, \"interactionType\": 1, \"questionType\": 2, \"questionId\": \"3_Q3\", \"learnToolsVersion\": \"0.3.4\", \"failureMessage\": \"\", \"exceptionClass\": \"\", \"trace\": \"\"}}, \"*\")"
      ],
      "text/plain": [
       "<IPython.core.display.Javascript object>"
      ]
     },
     "metadata": {},
     "output_type": "display_data"
    },
    {
     "data": {
      "text/markdown": [
       "<span style=\"color:#33cc33\">Correct</span>"
      ],
      "text/plain": [
       "Correct"
      ]
     },
     "metadata": {},
     "output_type": "display_data"
    }
   ],
   "source": [
    "from tensorflow.keras import callbacks\n",
    "\n",
    "# YOUR CODE HERE: define an early stopping callback\n",
    "early_stopping = callbacks.EarlyStopping(\n",
    "                min_delta=0.001,\n",
    "                patience=5,\n",
    "                restore_best_weights=True)\n",
    "\n",
    "# Check your answer\n",
    "q_3.check()"
   ]
  },
  {
   "cell_type": "code",
   "execution_count": 9,
   "id": "66028405",
   "metadata": {
    "execution": {
     "iopub.execute_input": "2023-07-30T20:11:36.315354Z",
     "iopub.status.busy": "2023-07-30T20:11:36.315065Z",
     "iopub.status.idle": "2023-07-30T20:11:36.319046Z",
     "shell.execute_reply": "2023-07-30T20:11:36.318015Z"
    },
    "papermill": {
     "duration": 0.03441,
     "end_time": "2023-07-30T20:11:36.321455",
     "exception": false,
     "start_time": "2023-07-30T20:11:36.287045",
     "status": "completed"
    },
    "tags": []
   },
   "outputs": [],
   "source": [
    "# Lines below will give you a hint or solution code\n",
    "#q_3.hint()\n",
    "#q_3.solution()"
   ]
  },
  {
   "cell_type": "markdown",
   "id": "68bdb11b",
   "metadata": {
    "papermill": {
     "duration": 0.026806,
     "end_time": "2023-07-30T20:11:36.375174",
     "exception": false,
     "start_time": "2023-07-30T20:11:36.348368",
     "status": "completed"
    },
    "tags": []
   },
   "source": [
    "Now run this cell to train the model and get the learning curves. Notice the `callbacks` argument in `model.fit`."
   ]
  },
  {
   "cell_type": "code",
   "execution_count": 10,
   "id": "9e628688",
   "metadata": {
    "execution": {
     "iopub.execute_input": "2023-07-30T20:11:36.429813Z",
     "iopub.status.busy": "2023-07-30T20:11:36.429484Z",
     "iopub.status.idle": "2023-07-30T20:11:40.254123Z",
     "shell.execute_reply": "2023-07-30T20:11:40.253178Z"
    },
    "papermill": {
     "duration": 3.854586,
     "end_time": "2023-07-30T20:11:40.256290",
     "exception": false,
     "start_time": "2023-07-30T20:11:36.401704",
     "status": "completed"
    },
    "tags": []
   },
   "outputs": [
    {
     "name": "stdout",
     "output_type": "stream",
     "text": [
      "Epoch 1/50\n",
      "48/48 [==============================] - 1s 6ms/step - loss: 0.2387 - val_loss: 0.2132\n",
      "Epoch 2/50\n",
      "48/48 [==============================] - 0s 4ms/step - loss: 0.2007 - val_loss: 0.2067\n",
      "Epoch 3/50\n",
      "48/48 [==============================] - 0s 4ms/step - loss: 0.1943 - val_loss: 0.2052\n",
      "Epoch 4/50\n",
      "48/48 [==============================] - 0s 5ms/step - loss: 0.1915 - val_loss: 0.2050\n",
      "Epoch 5/50\n",
      "48/48 [==============================] - 0s 5ms/step - loss: 0.1892 - val_loss: 0.2028\n",
      "Epoch 6/50\n",
      "48/48 [==============================] - 0s 4ms/step - loss: 0.1873 - val_loss: 0.2028\n",
      "Epoch 7/50\n",
      "48/48 [==============================] - 0s 4ms/step - loss: 0.1858 - val_loss: 0.2024\n",
      "Epoch 8/50\n",
      "48/48 [==============================] - 0s 5ms/step - loss: 0.1849 - val_loss: 0.2027\n",
      "Epoch 9/50\n",
      "48/48 [==============================] - 0s 5ms/step - loss: 0.1840 - val_loss: 0.2034\n",
      "Epoch 10/50\n",
      "48/48 [==============================] - 0s 5ms/step - loss: 0.1835 - val_loss: 0.2026\n",
      "Minimum Validation Loss: 0.2024\n"
     ]
    },
    {
     "data": {
      "image/png": "[encoded data removed]",
      "text/plain": [
       "<Figure size 640x480 with 1 Axes>"
      ]
     },
     "metadata": {},
     "output_type": "display_data"
    }
   ],
   "source": [
    "model = keras.Sequential([\n",
    "    layers.Dense(128, activation='relu', input_shape=input_shape),\n",
    "    layers.Dense(64, activation='relu'),    \n",
    "    layers.Dense(1)\n",
    "])\n",
    "model.compile(\n",
    "    optimizer='adam',\n",
    "    loss='mae',\n",
    ")\n",
    "history = model.fit(\n",
    "    X_train, y_train,\n",
    "    validation_data=(X_valid, y_valid),\n",
    "    batch_size=512,\n",
    "    epochs=50,\n",
    "    callbacks=[early_stopping]\n",
    ")\n",
    "history_df = pd.DataFrame(history.history)\n",
    "history_df.loc[:, ['loss', 'val_loss']].plot()\n",
    "print(\"Minimum Validation Loss: {:0.4f}\".format(history_df['val_loss'].min()));"
   ]
  },
  {
   "cell_type": "markdown",
   "id": "34ec47b7",
   "metadata": {
    "papermill": {
     "duration": 0.031071,
     "end_time": "2023-07-30T20:11:40.318869",
     "exception": false,
     "start_time": "2023-07-30T20:11:40.287798",
     "status": "completed"
    },
    "tags": []
   },
   "source": [
    "# 4) Train and Interpret\n",
    "\n",
    "Was this an improvement compared to training without early stopping?"
   ]
  },
  {
   "cell_type": "code",
   "execution_count": 11,
   "id": "aaa832e6",
   "metadata": {
    "execution": {
     "iopub.execute_input": "2023-07-30T20:11:40.382941Z",
     "iopub.status.busy": "2023-07-30T20:11:40.381994Z",
     "iopub.status.idle": "2023-07-30T20:11:40.390955Z",
     "shell.execute_reply": "2023-07-30T20:11:40.389904Z"
    },
    "papermill": {
     "duration": 0.044077,
     "end_time": "2023-07-30T20:11:40.393892",
     "exception": false,
     "start_time": "2023-07-30T20:11:40.349815",
     "status": "completed"
    },
    "tags": []
   },
   "outputs": [
    {
     "data": {
      "application/javascript": [
       "parent.postMessage({\"jupyterEvent\": \"custom.exercise_interaction\", \"data\": {\"outcomeType\": 1, \"valueTowardsCompletion\": 0.25, \"interactionType\": 1, \"questionType\": 4, \"questionId\": \"4_Q4\", \"learnToolsVersion\": \"0.3.4\", \"failureMessage\": \"\", \"exceptionClass\": \"\", \"trace\": \"\"}}, \"*\")"
      ],
      "text/plain": [
       "<IPython.core.display.Javascript object>"
      ]
     },
     "metadata": {},
     "output_type": "display_data"
    },
    {
     "data": {
      "text/markdown": [
       "<span style=\"color:#33cc33\">Correct:</span> \n",
       "\n",
       "The early stopping callback did stop the training once the network began overfitting. Moreover, by including `restore_best_weights` we still get to keep the model where validation loss was lowest."
      ],
      "text/plain": [
       "Correct: \n",
       "\n",
       "The early stopping callback did stop the training once the network began overfitting. Moreover, by including `restore_best_weights` we still get to keep the model where validation loss was lowest."
      ]
     },
     "metadata": {},
     "output_type": "display_data"
    }
   ],
   "source": [
    "# View the solution (Run this cell to receive credit!)\n",
    "q_4.check()"
   ]
  },
  {
   "cell_type": "markdown",
   "id": "372f904b",
   "metadata": {
    "papermill": {
     "duration": 0.031251,
     "end_time": "2023-07-30T20:11:40.456404",
     "exception": false,
     "start_time": "2023-07-30T20:11:40.425153",
     "status": "completed"
    },
    "tags": []
   },
   "source": [
    "If you like, try experimenting with `patience` and `min_delta` to see what difference it might make.\n",
    "\n",
    "# Keep Going #\n",
    "\n",
    "Move on to [**learn about a couple of special layers**](https://www.kaggle.com/ryanholbrook/dropout-and-batch-normalization): batch normalization and dropout."
   ]
  },
  {
   "cell_type": "markdown",
   "id": "38e79bdd",
   "metadata": {
    "papermill": {
     "duration": 0.030775,
     "end_time": "2023-07-30T20:11:40.518876",
     "exception": false,
     "start_time": "2023-07-30T20:11:40.488101",
     "status": "completed"
    },
    "tags": []
   },
   "source": [
    "---\n",
    "\n",
    "\n",
    "\n",
    "\n",
    "*Have questions or comments? Visit the [course discussion forum](https://www.kaggle.com/learn/intro-to-deep-learning/discussion) to chat with other learners.*"
   ]
  }
 ],
 "metadata": {
  "kernelspec": {
   "display_name": "Python 3",
   "language": "python",
   "name": "python3"
  },
  "language_info": {
   "codemirror_mode": {
    "name": "ipython",
    "version": 3
   },
   "file_extension": ".py",
   "mimetype": "text/x-python",
   "name": "python",
   "nbconvert_exporter": "python",
   "pygments_lexer": "ipython3",
   "version": "3.10.12"
  },
  "papermill": {
   "default_parameters": {},
   "duration": 64.740959,
   "end_time": "2023-07-30T20:11:43.477560",
   "environment_variables": {},
   "exception": null,
   "input_path": "__notebook__.ipynb",
   "output_path": "__notebook__.ipynb",
   "parameters": {},
   "start_time": "2023-07-30T20:10:38.736601",
   "version": "2.4.0"
  }
 },
 "nbformat": 4,
 "nbformat_minor": 5
}
